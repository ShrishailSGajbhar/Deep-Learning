{
 "cells": [
  {
   "cell_type": "code",
   "execution_count": 1,
   "metadata": {
    "colab": {},
    "colab_type": "code",
    "id": "Y62le--iNQ_g"
   },
   "outputs": [],
   "source": [
    "import sklearn.datasets\n",
    "import numpy as np"
   ]
  },
  {
   "cell_type": "markdown",
   "metadata": {
    "colab_type": "text",
    "id": "AYxDp-YaUEEC"
   },
   "source": [
    "# Loading dataset"
   ]
  },
  {
   "cell_type": "code",
   "execution_count": 2,
   "metadata": {
    "colab": {},
    "colab_type": "code",
    "id": "ClBCeOpjPvw3"
   },
   "outputs": [],
   "source": [
    "breast_cancer = sklearn.datasets.load_breast_cancer()"
   ]
  },
  {
   "cell_type": "code",
   "execution_count": 3,
   "metadata": {
    "colab": {},
    "colab_type": "code",
    "id": "vKGZCnP7P68V"
   },
   "outputs": [],
   "source": [
    "X = breast_cancer.data\n",
    "Y = breast_cancer.target"
   ]
  },
  {
   "cell_type": "code",
   "execution_count": 4,
   "metadata": {
    "colab": {
     "base_uri": "https://localhost:8080/",
     "height": 457
    },
    "colab_type": "code",
    "id": "9SMigpY8QCv5",
    "outputId": "ceb67b18-ab8d-4333-cf59-f9d7b3ae1e3b"
   },
   "outputs": [
    {
     "name": "stdout",
     "output_type": "stream",
     "text": [
      "[[1.799e+01 1.038e+01 1.228e+02 ... 2.654e-01 4.601e-01 1.189e-01]\n",
      " [2.057e+01 1.777e+01 1.329e+02 ... 1.860e-01 2.750e-01 8.902e-02]\n",
      " [1.969e+01 2.125e+01 1.300e+02 ... 2.430e-01 3.613e-01 8.758e-02]\n",
      " ...\n",
      " [1.660e+01 2.808e+01 1.083e+02 ... 1.418e-01 2.218e-01 7.820e-02]\n",
      " [2.060e+01 2.933e+01 1.401e+02 ... 2.650e-01 4.087e-01 1.240e-01]\n",
      " [7.760e+00 2.454e+01 4.792e+01 ... 0.000e+00 2.871e-01 7.039e-02]]\n",
      "[0 0 0 0 0 0 0 0 0 0 0 0 0 0 0 0 0 0 0 1 1 1 0 0 0 0 0 0 0 0 0 0 0 0 0 0 0\n",
      " 1 0 0 0 0 0 0 0 0 1 0 1 1 1 1 1 0 0 1 0 0 1 1 1 1 0 1 0 0 1 1 1 1 0 1 0 0\n",
      " 1 0 1 0 0 1 1 1 0 0 1 0 0 0 1 1 1 0 1 1 0 0 1 1 1 0 0 1 1 1 1 0 1 1 0 1 1\n",
      " 1 1 1 1 1 1 0 0 0 1 0 0 1 1 1 0 0 1 0 1 0 0 1 0 0 1 1 0 1 1 0 1 1 1 1 0 1\n",
      " 1 1 1 1 1 1 1 1 0 1 1 1 1 0 0 1 0 1 1 0 0 1 1 0 0 1 1 1 1 0 1 1 0 0 0 1 0\n",
      " 1 0 1 1 1 0 1 1 0 0 1 0 0 0 0 1 0 0 0 1 0 1 0 1 1 0 1 0 0 0 0 1 1 0 0 1 1\n",
      " 1 0 1 1 1 1 1 0 0 1 1 0 1 1 0 0 1 0 1 1 1 1 0 1 1 1 1 1 0 1 0 0 0 0 0 0 0\n",
      " 0 0 0 0 0 0 0 1 1 1 1 1 1 0 1 0 1 1 0 1 1 0 1 0 0 1 1 1 1 1 1 1 1 1 1 1 1\n",
      " 1 0 1 1 0 1 0 1 1 1 1 1 1 1 1 1 1 1 1 1 1 0 1 1 1 0 1 0 1 1 1 1 0 0 0 1 1\n",
      " 1 1 0 1 0 1 0 1 1 1 0 1 1 1 1 1 1 1 0 0 0 1 1 1 1 1 1 1 1 1 1 1 0 0 1 0 0\n",
      " 0 1 0 0 1 1 1 1 1 0 1 1 1 1 1 0 1 1 1 0 1 1 0 0 1 1 1 1 1 1 0 1 1 1 1 1 1\n",
      " 1 0 1 1 1 1 1 0 1 1 0 1 1 1 1 1 1 1 1 1 1 1 1 0 1 0 0 1 0 1 1 1 1 1 0 1 1\n",
      " 0 1 0 1 1 0 1 0 1 1 1 1 1 1 1 1 0 0 1 1 1 1 1 1 0 1 1 1 1 1 1 1 1 1 1 0 1\n",
      " 1 1 1 1 1 1 0 1 0 1 1 0 1 1 1 1 1 0 0 1 0 1 0 1 1 1 1 1 0 1 1 0 1 0 1 0 0\n",
      " 1 1 1 0 1 1 1 1 1 1 1 1 1 1 1 0 1 0 0 1 1 1 1 1 1 1 1 1 1 1 1 1 1 1 1 1 1\n",
      " 1 1 1 1 1 1 1 0 0 0 0 0 0 1]\n"
     ]
    }
   ],
   "source": [
    "print(X)\n",
    "print(Y)"
   ]
  },
  {
   "cell_type": "code",
   "execution_count": 5,
   "metadata": {
    "colab": {
     "base_uri": "https://localhost:8080/",
     "height": 36
    },
    "colab_type": "code",
    "id": "3iCYauzdQGdh",
    "outputId": "33fd4b33-6228-4720-fc13-82960be493ec"
   },
   "outputs": [
    {
     "name": "stdout",
     "output_type": "stream",
     "text": [
      "(569, 30) (569,)\n"
     ]
    }
   ],
   "source": [
    "print(X.shape, Y.shape)"
   ]
  },
  {
   "cell_type": "code",
   "execution_count": 6,
   "metadata": {
    "colab": {},
    "colab_type": "code",
    "id": "hCq2K5Z_QLv5"
   },
   "outputs": [],
   "source": [
    "import pandas as pd"
   ]
  },
  {
   "cell_type": "code",
   "execution_count": 7,
   "metadata": {
    "colab": {},
    "colab_type": "code",
    "id": "uqtmARD9QS_R"
   },
   "outputs": [],
   "source": [
    "data = pd.DataFrame(breast_cancer.data, columns=breast_cancer.feature_names)"
   ]
  },
  {
   "cell_type": "code",
   "execution_count": 8,
   "metadata": {
    "colab": {},
    "colab_type": "code",
    "id": "uoDddCZWQZvL"
   },
   "outputs": [],
   "source": [
    "data['class'] = breast_cancer.target"
   ]
  },
  {
   "cell_type": "code",
   "execution_count": 9,
   "metadata": {
    "colab": {
     "base_uri": "https://localhost:8080/",
     "height": 270
    },
    "colab_type": "code",
    "id": "o0rmnx3LQfUY",
    "outputId": "30bd141d-fb77-4905-e80c-d27fe604b095"
   },
   "outputs": [
    {
     "data": {
      "text/html": [
       "<div>\n",
       "<style scoped>\n",
       "    .dataframe tbody tr th:only-of-type {\n",
       "        vertical-align: middle;\n",
       "    }\n",
       "\n",
       "    .dataframe tbody tr th {\n",
       "        vertical-align: top;\n",
       "    }\n",
       "\n",
       "    .dataframe thead th {\n",
       "        text-align: right;\n",
       "    }\n",
       "</style>\n",
       "<table border=\"1\" class=\"dataframe\">\n",
       "  <thead>\n",
       "    <tr style=\"text-align: right;\">\n",
       "      <th></th>\n",
       "      <th>mean radius</th>\n",
       "      <th>mean texture</th>\n",
       "      <th>mean perimeter</th>\n",
       "      <th>mean area</th>\n",
       "      <th>mean smoothness</th>\n",
       "      <th>mean compactness</th>\n",
       "      <th>mean concavity</th>\n",
       "      <th>mean concave points</th>\n",
       "      <th>mean symmetry</th>\n",
       "      <th>mean fractal dimension</th>\n",
       "      <th>...</th>\n",
       "      <th>worst texture</th>\n",
       "      <th>worst perimeter</th>\n",
       "      <th>worst area</th>\n",
       "      <th>worst smoothness</th>\n",
       "      <th>worst compactness</th>\n",
       "      <th>worst concavity</th>\n",
       "      <th>worst concave points</th>\n",
       "      <th>worst symmetry</th>\n",
       "      <th>worst fractal dimension</th>\n",
       "      <th>class</th>\n",
       "    </tr>\n",
       "  </thead>\n",
       "  <tbody>\n",
       "    <tr>\n",
       "      <th>0</th>\n",
       "      <td>17.99</td>\n",
       "      <td>10.38</td>\n",
       "      <td>122.80</td>\n",
       "      <td>1001.0</td>\n",
       "      <td>0.11840</td>\n",
       "      <td>0.27760</td>\n",
       "      <td>0.3001</td>\n",
       "      <td>0.14710</td>\n",
       "      <td>0.2419</td>\n",
       "      <td>0.07871</td>\n",
       "      <td>...</td>\n",
       "      <td>17.33</td>\n",
       "      <td>184.60</td>\n",
       "      <td>2019.0</td>\n",
       "      <td>0.1622</td>\n",
       "      <td>0.6656</td>\n",
       "      <td>0.7119</td>\n",
       "      <td>0.2654</td>\n",
       "      <td>0.4601</td>\n",
       "      <td>0.11890</td>\n",
       "      <td>0</td>\n",
       "    </tr>\n",
       "    <tr>\n",
       "      <th>1</th>\n",
       "      <td>20.57</td>\n",
       "      <td>17.77</td>\n",
       "      <td>132.90</td>\n",
       "      <td>1326.0</td>\n",
       "      <td>0.08474</td>\n",
       "      <td>0.07864</td>\n",
       "      <td>0.0869</td>\n",
       "      <td>0.07017</td>\n",
       "      <td>0.1812</td>\n",
       "      <td>0.05667</td>\n",
       "      <td>...</td>\n",
       "      <td>23.41</td>\n",
       "      <td>158.80</td>\n",
       "      <td>1956.0</td>\n",
       "      <td>0.1238</td>\n",
       "      <td>0.1866</td>\n",
       "      <td>0.2416</td>\n",
       "      <td>0.1860</td>\n",
       "      <td>0.2750</td>\n",
       "      <td>0.08902</td>\n",
       "      <td>0</td>\n",
       "    </tr>\n",
       "    <tr>\n",
       "      <th>2</th>\n",
       "      <td>19.69</td>\n",
       "      <td>21.25</td>\n",
       "      <td>130.00</td>\n",
       "      <td>1203.0</td>\n",
       "      <td>0.10960</td>\n",
       "      <td>0.15990</td>\n",
       "      <td>0.1974</td>\n",
       "      <td>0.12790</td>\n",
       "      <td>0.2069</td>\n",
       "      <td>0.05999</td>\n",
       "      <td>...</td>\n",
       "      <td>25.53</td>\n",
       "      <td>152.50</td>\n",
       "      <td>1709.0</td>\n",
       "      <td>0.1444</td>\n",
       "      <td>0.4245</td>\n",
       "      <td>0.4504</td>\n",
       "      <td>0.2430</td>\n",
       "      <td>0.3613</td>\n",
       "      <td>0.08758</td>\n",
       "      <td>0</td>\n",
       "    </tr>\n",
       "    <tr>\n",
       "      <th>3</th>\n",
       "      <td>11.42</td>\n",
       "      <td>20.38</td>\n",
       "      <td>77.58</td>\n",
       "      <td>386.1</td>\n",
       "      <td>0.14250</td>\n",
       "      <td>0.28390</td>\n",
       "      <td>0.2414</td>\n",
       "      <td>0.10520</td>\n",
       "      <td>0.2597</td>\n",
       "      <td>0.09744</td>\n",
       "      <td>...</td>\n",
       "      <td>26.50</td>\n",
       "      <td>98.87</td>\n",
       "      <td>567.7</td>\n",
       "      <td>0.2098</td>\n",
       "      <td>0.8663</td>\n",
       "      <td>0.6869</td>\n",
       "      <td>0.2575</td>\n",
       "      <td>0.6638</td>\n",
       "      <td>0.17300</td>\n",
       "      <td>0</td>\n",
       "    </tr>\n",
       "    <tr>\n",
       "      <th>4</th>\n",
       "      <td>20.29</td>\n",
       "      <td>14.34</td>\n",
       "      <td>135.10</td>\n",
       "      <td>1297.0</td>\n",
       "      <td>0.10030</td>\n",
       "      <td>0.13280</td>\n",
       "      <td>0.1980</td>\n",
       "      <td>0.10430</td>\n",
       "      <td>0.1809</td>\n",
       "      <td>0.05883</td>\n",
       "      <td>...</td>\n",
       "      <td>16.67</td>\n",
       "      <td>152.20</td>\n",
       "      <td>1575.0</td>\n",
       "      <td>0.1374</td>\n",
       "      <td>0.2050</td>\n",
       "      <td>0.4000</td>\n",
       "      <td>0.1625</td>\n",
       "      <td>0.2364</td>\n",
       "      <td>0.07678</td>\n",
       "      <td>0</td>\n",
       "    </tr>\n",
       "  </tbody>\n",
       "</table>\n",
       "<p>5 rows × 31 columns</p>\n",
       "</div>"
      ],
      "text/plain": [
       "   mean radius  mean texture  mean perimeter  mean area  mean smoothness  \\\n",
       "0        17.99         10.38          122.80     1001.0          0.11840   \n",
       "1        20.57         17.77          132.90     1326.0          0.08474   \n",
       "2        19.69         21.25          130.00     1203.0          0.10960   \n",
       "3        11.42         20.38           77.58      386.1          0.14250   \n",
       "4        20.29         14.34          135.10     1297.0          0.10030   \n",
       "\n",
       "   mean compactness  mean concavity  mean concave points  mean symmetry  \\\n",
       "0           0.27760          0.3001              0.14710         0.2419   \n",
       "1           0.07864          0.0869              0.07017         0.1812   \n",
       "2           0.15990          0.1974              0.12790         0.2069   \n",
       "3           0.28390          0.2414              0.10520         0.2597   \n",
       "4           0.13280          0.1980              0.10430         0.1809   \n",
       "\n",
       "   mean fractal dimension  ...  worst texture  worst perimeter  worst area  \\\n",
       "0                 0.07871  ...          17.33           184.60      2019.0   \n",
       "1                 0.05667  ...          23.41           158.80      1956.0   \n",
       "2                 0.05999  ...          25.53           152.50      1709.0   \n",
       "3                 0.09744  ...          26.50            98.87       567.7   \n",
       "4                 0.05883  ...          16.67           152.20      1575.0   \n",
       "\n",
       "   worst smoothness  worst compactness  worst concavity  worst concave points  \\\n",
       "0            0.1622             0.6656           0.7119                0.2654   \n",
       "1            0.1238             0.1866           0.2416                0.1860   \n",
       "2            0.1444             0.4245           0.4504                0.2430   \n",
       "3            0.2098             0.8663           0.6869                0.2575   \n",
       "4            0.1374             0.2050           0.4000                0.1625   \n",
       "\n",
       "   worst symmetry  worst fractal dimension  class  \n",
       "0          0.4601                  0.11890      0  \n",
       "1          0.2750                  0.08902      0  \n",
       "2          0.3613                  0.08758      0  \n",
       "3          0.6638                  0.17300      0  \n",
       "4          0.2364                  0.07678      0  \n",
       "\n",
       "[5 rows x 31 columns]"
      ]
     },
     "execution_count": 9,
     "metadata": {},
     "output_type": "execute_result"
    }
   ],
   "source": [
    "data.head()"
   ]
  },
  {
   "cell_type": "code",
   "execution_count": 10,
   "metadata": {
    "colab": {
     "base_uri": "https://localhost:8080/",
     "height": 384
    },
    "colab_type": "code",
    "id": "FV7of9G6QhRB",
    "outputId": "9c358b18-b0a1-4663-980a-66394be38764"
   },
   "outputs": [
    {
     "data": {
      "text/html": [
       "<div>\n",
       "<style scoped>\n",
       "    .dataframe tbody tr th:only-of-type {\n",
       "        vertical-align: middle;\n",
       "    }\n",
       "\n",
       "    .dataframe tbody tr th {\n",
       "        vertical-align: top;\n",
       "    }\n",
       "\n",
       "    .dataframe thead th {\n",
       "        text-align: right;\n",
       "    }\n",
       "</style>\n",
       "<table border=\"1\" class=\"dataframe\">\n",
       "  <thead>\n",
       "    <tr style=\"text-align: right;\">\n",
       "      <th></th>\n",
       "      <th>mean radius</th>\n",
       "      <th>mean texture</th>\n",
       "      <th>mean perimeter</th>\n",
       "      <th>mean area</th>\n",
       "      <th>mean smoothness</th>\n",
       "      <th>mean compactness</th>\n",
       "      <th>mean concavity</th>\n",
       "      <th>mean concave points</th>\n",
       "      <th>mean symmetry</th>\n",
       "      <th>mean fractal dimension</th>\n",
       "      <th>...</th>\n",
       "      <th>worst texture</th>\n",
       "      <th>worst perimeter</th>\n",
       "      <th>worst area</th>\n",
       "      <th>worst smoothness</th>\n",
       "      <th>worst compactness</th>\n",
       "      <th>worst concavity</th>\n",
       "      <th>worst concave points</th>\n",
       "      <th>worst symmetry</th>\n",
       "      <th>worst fractal dimension</th>\n",
       "      <th>class</th>\n",
       "    </tr>\n",
       "  </thead>\n",
       "  <tbody>\n",
       "    <tr>\n",
       "      <th>count</th>\n",
       "      <td>569.000000</td>\n",
       "      <td>569.000000</td>\n",
       "      <td>569.000000</td>\n",
       "      <td>569.000000</td>\n",
       "      <td>569.000000</td>\n",
       "      <td>569.000000</td>\n",
       "      <td>569.000000</td>\n",
       "      <td>569.000000</td>\n",
       "      <td>569.000000</td>\n",
       "      <td>569.000000</td>\n",
       "      <td>...</td>\n",
       "      <td>569.000000</td>\n",
       "      <td>569.000000</td>\n",
       "      <td>569.000000</td>\n",
       "      <td>569.000000</td>\n",
       "      <td>569.000000</td>\n",
       "      <td>569.000000</td>\n",
       "      <td>569.000000</td>\n",
       "      <td>569.000000</td>\n",
       "      <td>569.000000</td>\n",
       "      <td>569.000000</td>\n",
       "    </tr>\n",
       "    <tr>\n",
       "      <th>mean</th>\n",
       "      <td>14.127292</td>\n",
       "      <td>19.289649</td>\n",
       "      <td>91.969033</td>\n",
       "      <td>654.889104</td>\n",
       "      <td>0.096360</td>\n",
       "      <td>0.104341</td>\n",
       "      <td>0.088799</td>\n",
       "      <td>0.048919</td>\n",
       "      <td>0.181162</td>\n",
       "      <td>0.062798</td>\n",
       "      <td>...</td>\n",
       "      <td>25.677223</td>\n",
       "      <td>107.261213</td>\n",
       "      <td>880.583128</td>\n",
       "      <td>0.132369</td>\n",
       "      <td>0.254265</td>\n",
       "      <td>0.272188</td>\n",
       "      <td>0.114606</td>\n",
       "      <td>0.290076</td>\n",
       "      <td>0.083946</td>\n",
       "      <td>0.627417</td>\n",
       "    </tr>\n",
       "    <tr>\n",
       "      <th>std</th>\n",
       "      <td>3.524049</td>\n",
       "      <td>4.301036</td>\n",
       "      <td>24.298981</td>\n",
       "      <td>351.914129</td>\n",
       "      <td>0.014064</td>\n",
       "      <td>0.052813</td>\n",
       "      <td>0.079720</td>\n",
       "      <td>0.038803</td>\n",
       "      <td>0.027414</td>\n",
       "      <td>0.007060</td>\n",
       "      <td>...</td>\n",
       "      <td>6.146258</td>\n",
       "      <td>33.602542</td>\n",
       "      <td>569.356993</td>\n",
       "      <td>0.022832</td>\n",
       "      <td>0.157336</td>\n",
       "      <td>0.208624</td>\n",
       "      <td>0.065732</td>\n",
       "      <td>0.061867</td>\n",
       "      <td>0.018061</td>\n",
       "      <td>0.483918</td>\n",
       "    </tr>\n",
       "    <tr>\n",
       "      <th>min</th>\n",
       "      <td>6.981000</td>\n",
       "      <td>9.710000</td>\n",
       "      <td>43.790000</td>\n",
       "      <td>143.500000</td>\n",
       "      <td>0.052630</td>\n",
       "      <td>0.019380</td>\n",
       "      <td>0.000000</td>\n",
       "      <td>0.000000</td>\n",
       "      <td>0.106000</td>\n",
       "      <td>0.049960</td>\n",
       "      <td>...</td>\n",
       "      <td>12.020000</td>\n",
       "      <td>50.410000</td>\n",
       "      <td>185.200000</td>\n",
       "      <td>0.071170</td>\n",
       "      <td>0.027290</td>\n",
       "      <td>0.000000</td>\n",
       "      <td>0.000000</td>\n",
       "      <td>0.156500</td>\n",
       "      <td>0.055040</td>\n",
       "      <td>0.000000</td>\n",
       "    </tr>\n",
       "    <tr>\n",
       "      <th>25%</th>\n",
       "      <td>11.700000</td>\n",
       "      <td>16.170000</td>\n",
       "      <td>75.170000</td>\n",
       "      <td>420.300000</td>\n",
       "      <td>0.086370</td>\n",
       "      <td>0.064920</td>\n",
       "      <td>0.029560</td>\n",
       "      <td>0.020310</td>\n",
       "      <td>0.161900</td>\n",
       "      <td>0.057700</td>\n",
       "      <td>...</td>\n",
       "      <td>21.080000</td>\n",
       "      <td>84.110000</td>\n",
       "      <td>515.300000</td>\n",
       "      <td>0.116600</td>\n",
       "      <td>0.147200</td>\n",
       "      <td>0.114500</td>\n",
       "      <td>0.064930</td>\n",
       "      <td>0.250400</td>\n",
       "      <td>0.071460</td>\n",
       "      <td>0.000000</td>\n",
       "    </tr>\n",
       "    <tr>\n",
       "      <th>50%</th>\n",
       "      <td>13.370000</td>\n",
       "      <td>18.840000</td>\n",
       "      <td>86.240000</td>\n",
       "      <td>551.100000</td>\n",
       "      <td>0.095870</td>\n",
       "      <td>0.092630</td>\n",
       "      <td>0.061540</td>\n",
       "      <td>0.033500</td>\n",
       "      <td>0.179200</td>\n",
       "      <td>0.061540</td>\n",
       "      <td>...</td>\n",
       "      <td>25.410000</td>\n",
       "      <td>97.660000</td>\n",
       "      <td>686.500000</td>\n",
       "      <td>0.131300</td>\n",
       "      <td>0.211900</td>\n",
       "      <td>0.226700</td>\n",
       "      <td>0.099930</td>\n",
       "      <td>0.282200</td>\n",
       "      <td>0.080040</td>\n",
       "      <td>1.000000</td>\n",
       "    </tr>\n",
       "    <tr>\n",
       "      <th>75%</th>\n",
       "      <td>15.780000</td>\n",
       "      <td>21.800000</td>\n",
       "      <td>104.100000</td>\n",
       "      <td>782.700000</td>\n",
       "      <td>0.105300</td>\n",
       "      <td>0.130400</td>\n",
       "      <td>0.130700</td>\n",
       "      <td>0.074000</td>\n",
       "      <td>0.195700</td>\n",
       "      <td>0.066120</td>\n",
       "      <td>...</td>\n",
       "      <td>29.720000</td>\n",
       "      <td>125.400000</td>\n",
       "      <td>1084.000000</td>\n",
       "      <td>0.146000</td>\n",
       "      <td>0.339100</td>\n",
       "      <td>0.382900</td>\n",
       "      <td>0.161400</td>\n",
       "      <td>0.317900</td>\n",
       "      <td>0.092080</td>\n",
       "      <td>1.000000</td>\n",
       "    </tr>\n",
       "    <tr>\n",
       "      <th>max</th>\n",
       "      <td>28.110000</td>\n",
       "      <td>39.280000</td>\n",
       "      <td>188.500000</td>\n",
       "      <td>2501.000000</td>\n",
       "      <td>0.163400</td>\n",
       "      <td>0.345400</td>\n",
       "      <td>0.426800</td>\n",
       "      <td>0.201200</td>\n",
       "      <td>0.304000</td>\n",
       "      <td>0.097440</td>\n",
       "      <td>...</td>\n",
       "      <td>49.540000</td>\n",
       "      <td>251.200000</td>\n",
       "      <td>4254.000000</td>\n",
       "      <td>0.222600</td>\n",
       "      <td>1.058000</td>\n",
       "      <td>1.252000</td>\n",
       "      <td>0.291000</td>\n",
       "      <td>0.663800</td>\n",
       "      <td>0.207500</td>\n",
       "      <td>1.000000</td>\n",
       "    </tr>\n",
       "  </tbody>\n",
       "</table>\n",
       "<p>8 rows × 31 columns</p>\n",
       "</div>"
      ],
      "text/plain": [
       "       mean radius  mean texture  mean perimeter    mean area  \\\n",
       "count   569.000000    569.000000      569.000000   569.000000   \n",
       "mean     14.127292     19.289649       91.969033   654.889104   \n",
       "std       3.524049      4.301036       24.298981   351.914129   \n",
       "min       6.981000      9.710000       43.790000   143.500000   \n",
       "25%      11.700000     16.170000       75.170000   420.300000   \n",
       "50%      13.370000     18.840000       86.240000   551.100000   \n",
       "75%      15.780000     21.800000      104.100000   782.700000   \n",
       "max      28.110000     39.280000      188.500000  2501.000000   \n",
       "\n",
       "       mean smoothness  mean compactness  mean concavity  mean concave points  \\\n",
       "count       569.000000        569.000000      569.000000           569.000000   \n",
       "mean          0.096360          0.104341        0.088799             0.048919   \n",
       "std           0.014064          0.052813        0.079720             0.038803   \n",
       "min           0.052630          0.019380        0.000000             0.000000   \n",
       "25%           0.086370          0.064920        0.029560             0.020310   \n",
       "50%           0.095870          0.092630        0.061540             0.033500   \n",
       "75%           0.105300          0.130400        0.130700             0.074000   \n",
       "max           0.163400          0.345400        0.426800             0.201200   \n",
       "\n",
       "       mean symmetry  mean fractal dimension  ...  worst texture  \\\n",
       "count     569.000000              569.000000  ...     569.000000   \n",
       "mean        0.181162                0.062798  ...      25.677223   \n",
       "std         0.027414                0.007060  ...       6.146258   \n",
       "min         0.106000                0.049960  ...      12.020000   \n",
       "25%         0.161900                0.057700  ...      21.080000   \n",
       "50%         0.179200                0.061540  ...      25.410000   \n",
       "75%         0.195700                0.066120  ...      29.720000   \n",
       "max         0.304000                0.097440  ...      49.540000   \n",
       "\n",
       "       worst perimeter   worst area  worst smoothness  worst compactness  \\\n",
       "count       569.000000   569.000000        569.000000         569.000000   \n",
       "mean        107.261213   880.583128          0.132369           0.254265   \n",
       "std          33.602542   569.356993          0.022832           0.157336   \n",
       "min          50.410000   185.200000          0.071170           0.027290   \n",
       "25%          84.110000   515.300000          0.116600           0.147200   \n",
       "50%          97.660000   686.500000          0.131300           0.211900   \n",
       "75%         125.400000  1084.000000          0.146000           0.339100   \n",
       "max         251.200000  4254.000000          0.222600           1.058000   \n",
       "\n",
       "       worst concavity  worst concave points  worst symmetry  \\\n",
       "count       569.000000            569.000000      569.000000   \n",
       "mean          0.272188              0.114606        0.290076   \n",
       "std           0.208624              0.065732        0.061867   \n",
       "min           0.000000              0.000000        0.156500   \n",
       "25%           0.114500              0.064930        0.250400   \n",
       "50%           0.226700              0.099930        0.282200   \n",
       "75%           0.382900              0.161400        0.317900   \n",
       "max           1.252000              0.291000        0.663800   \n",
       "\n",
       "       worst fractal dimension       class  \n",
       "count               569.000000  569.000000  \n",
       "mean                  0.083946    0.627417  \n",
       "std                   0.018061    0.483918  \n",
       "min                   0.055040    0.000000  \n",
       "25%                   0.071460    0.000000  \n",
       "50%                   0.080040    1.000000  \n",
       "75%                   0.092080    1.000000  \n",
       "max                   0.207500    1.000000  \n",
       "\n",
       "[8 rows x 31 columns]"
      ]
     },
     "execution_count": 10,
     "metadata": {},
     "output_type": "execute_result"
    }
   ],
   "source": [
    "data.describe()"
   ]
  },
  {
   "cell_type": "code",
   "execution_count": 11,
   "metadata": {
    "colab": {
     "base_uri": "https://localhost:8080/",
     "height": 74
    },
    "colab_type": "code",
    "id": "w-jZOBG6QqyG",
    "outputId": "c5db4a94-3393-47d9-eb1b-bcd6e39fd410"
   },
   "outputs": [
    {
     "name": "stdout",
     "output_type": "stream",
     "text": [
      "class\n",
      "1    357\n",
      "0    212\n",
      "Name: count, dtype: int64\n"
     ]
    }
   ],
   "source": [
    "print(data['class'].value_counts())"
   ]
  },
  {
   "cell_type": "code",
   "execution_count": 12,
   "metadata": {
    "colab": {
     "base_uri": "https://localhost:8080/",
     "height": 36
    },
    "colab_type": "code",
    "id": "0bhbds5iQz7p",
    "outputId": "633924bb-ea4a-4a4e-e545-bae00d4a1cef"
   },
   "outputs": [
    {
     "name": "stdout",
     "output_type": "stream",
     "text": [
      "['malignant' 'benign']\n"
     ]
    }
   ],
   "source": [
    "print(breast_cancer.target_names)"
   ]
  },
  {
   "cell_type": "code",
   "execution_count": 13,
   "metadata": {
    "colab": {
     "base_uri": "https://localhost:8080/",
     "height": 208
    },
    "colab_type": "code",
    "id": "Nvgmi3LeQ47D",
    "outputId": "61389407-4543-4cde-85dc-7cc4bc8e2d95"
   },
   "outputs": [
    {
     "data": {
      "text/html": [
       "<div>\n",
       "<style scoped>\n",
       "    .dataframe tbody tr th:only-of-type {\n",
       "        vertical-align: middle;\n",
       "    }\n",
       "\n",
       "    .dataframe tbody tr th {\n",
       "        vertical-align: top;\n",
       "    }\n",
       "\n",
       "    .dataframe thead th {\n",
       "        text-align: right;\n",
       "    }\n",
       "</style>\n",
       "<table border=\"1\" class=\"dataframe\">\n",
       "  <thead>\n",
       "    <tr style=\"text-align: right;\">\n",
       "      <th></th>\n",
       "      <th>mean radius</th>\n",
       "      <th>mean texture</th>\n",
       "      <th>mean perimeter</th>\n",
       "      <th>mean area</th>\n",
       "      <th>mean smoothness</th>\n",
       "      <th>mean compactness</th>\n",
       "      <th>mean concavity</th>\n",
       "      <th>mean concave points</th>\n",
       "      <th>mean symmetry</th>\n",
       "      <th>mean fractal dimension</th>\n",
       "      <th>...</th>\n",
       "      <th>worst radius</th>\n",
       "      <th>worst texture</th>\n",
       "      <th>worst perimeter</th>\n",
       "      <th>worst area</th>\n",
       "      <th>worst smoothness</th>\n",
       "      <th>worst compactness</th>\n",
       "      <th>worst concavity</th>\n",
       "      <th>worst concave points</th>\n",
       "      <th>worst symmetry</th>\n",
       "      <th>worst fractal dimension</th>\n",
       "    </tr>\n",
       "    <tr>\n",
       "      <th>class</th>\n",
       "      <th></th>\n",
       "      <th></th>\n",
       "      <th></th>\n",
       "      <th></th>\n",
       "      <th></th>\n",
       "      <th></th>\n",
       "      <th></th>\n",
       "      <th></th>\n",
       "      <th></th>\n",
       "      <th></th>\n",
       "      <th></th>\n",
       "      <th></th>\n",
       "      <th></th>\n",
       "      <th></th>\n",
       "      <th></th>\n",
       "      <th></th>\n",
       "      <th></th>\n",
       "      <th></th>\n",
       "      <th></th>\n",
       "      <th></th>\n",
       "      <th></th>\n",
       "    </tr>\n",
       "  </thead>\n",
       "  <tbody>\n",
       "    <tr>\n",
       "      <th>0</th>\n",
       "      <td>17.462830</td>\n",
       "      <td>21.604906</td>\n",
       "      <td>115.365377</td>\n",
       "      <td>978.376415</td>\n",
       "      <td>0.102898</td>\n",
       "      <td>0.145188</td>\n",
       "      <td>0.160775</td>\n",
       "      <td>0.087990</td>\n",
       "      <td>0.192909</td>\n",
       "      <td>0.062680</td>\n",
       "      <td>...</td>\n",
       "      <td>21.134811</td>\n",
       "      <td>29.318208</td>\n",
       "      <td>141.370330</td>\n",
       "      <td>1422.286321</td>\n",
       "      <td>0.144845</td>\n",
       "      <td>0.374824</td>\n",
       "      <td>0.450606</td>\n",
       "      <td>0.182237</td>\n",
       "      <td>0.323468</td>\n",
       "      <td>0.091530</td>\n",
       "    </tr>\n",
       "    <tr>\n",
       "      <th>1</th>\n",
       "      <td>12.146524</td>\n",
       "      <td>17.914762</td>\n",
       "      <td>78.075406</td>\n",
       "      <td>462.790196</td>\n",
       "      <td>0.092478</td>\n",
       "      <td>0.080085</td>\n",
       "      <td>0.046058</td>\n",
       "      <td>0.025717</td>\n",
       "      <td>0.174186</td>\n",
       "      <td>0.062867</td>\n",
       "      <td>...</td>\n",
       "      <td>13.379801</td>\n",
       "      <td>23.515070</td>\n",
       "      <td>87.005938</td>\n",
       "      <td>558.899440</td>\n",
       "      <td>0.124959</td>\n",
       "      <td>0.182673</td>\n",
       "      <td>0.166238</td>\n",
       "      <td>0.074444</td>\n",
       "      <td>0.270246</td>\n",
       "      <td>0.079442</td>\n",
       "    </tr>\n",
       "  </tbody>\n",
       "</table>\n",
       "<p>2 rows × 30 columns</p>\n",
       "</div>"
      ],
      "text/plain": [
       "       mean radius  mean texture  mean perimeter   mean area  mean smoothness  \\\n",
       "class                                                                           \n",
       "0        17.462830     21.604906      115.365377  978.376415         0.102898   \n",
       "1        12.146524     17.914762       78.075406  462.790196         0.092478   \n",
       "\n",
       "       mean compactness  mean concavity  mean concave points  mean symmetry  \\\n",
       "class                                                                         \n",
       "0              0.145188        0.160775             0.087990       0.192909   \n",
       "1              0.080085        0.046058             0.025717       0.174186   \n",
       "\n",
       "       mean fractal dimension  ...  worst radius  worst texture  \\\n",
       "class                          ...                                \n",
       "0                    0.062680  ...     21.134811      29.318208   \n",
       "1                    0.062867  ...     13.379801      23.515070   \n",
       "\n",
       "       worst perimeter   worst area  worst smoothness  worst compactness  \\\n",
       "class                                                                      \n",
       "0           141.370330  1422.286321          0.144845           0.374824   \n",
       "1            87.005938   558.899440          0.124959           0.182673   \n",
       "\n",
       "       worst concavity  worst concave points  worst symmetry  \\\n",
       "class                                                          \n",
       "0             0.450606              0.182237        0.323468   \n",
       "1             0.166238              0.074444        0.270246   \n",
       "\n",
       "       worst fractal dimension  \n",
       "class                           \n",
       "0                     0.091530  \n",
       "1                     0.079442  \n",
       "\n",
       "[2 rows x 30 columns]"
      ]
     },
     "execution_count": 13,
     "metadata": {},
     "output_type": "execute_result"
    }
   ],
   "source": [
    "data.groupby('class').mean()"
   ]
  },
  {
   "cell_type": "markdown",
   "metadata": {
    "colab_type": "text",
    "id": "TQOa8tuKWmEx"
   },
   "source": [
    "# Train test split"
   ]
  },
  {
   "cell_type": "code",
   "execution_count": 14,
   "metadata": {
    "colab": {},
    "colab_type": "code",
    "id": "7OOt-sSaWnVZ"
   },
   "outputs": [],
   "source": [
    "from sklearn.model_selection import train_test_split"
   ]
  },
  {
   "cell_type": "code",
   "execution_count": 15,
   "metadata": {
    "colab": {},
    "colab_type": "code",
    "id": "b4MW2HlzXLQe"
   },
   "outputs": [],
   "source": [
    "X = data.drop('class', axis=1)\n",
    "Y = data['class']"
   ]
  },
  {
   "cell_type": "code",
   "execution_count": 16,
   "metadata": {
    "colab": {
     "base_uri": "https://localhost:8080/",
     "height": 36
    },
    "colab_type": "code",
    "id": "gDrEsZiMXXEs",
    "outputId": "126f1ee4-e772-4e20-ae6e-32c721a1a77e"
   },
   "outputs": [
    {
     "data": {
      "text/plain": [
       "pandas.core.frame.DataFrame"
      ]
     },
     "execution_count": 16,
     "metadata": {},
     "output_type": "execute_result"
    }
   ],
   "source": [
    "type(X)"
   ]
  },
  {
   "cell_type": "code",
   "execution_count": 17,
   "metadata": {
    "colab": {},
    "colab_type": "code",
    "id": "rLY0MMINXXyl"
   },
   "outputs": [],
   "source": [
    "X_train, X_test, Y_train, Y_test = train_test_split(X, Y)"
   ]
  },
  {
   "cell_type": "code",
   "execution_count": 18,
   "metadata": {
    "colab": {
     "base_uri": "https://localhost:8080/",
     "height": 36
    },
    "colab_type": "code",
    "id": "K3mRpxH2XfNC",
    "outputId": "723d426b-3c1a-45bd-c684-6b9cc278cec3"
   },
   "outputs": [
    {
     "name": "stdout",
     "output_type": "stream",
     "text": [
      "(569,) (426,) (143,)\n"
     ]
    }
   ],
   "source": [
    "print(Y.shape, Y_train.shape, Y_test.shape)"
   ]
  },
  {
   "cell_type": "code",
   "execution_count": 19,
   "metadata": {
    "colab": {},
    "colab_type": "code",
    "id": "IaVrRpmTXiso"
   },
   "outputs": [],
   "source": [
    "X_train, X_test, Y_train, Y_test = train_test_split(X, Y, test_size=0.1)"
   ]
  },
  {
   "cell_type": "code",
   "execution_count": 20,
   "metadata": {
    "colab": {
     "base_uri": "https://localhost:8080/",
     "height": 36
    },
    "colab_type": "code",
    "id": "f4Obcq42XwSF",
    "outputId": "56cf1b43-9d15-40e8-8323-74c298a400b7"
   },
   "outputs": [
    {
     "name": "stdout",
     "output_type": "stream",
     "text": [
      "0.6274165202108963 0.6328125 0.5789473684210527\n"
     ]
    }
   ],
   "source": [
    "print(Y.mean(), Y_train.mean(), Y_test.mean())"
   ]
  },
  {
   "cell_type": "code",
   "execution_count": 21,
   "metadata": {
    "colab": {},
    "colab_type": "code",
    "id": "aCzE4vW1X9DI"
   },
   "outputs": [],
   "source": [
    "X_train, X_test, Y_train, Y_test = train_test_split(X, Y, test_size=0.1, stratify = Y)"
   ]
  },
  {
   "cell_type": "code",
   "execution_count": 22,
   "metadata": {
    "colab": {
     "base_uri": "https://localhost:8080/",
     "height": 1757
    },
    "colab_type": "code",
    "id": "G6S8TEOKYMAp",
    "outputId": "00463885-9a61-49f8-a021-a33735e1b20c"
   },
   "outputs": [
    {
     "name": "stdout",
     "output_type": "stream",
     "text": [
      "mean radius                 14.141275\n",
      "mean texture                19.334746\n",
      "mean perimeter              92.072207\n",
      "mean area                  655.730664\n",
      "mean smoothness              0.096423\n",
      "mean compactness             0.104832\n",
      "mean concavity               0.088977\n",
      "mean concave points          0.049036\n",
      "mean symmetry                0.181210\n",
      "mean fractal dimension       0.062839\n",
      "radius error                 0.403436\n",
      "texture error                1.205678\n",
      "perimeter error              2.861382\n",
      "area error                  40.371660\n",
      "smoothness error             0.006962\n",
      "compactness error            0.025385\n",
      "concavity error              0.031887\n",
      "concave points error         0.011769\n",
      "symmetry error               0.020315\n",
      "fractal dimension error      0.003781\n",
      "worst radius                16.309869\n",
      "worst texture               25.777891\n",
      "worst perimeter            107.539395\n",
      "worst area                 885.402344\n",
      "worst smoothness             0.132592\n",
      "worst compactness            0.255930\n",
      "worst concavity              0.274341\n",
      "worst concave points         0.115419\n",
      "worst symmetry               0.290517\n",
      "worst fractal dimension      0.084234\n",
      "dtype: float64 mean radius                 14.001684\n",
      "mean texture                18.884561\n",
      "mean perimeter              91.042281\n",
      "mean area                  647.329825\n",
      "mean smoothness              0.095793\n",
      "mean compactness             0.099934\n",
      "mean concavity               0.087200\n",
      "mean concave points          0.047871\n",
      "mean symmetry                0.180730\n",
      "mean fractal dimension       0.062430\n",
      "radius error                 0.420770\n",
      "texture error                1.317235\n",
      "perimeter error              2.908070\n",
      "area error                  40.026456\n",
      "smoothness error             0.007749\n",
      "compactness error            0.026313\n",
      "concavity error              0.031952\n",
      "concave points error         0.012041\n",
      "symmetry error               0.022587\n",
      "fractal dimension error      0.003921\n",
      "worst radius                15.903789\n",
      "worst texture               24.772982\n",
      "worst perimeter            104.762456\n",
      "worst area                 837.294737\n",
      "worst smoothness             0.130362\n",
      "worst compactness            0.239313\n",
      "worst concavity              0.252852\n",
      "worst concave points         0.107302\n",
      "worst symmetry               0.286109\n",
      "worst fractal dimension      0.081354\n",
      "dtype: float64 mean radius                 14.127292\n",
      "mean texture                19.289649\n",
      "mean perimeter              91.969033\n",
      "mean area                  654.889104\n",
      "mean smoothness              0.096360\n",
      "mean compactness             0.104341\n",
      "mean concavity               0.088799\n",
      "mean concave points          0.048919\n",
      "mean symmetry                0.181162\n",
      "mean fractal dimension       0.062798\n",
      "radius error                 0.405172\n",
      "texture error                1.216853\n",
      "perimeter error              2.866059\n",
      "area error                  40.337079\n",
      "smoothness error             0.007041\n",
      "compactness error            0.025478\n",
      "concavity error              0.031894\n",
      "concave points error         0.011796\n",
      "symmetry error               0.020542\n",
      "fractal dimension error      0.003795\n",
      "worst radius                16.269190\n",
      "worst texture               25.677223\n",
      "worst perimeter            107.261213\n",
      "worst area                 880.583128\n",
      "worst smoothness             0.132369\n",
      "worst compactness            0.254265\n",
      "worst concavity              0.272188\n",
      "worst concave points         0.114606\n",
      "worst symmetry               0.290076\n",
      "worst fractal dimension      0.083946\n",
      "dtype: float64\n"
     ]
    }
   ],
   "source": [
    "print(X_train.mean(), X_test.mean(), X.mean())"
   ]
  },
  {
   "cell_type": "code",
   "execution_count": 23,
   "metadata": {
    "colab": {},
    "colab_type": "code",
    "id": "-2a4ILm0YWTe"
   },
   "outputs": [],
   "source": [
    "X_train, X_test, Y_train, Y_test = train_test_split(X, Y, test_size=0.1, stratify = Y, random_state=1)"
   ]
  },
  {
   "cell_type": "code",
   "execution_count": 24,
   "metadata": {
    "colab": {
     "base_uri": "https://localhost:8080/",
     "height": 1757
    },
    "colab_type": "code",
    "id": "7KHMCeo6Y4sL",
    "outputId": "85ea06c8-ba43-4527-dd32-52ed1114e164"
   },
   "outputs": [
    {
     "name": "stdout",
     "output_type": "stream",
     "text": [
      "mean radius                 14.058656\n",
      "mean texture                19.309668\n",
      "mean perimeter              91.530488\n",
      "mean area                  648.097266\n",
      "mean smoothness              0.096568\n",
      "mean compactness             0.105144\n",
      "mean concavity               0.089342\n",
      "mean concave points          0.048892\n",
      "mean symmetry                0.181961\n",
      "mean fractal dimension       0.062979\n",
      "radius error                 0.403659\n",
      "texture error                1.206856\n",
      "perimeter error              2.861173\n",
      "area error                  39.935506\n",
      "smoothness error             0.007067\n",
      "compactness error            0.025681\n",
      "concavity error              0.032328\n",
      "concave points error         0.011963\n",
      "symmetry error               0.020584\n",
      "fractal dimension error      0.003815\n",
      "worst radius                16.194275\n",
      "worst texture               25.644902\n",
      "worst perimeter            106.757715\n",
      "worst area                 871.647852\n",
      "worst smoothness             0.132592\n",
      "worst compactness            0.257415\n",
      "worst concavity              0.275623\n",
      "worst concave points         0.115454\n",
      "worst symmetry               0.291562\n",
      "worst fractal dimension      0.084402\n",
      "dtype: float64 mean radius                 14.743807\n",
      "mean texture                19.109825\n",
      "mean perimeter              95.908246\n",
      "mean area                  715.896491\n",
      "mean smoothness              0.094496\n",
      "mean compactness             0.097130\n",
      "mean concavity               0.083923\n",
      "mean concave points          0.049159\n",
      "mean symmetry                0.173981\n",
      "mean fractal dimension       0.061169\n",
      "radius error                 0.418767\n",
      "texture error                1.306656\n",
      "perimeter error              2.909946\n",
      "area error                  43.944193\n",
      "smoothness error             0.006809\n",
      "compactness error            0.023659\n",
      "concavity error              0.027989\n",
      "concave points error         0.010293\n",
      "symmetry error               0.020169\n",
      "fractal dimension error      0.003618\n",
      "worst radius                16.942105\n",
      "worst texture               25.967544\n",
      "worst perimeter            111.783860\n",
      "worst area                 960.843860\n",
      "worst smoothness             0.130357\n",
      "worst compactness            0.225973\n",
      "worst concavity              0.241340\n",
      "worst concave points         0.106994\n",
      "worst symmetry               0.276719\n",
      "worst fractal dimension      0.079852\n",
      "dtype: float64 mean radius                 14.127292\n",
      "mean texture                19.289649\n",
      "mean perimeter              91.969033\n",
      "mean area                  654.889104\n",
      "mean smoothness              0.096360\n",
      "mean compactness             0.104341\n",
      "mean concavity               0.088799\n",
      "mean concave points          0.048919\n",
      "mean symmetry                0.181162\n",
      "mean fractal dimension       0.062798\n",
      "radius error                 0.405172\n",
      "texture error                1.216853\n",
      "perimeter error              2.866059\n",
      "area error                  40.337079\n",
      "smoothness error             0.007041\n",
      "compactness error            0.025478\n",
      "concavity error              0.031894\n",
      "concave points error         0.011796\n",
      "symmetry error               0.020542\n",
      "fractal dimension error      0.003795\n",
      "worst radius                16.269190\n",
      "worst texture               25.677223\n",
      "worst perimeter            107.261213\n",
      "worst area                 880.583128\n",
      "worst smoothness             0.132369\n",
      "worst compactness            0.254265\n",
      "worst concavity              0.272188\n",
      "worst concave points         0.114606\n",
      "worst symmetry               0.290076\n",
      "worst fractal dimension      0.083946\n",
      "dtype: float64\n"
     ]
    }
   ],
   "source": [
    "print(X_train.mean(), X_test.mean(), X.mean())"
   ]
  },
  {
   "cell_type": "markdown",
   "metadata": {
    "colab_type": "text",
    "id": "fT9sC0UKb12E"
   },
   "source": [
    "# Binarisation of input"
   ]
  },
  {
   "cell_type": "code",
   "execution_count": 25,
   "metadata": {
    "colab": {},
    "colab_type": "code",
    "id": "845LI9BPcuHG"
   },
   "outputs": [],
   "source": [
    "import matplotlib.pyplot as plt"
   ]
  },
  {
   "cell_type": "code",
   "execution_count": 26,
   "metadata": {
    "colab": {
     "base_uri": "https://localhost:8080/",
     "height": 0
    },
    "colab_type": "code",
    "id": "72YS45uZdX0D",
    "outputId": "49898bba-d21b-42ea-95bc-8e708111bb83"
   },
   "outputs": [
    {
     "data": {
      "image/png": "[encoded data removed]",
      "text/plain": [
       "<Figure size 640x480 with 1 Axes>"
      ]
     },
     "metadata": {},
     "output_type": "display_data"
    }
   ],
   "source": [
    "plt.plot(X_test.T, '*')\n",
    "plt.xticks(rotation='vertical')\n",
    "plt.show()"
   ]
  },
  {
   "cell_type": "code",
   "execution_count": 27,
   "metadata": {
    "colab": {},
    "colab_type": "code",
    "id": "JXoaxoUzdZ-u"
   },
   "outputs": [],
   "source": [
    "X_binarised_3_train = X_train['mean area'].map(lambda x: 0 if x < 1000 else 1)"
   ]
  },
  {
   "cell_type": "code",
   "execution_count": 28,
   "metadata": {
    "colab": {
     "base_uri": "https://localhost:8080/",
     "height": 0
    },
    "colab_type": "code",
    "id": "A7W6c9o8d3Qd",
    "outputId": "ebb85246-1bf1-4d32-e73c-34a4e85772c9"
   },
   "outputs": [
    {
     "data": {
      "text/plain": [
       "[<matplotlib.lines.Line2D at 0x732c567b9070>]"
      ]
     },
     "execution_count": 28,
     "metadata": {},
     "output_type": "execute_result"
    },
    {
     "data": {
      "image/png": "[encoded data removed]",
      "text/plain": [
       "<Figure size 640x480 with 1 Axes>"
      ]
     },
     "metadata": {},
     "output_type": "display_data"
    }
   ],
   "source": [
    "plt.plot(X_binarised_3_train, '*')"
   ]
  },
  {
   "cell_type": "code",
   "execution_count": 29,
   "metadata": {
    "colab": {},
    "colab_type": "code",
    "id": "8a3Dh5Gnd8bG"
   },
   "outputs": [],
   "source": [
    "X_binarised_train = X_train.apply(pd.cut, bins=2, labels=[1,0])"
   ]
  },
  {
   "cell_type": "code",
   "execution_count": 30,
   "metadata": {
    "colab": {
     "base_uri": "https://localhost:8080/",
     "height": 0
    },
    "colab_type": "code",
    "id": "KQY7ICWweNxt",
    "outputId": "e643d603-3037-4f64-e14e-b4b0ee2c9db8"
   },
   "outputs": [
    {
     "data": {
      "image/png": "[encoded data removed]",
      "text/plain": [
       "<Figure size 640x480 with 1 Axes>"
      ]
     },
     "metadata": {},
     "output_type": "display_data"
    }
   ],
   "source": [
    "plt.plot(X_binarised_train.T, '*')\n",
    "plt.xticks(rotation='vertical')\n",
    "plt.show()"
   ]
  },
  {
   "cell_type": "code",
   "execution_count": 31,
   "metadata": {
    "colab": {},
    "colab_type": "code",
    "id": "bGxvIRV9eRrh"
   },
   "outputs": [],
   "source": [
    "X_binarised_test = X_test.apply(pd.cut, bins=2, labels=[1,0])"
   ]
  },
  {
   "cell_type": "code",
   "execution_count": 32,
   "metadata": {
    "colab": {
     "base_uri": "https://localhost:8080/",
     "height": 0
    },
    "colab_type": "code",
    "id": "gJsquRBFeZJS",
    "outputId": "7501eaa1-eb23-4ea4-83ef-5773a6186ef7"
   },
   "outputs": [
    {
     "data": {
      "text/plain": [
       "pandas.core.frame.DataFrame"
      ]
     },
     "execution_count": 32,
     "metadata": {},
     "output_type": "execute_result"
    }
   ],
   "source": [
    "type(X_binarised_test)"
   ]
  },
  {
   "cell_type": "code",
   "execution_count": 33,
   "metadata": {
    "colab": {},
    "colab_type": "code",
    "id": "sVBP3O2ueabj"
   },
   "outputs": [],
   "source": [
    "X_binarised_test = X_binarised_test.values\n",
    "X_binarised_train = X_binarised_train.values"
   ]
  },
  {
   "cell_type": "code",
   "execution_count": 34,
   "metadata": {
    "colab": {
     "base_uri": "https://localhost:8080/",
     "height": 0
    },
    "colab_type": "code",
    "id": "8zfwovfzeiBm",
    "outputId": "64c3161f-98e6-40c9-e7dd-3de68f7ee553"
   },
   "outputs": [
    {
     "data": {
      "text/plain": [
       "numpy.ndarray"
      ]
     },
     "execution_count": 34,
     "metadata": {},
     "output_type": "execute_result"
    }
   ],
   "source": [
    "type(X_binarised_test)"
   ]
  },
  {
   "cell_type": "markdown",
   "metadata": {
    "colab_type": "text",
    "id": "HsV1gX3Ge-WC"
   },
   "source": [
    "# MP neuron model"
   ]
  },
  {
   "cell_type": "code",
   "execution_count": 35,
   "metadata": {
    "colab": {},
    "colab_type": "code",
    "id": "s5GH3kqQpULG"
   },
   "outputs": [],
   "source": [
    "from random import randint"
   ]
  },
  {
   "cell_type": "code",
   "execution_count": 36,
   "metadata": {
    "colab": {
     "base_uri": "https://localhost:8080/",
     "height": 0
    },
    "colab_type": "code",
    "id": "JoOBEPiDoh5A",
    "outputId": "0771f4ae-219c-4344-ceb8-0e4fc258f13c"
   },
   "outputs": [
    {
     "name": "stdout",
     "output_type": "stream",
     "text": [
      "For row 389\n",
      "MP Neuron inference is malignant\n",
      "Ground truth is benign\n"
     ]
    }
   ],
   "source": [
    "b = 3\n",
    "\n",
    "i = randint(0, X_binarised_train.shape[0])\n",
    "\n",
    "print('For row', i)\n",
    "\n",
    "if (np.sum(X_binarised_train[100, :]) >= b):\n",
    "  print('MP Neuron inference is malignant')\n",
    "else:\n",
    "  print('MP Neuron inference is benign')\n",
    "  \n",
    "if (Y_train[i] == 1):\n",
    "  print('Ground truth is malignant')\n",
    "else:\n",
    "  print('Ground truth is benign')"
   ]
  },
  {
   "cell_type": "code",
   "execution_count": 37,
   "metadata": {
    "colab": {
     "base_uri": "https://localhost:8080/",
     "height": 0
    },
    "colab_type": "code",
    "id": "oSWdQAVFpJB9",
    "outputId": "b8b70cfc-cd6d-4639-b456-d2b417d79e71"
   },
   "outputs": [
    {
     "name": "stdout",
     "output_type": "stream",
     "text": [
      "321 0.626953125\n"
     ]
    }
   ],
   "source": [
    "b = 3\n",
    "\n",
    "Y_pred_train = []\n",
    "accurate_rows = 0\n",
    "\n",
    "for x, y in zip(X_binarised_train, Y_train):\n",
    "  y_pred = (np.sum(x) >= b)\n",
    "  Y_pred_train.append(y_pred)\n",
    "  accurate_rows += (y == y_pred)\n",
    "  \n",
    "print(accurate_rows, accurate_rows/X_binarised_train.shape[0])\n",
    "  "
   ]
  },
  {
   "cell_type": "code",
   "execution_count": 38,
   "metadata": {
    "colab": {
     "base_uri": "https://localhost:8080/",
     "height": 0
    },
    "colab_type": "code",
    "id": "wWdjFjC4qCmu",
    "outputId": "b9adb892-edc6-4785-c503-ea663a06820a"
   },
   "outputs": [
    {
     "name": "stdout",
     "output_type": "stream",
     "text": [
      "0 0.626953125\n",
      "1 0.626953125\n",
      "2 0.626953125\n",
      "3 0.626953125\n",
      "4 0.626953125\n",
      "5 0.626953125\n",
      "6 0.626953125\n",
      "7 0.626953125\n",
      "8 0.626953125\n",
      "9 0.626953125\n",
      "10 0.626953125\n",
      "11 0.626953125\n",
      "12 0.626953125\n",
      "13 0.626953125\n",
      "14 0.630859375\n",
      "15 0.6328125\n",
      "16 0.642578125\n",
      "17 0.6484375\n",
      "18 0.65625\n",
      "19 0.6640625\n",
      "20 0.671875\n",
      "21 0.6875\n",
      "22 0.701171875\n",
      "23 0.724609375\n",
      "24 0.755859375\n",
      "25 0.78515625\n",
      "26 0.818359375\n",
      "27 0.845703125\n",
      "28 0.849609375\n",
      "29 0.814453125\n",
      "30 0.759765625\n"
     ]
    }
   ],
   "source": [
    "for b in range(X_binarised_train.shape[1] + 1):\n",
    "  Y_pred_train = []\n",
    "  accurate_rows = 0\n",
    "\n",
    "  for x, y in zip(X_binarised_train, Y_train):\n",
    "    y_pred = (np.sum(x) >= b)\n",
    "    Y_pred_train.append(y_pred)\n",
    "    accurate_rows += (y == y_pred)\n",
    "\n",
    "  print(b, accurate_rows/X_binarised_train.shape[0])  "
   ]
  },
  {
   "cell_type": "code",
   "execution_count": 39,
   "metadata": {
    "colab": {},
    "colab_type": "code",
    "id": "_S7f6ypzuufw"
   },
   "outputs": [],
   "source": [
    "from sklearn.metrics import accuracy_score"
   ]
  },
  {
   "cell_type": "code",
   "execution_count": 40,
   "metadata": {
    "colab": {
     "base_uri": "https://localhost:8080/",
     "height": 0
    },
    "colab_type": "code",
    "id": "sra9X-duuUVV",
    "outputId": "db58b0dc-3a67-4a66-8dfd-d7829ee9999e"
   },
   "outputs": [
    {
     "name": "stdout",
     "output_type": "stream",
     "text": [
      "28 0.7894736842105263\n"
     ]
    }
   ],
   "source": [
    "b = 28\n",
    "\n",
    "Y_pred_test = []\n",
    "\n",
    "for x in X_binarised_test:\n",
    "  y_pred = (np.sum(x) >= b)\n",
    "  Y_pred_test.append(y_pred)\n",
    "\n",
    "accuracy = accuracy_score(Y_pred_test, Y_test)\n",
    "\n",
    "print(b, accuracy)  "
   ]
  },
  {
   "cell_type": "markdown",
   "metadata": {
    "colab_type": "text",
    "id": "nNPjMZiwvwp6"
   },
   "source": [
    "# MP Neuron Class"
   ]
  },
  {
   "cell_type": "code",
   "execution_count": 41,
   "metadata": {
    "colab": {},
    "colab_type": "code",
    "id": "nmqsH4TKu6YA"
   },
   "outputs": [],
   "source": [
    "class MPNeuron:\n",
    "  \n",
    "  def __init__(self):\n",
    "    self.b = None\n",
    "    \n",
    "  def model(self, x):\n",
    "    return(sum(x) >= self.b)\n",
    "  \n",
    "  def predict(self, X):\n",
    "    Y = []\n",
    "    for x in X:\n",
    "      result = self.model(x)\n",
    "      Y.append(result)\n",
    "    return np.array(Y)\n",
    "  \n",
    "  def fit(self, X, Y):\n",
    "    accuracy = {}\n",
    "    \n",
    "    for b in range(X.shape[1] + 1):\n",
    "      self.b = b\n",
    "      Y_pred = self.predict(X)\n",
    "      accuracy[b] = accuracy_score(Y_pred, Y)\n",
    "      \n",
    "    best_b = max(accuracy, key = accuracy.get)\n",
    "    self.b = best_b\n",
    "    \n",
    "    print('Optimal value of b is', best_b)\n",
    "    print('Highest accuracy is', accuracy[best_b])"
   ]
  },
  {
   "cell_type": "code",
   "execution_count": 42,
   "metadata": {
    "colab": {
     "base_uri": "https://localhost:8080/",
     "height": 0
    },
    "colab_type": "code",
    "id": "FSBMAb9iw8Gg",
    "outputId": "c15a277e-780f-4d8f-9240-8f765b4c4155"
   },
   "outputs": [
    {
     "name": "stdout",
     "output_type": "stream",
     "text": [
      "Optimal value of b is 28\n",
      "Highest accuracy is 0.849609375\n"
     ]
    }
   ],
   "source": [
    "mp_neuron = MPNeuron()\n",
    "mp_neuron.fit(X_binarised_train, Y_train)"
   ]
  },
  {
   "cell_type": "code",
   "execution_count": 43,
   "metadata": {
    "colab": {},
    "colab_type": "code",
    "id": "DLbCuv4XxB5a"
   },
   "outputs": [],
   "source": [
    "Y_test_pred = mp_neuron.predict(X_binarised_test)\n",
    "accuracy_test = accuracy_score(Y_test_pred, Y_test)"
   ]
  },
  {
   "cell_type": "code",
   "execution_count": 44,
   "metadata": {
    "colab": {
     "base_uri": "https://localhost:8080/",
     "height": 0
    },
    "colab_type": "code",
    "id": "v5xRz_UTxPer",
    "outputId": "429c48f1-fb4d-4356-e67d-815e2a7b3ef6"
   },
   "outputs": [
    {
     "name": "stdout",
     "output_type": "stream",
     "text": [
      "0.7894736842105263\n"
     ]
    }
   ],
   "source": [
    "print(accuracy_test)"
   ]
  },
  {
   "cell_type": "markdown",
   "metadata": {
    "colab_type": "text",
    "id": "OdMOCKAvs4JO"
   },
   "source": [
    "# Perceptron Class"
   ]
  },
  {
   "cell_type": "code",
   "execution_count": 45,
   "metadata": {
    "colab": {},
    "colab_type": "code",
    "id": "zpMzDt5fwtcE"
   },
   "outputs": [],
   "source": [
    "X_train = X_train.values\n",
    "X_test = X_test.values"
   ]
  },
  {
   "cell_type": "markdown",
   "metadata": {
    "colab_type": "text",
    "id": "Qd_HKoKnu66i"
   },
   "source": [
    "$y = 1, \\mbox{if} \\sum_i w_i x_i >= b$\n",
    "\n",
    "$y =  0, \\mbox{otherwise}$"
   ]
  },
  {
   "cell_type": "code",
   "execution_count": 46,
   "metadata": {
    "colab": {},
    "colab_type": "code",
    "id": "rG0tKLsUxQ9b"
   },
   "outputs": [],
   "source": [
    "class Perceptron:\n",
    "  \n",
    "  def __init__ (self):\n",
    "    self.w = None\n",
    "    self.b = None\n",
    "    \n",
    "  def model(self, x):\n",
    "    return 1 if (np.dot(self.w, x) >= self.b) else 0\n",
    "    \n",
    "  def predict(self, X):\n",
    "    Y = []\n",
    "    for x in X:\n",
    "      result = self.model(x)\n",
    "      Y.append(result)\n",
    "    return np.array(Y)\n",
    "    \n",
    "  def fit(self, X, Y, epochs = 1, lr = 1):\n",
    "    \n",
    "    self.w = np.ones(X.shape[1])\n",
    "    self.b = 0\n",
    "    \n",
    "    accuracy = {}\n",
    "    max_accuracy = 0\n",
    "    \n",
    "    wt_matrix = []\n",
    "    \n",
    "    for i in range(epochs):\n",
    "      for x, y in zip(X, Y):\n",
    "        y_pred = self.model(x)\n",
    "        if y == 1 and y_pred == 0:\n",
    "          self.w = self.w + lr * x\n",
    "          self.b = self.b + lr * 1\n",
    "        elif y == 0 and y_pred == 1:\n",
    "          self.w = self.w - lr * x\n",
    "          self.b = self.b - lr * 1\n",
    "          \n",
    "      wt_matrix.append(self.w)    \n",
    "          \n",
    "      accuracy[i] = accuracy_score(self.predict(X), Y)\n",
    "      if (accuracy[i] > max_accuracy):\n",
    "        max_accuracy = accuracy[i]\n",
    "        chkptw = self.w\n",
    "        chkptb = self.b\n",
    "        \n",
    "    self.w = chkptw\n",
    "    self.b = chkptb\n",
    "        \n",
    "    print(max_accuracy)\n",
    "    \n",
    "    plt.plot(accuracy.values())\n",
    "    plt.ylim([0, 1])\n",
    "    plt.show()\n",
    "    \n",
    "    return np.array(wt_matrix)"
   ]
  },
  {
   "cell_type": "code",
   "execution_count": 47,
   "metadata": {
    "colab": {},
    "colab_type": "code",
    "id": "rYc6A9E2wrns"
   },
   "outputs": [],
   "source": [
    "perceptron = Perceptron()"
   ]
  },
  {
   "cell_type": "code",
   "execution_count": 48,
   "metadata": {
    "colab": {
     "base_uri": "https://localhost:8080/",
     "height": 288
    },
    "colab_type": "code",
    "id": "R4IcxePAw49U",
    "outputId": "fc7dcbbf-ccf2-4ab1-9fd6-d388136496dd"
   },
   "outputs": [
    {
     "name": "stdout",
     "output_type": "stream",
     "text": [
      "0.947265625\n"
     ]
    },
    {
     "data": {
      "image/png": "[encoded data removed]",
      "text/plain": [
       "<Figure size 640x480 with 1 Axes>"
      ]
     },
     "metadata": {},
     "output_type": "display_data"
    }
   ],
   "source": [
    "wt_matrix = perceptron.fit(X_train, Y_train, 10000, 0.5)"
   ]
  },
  {
   "cell_type": "code",
   "execution_count": 49,
   "metadata": {
    "colab": {
     "base_uri": "https://localhost:8080/",
     "height": 36
    },
    "colab_type": "code",
    "id": "u76oalfOxQWV",
    "outputId": "e5b8df4d-d49f-4c4c-f03e-5809d7bdf94d"
   },
   "outputs": [
    {
     "name": "stdout",
     "output_type": "stream",
     "text": [
      "0.9473684210526315\n"
     ]
    }
   ],
   "source": [
    "Y_pred_test = perceptron.predict(X_test)\n",
    "print(accuracy_score(Y_pred_test, Y_test))"
   ]
  },
  {
   "cell_type": "code",
   "execution_count": 50,
   "metadata": {
    "colab": {
     "base_uri": "https://localhost:8080/",
     "height": 347
    },
    "colab_type": "code",
    "id": "e9abrgoW-GlS",
    "outputId": "ebdaec58-949f-4a6a-e861-b29a069a96f3"
   },
   "outputs": [
    {
     "data": {
      "image/png": "[encoded data removed]",
      "text/plain": [
       "<Figure size 640x480 with 1 Axes>"
      ]
     },
     "metadata": {},
     "output_type": "display_data"
    }
   ],
   "source": [
    "plt.plot(wt_matrix[-1,:])\n",
    "plt.show()"
   ]
  },
  {
   "cell_type": "code",
   "execution_count": 51,
   "metadata": {
    "colab": {},
    "colab_type": "code",
    "id": "0q6wRNeO-PDc"
   },
   "outputs": [],
   "source": [
    "%matplotlib inline\n",
    "from matplotlib import animation, rc\n",
    "from IPython.display import HTML"
   ]
  },
  {
   "cell_type": "code",
   "execution_count": 52,
   "metadata": {
    "colab": {
     "base_uri": "https://localhost:8080/",
     "height": 269
    },
    "colab_type": "code",
    "id": "6k8JZKSr-oeK",
    "outputId": "78822666-3f7b-4a17-c7e7-2eb602721e16"
   },
   "outputs": [
    {
     "data": {
      "image/png": "[encoded data removed]",
      "text/plain": [
       "<Figure size 640x480 with 1 Axes>"
      ]
     },
     "metadata": {},
     "output_type": "display_data"
    }
   ],
   "source": [
    "# First set up the figure, the axis, and the plot element we want to animate\n",
    "fig, ax = plt.subplots()\n",
    "\n",
    "ax.set_xlim(( 0, wt_matrix.shape[1]))\n",
    "ax.set_ylim((-15000, 25000))\n",
    "\n",
    "line, = ax.plot([], [], lw=2)"
   ]
  },
  {
   "cell_type": "code",
   "execution_count": 53,
   "metadata": {
    "colab": {},
    "colab_type": "code",
    "id": "h7-kujHh-uSc"
   },
   "outputs": [],
   "source": [
    "# animation function. This is called sequentially\n",
    "def animate(i):\n",
    "    x = list(range(wt_matrix.shape[1]))\n",
    "    y = wt_matrix[i, :]\n",
    "    line.set_data(x, y)\n",
    "    return (line,)"
   ]
  },
  {
   "cell_type": "code",
   "execution_count": 54,
   "metadata": {
    "colab": {},
    "colab_type": "code",
    "id": "kzXVRFJo-xwI"
   },
   "outputs": [],
   "source": [
    "# call the animator. blit=True means only re-draw the parts that have changed.\n",
    "anim = animation.FuncAnimation(fig, animate, frames=100, interval=200, blit=True)"
   ]
  },
  {
   "cell_type": "code",
   "execution_count": 55,
   "metadata": {
    "colab": {
     "base_uri": "https://localhost:8080/",
     "height": 308
    },
    "colab_type": "code",
    "id": "Rphin0gy-0Dm",
    "outputId": "d23d83f1-6d18-437f-a2dd-d67164f9965f"
   },
   "outputs": [
    {
     "data": {
      "text/html": [
       "<video width=\"640\" height=\"480\" controls autoplay loop>\n",
       "  <source type=\"video/mp4\" src=\"data:video/mp4;base64,AAAAIGZ0eXBNNFYgAAACAE00ViBpc29taXNvMmF2YzEAAAAIZnJlZQAAnC5tZGF0AAACrQYF//+p\n",
       "3EXpvebZSLeWLNgg2SPu73gyNjQgLSBjb3JlIDE2MyByMzA2MCA1ZGI2YWE2IC0gSC4yNjQvTVBF\n",
       "Ry00IEFWQyBjb2RlYyAtIENvcHlsZWZ0IDIwMDMtMjAyMSAtIGh0dHA6Ly93d3cudmlkZW9sYW4u\n",
       "b3JnL3gyNjQuaHRtbCAtIG9wdGlvbnM6IGNhYmFjPTEgcmVmPTMgZGVibG9jaz0xOjA6MCBhbmFs\n",
       "eXNlPTB4MzoweDExMyBtZT1oZXggc3VibWU9NyBwc3k9MSBwc3lfcmQ9MS4wMDowLjAwIG1peGVk\n",
       "X3JlZj0xIG1lX3JhbmdlPTE2IGNocm9tYV9tZT0xIHRyZWxsaXM9MSA4eDhkY3Q9MSBjcW09MCBk\n",
       "ZWFkem9uZT0yMSwxMSBmYXN0X3Bza2lwPTEgY2hyb21hX3FwX29mZnNldD0tMiB0aHJlYWRzPTYg\n",
       "bG9va2FoZWFkX3RocmVhZHM9MSBzbGljZWRfdGhyZWFkcz0wIG5yPTAgZGVjaW1hdGU9MSBpbnRl\n",
       "cmxhY2VkPTAgYmx1cmF5X2NvbXBhdD0wIGNvbnN0cmFpbmVkX2ludHJhPTAgYmZyYW1lcz0zIGJf\n",
       "cHlyYW1pZD0yIGJfYWRhcHQ9MSBiX2JpYXM9MCBkaXJlY3Q9MSB3ZWlnaHRiPTEgb3Blbl9nb3A9\n",
       "MCB3ZWlnaHRwPTIga2V5aW50PTI1MCBrZXlpbnRfbWluPTUgc2NlbmVjdXQ9NDAgaW50cmFfcmVm\n",
       "cmVzaD0wIHJjX2xvb2thaGVhZD00MCByYz1jcmYgbWJ0cmVlPTEgY3JmPTIzLjAgcWNvbXA9MC42\n",
       "MCBxcG1pbj0wIHFwbWF4PTY5IHFwc3RlcD00IGlwX3JhdGlvPTEuNDAgYXE9MToxLjAwAIAAABo2\n",
       "ZYiEABP//vexj4FNyAANlzqKeh/hFbH0kFF6sdmgZOoAAAMAAAMAAAMCKBe14pAwmV514AAAGTAD\n",
       "f1j+CihwANtGK7hoh7K5OQWKjrqvbC9r6+t5C8/7BiQ0G5Mco2H2JVu1krxpf1BKpOTyJ8RHAuqx\n",
       "jSQh4obqXkoFmWhoLmUkAwdzqDHAKIupw95VRRnUVtFuRi5DoSN/5SJGZ0ltn94fnmiKW/JXThQz\n",
       "7zCS8u3ykp6x3VChX9X2+9Vs+IiKoEMIt5YlSKdMWatqEukp8Tme/H3q4MP8p1DCUmCk2RUr4XO4\n",
       "K+APXY06QrIC+MoU04eP2Vn6q/Un0ai1wj+y+oeyPQXedOEOz0/a4SFKAqOjUqeLToGXYnOWDb6D\n",
       "8dUesNLumYj6oG2X4R51hVq0Mp5r0JOBHXJ2UZaXSbx6l6TCcjIN2sQsk3vqQxz+6HV8B+Ixg/kl\n",
       "7jHrWd+dLXMWtltcX8a7Q3dlD9RLJyObBrp6FqcwXJMvch+L6yw4z+dFP+I6HOCou7oEGC8Yj8B2\n",
       "gTy5ipqb9rRbVT8VmdX47PwkM0qF+hTnozLYj9JI73mxteE8TqqX9cLv4ppZqStm/83sO39JpKq3\n",
       "0pAf44144ww3905CLl+7R6nXgrWZKxb6rjqooIXJNUDxHLIiM/c82CpEUynIf8qHz6778K/+g/yx\n",
       "2gNv8Fb2CgjkvEnuIMvdyhIvWUaRJA1jgvdNiXb82GeRE3FfMv9x2js/maaP+xgDos5M5OJZGAAr\n",
       "4lzonGjN42UE2rpP7vq1JW35xHP/WccGhy9evV4roYa80XlnSZhEJr2HR7k9w6tYiqlADysyzv+L\n",
       "e2+23WjDMn6YdohIojSIza7P93R/bZydOq6u4/aOOt9Fswj71v8nO2Ddnno4e696FiOfCxGBZKsM\n",
       "rF+0SM8wGbWE1gWpdt78ognrmUlw1+CCYB6GxlOtVksCJJbevlUtrAyM3qboTLEWqv08ezZVl6eq\n",
       "uTonANA6uZldDyoevbzm6MssQ1rd8EFfTv69FVD29n8xGtKBQOghHOQJLepGDKJfVDYFwSoz9O1p\n",
       "qv1fr3CHU7j/A+ywjdAnFHH/YFEZhGjF8NBwdtBktMoIsL8t8WdShbc4J2URuekCm/4tbtn77/51\n",
       "tQj2+eqGvOZK/An6FpM01xhWtfsg7fwiJkk2eFvVIC+ZAC52Vrv6jwB8+B+XO+18h/AFLga5zO6r\n",
       "EB6x0u2j/souPg/Ph08P6NTpm2fS+hRjMeXssWOe6mbaKulyYUuJW8kWk2bGDDu45dozaDa+Y6NT\n",
       "XXCzCUrSqNZyQGEXNkERUNJMhrr/DiBcmNff9ONkadCYh3Jtdg5C+T/37uxrCM/NiPmEwlus8SA4\n",
       "lhrO8g1TmaQHCZGUdVcqwt5TDJDzws4EIZBaHZt232OVUBuduJePBWxpxJHoeQAQjlaQBeOfc1wt\n",
       "uvkvFAC4DrKuPdbvQNz3ytm5SbHKrgekHTjN7IoqXfPU0tlSO5Cb7gtYVIaMKTmZDPEkiXkhtExX\n",
       "ytxIO4eLoFVJrZ+/JmvSbPo+hK7qkVlo8Hhv+bEw2OsKK4nMANM+q8ycisyeiAJpg1CGwyL5A8h8\n",
       "QJ+rmcNwsntWrwvQfesIRBJeFJSHsRme8QHNzTLlcVcOSo0YdE5ozFTCn/zpCLHiJ9ZuUgdVc1Hl\n",
       "OqA7+AC/zeaww3YgSHzc1rIxQiPvBtf9i9uF5bRZz2WrmlQRKKFCY1hYSMv68XG+PQLenB26QFxU\n",
       "fT9bL67wOXvhERXarPuztPM3innW9FD8Iyt29jh5R2yiLzBDZBn/JcQBZH3EFbm2h+ykjMTDraD3\n",
       "U/VWOxFajFzD3GikZRS10cDXD8M5qtvTJ1ohnI3iHInwh4NCA0A1024GENdFIXZLpSOTj+Qx6/nb\n",
       "CeqifBeoXU0RdktSI21zcLxmK8tIvmWF0IjoeEL4ePCF6zsoUEZMiIMLMgqLy2QpZLkLXIeiJgZR\n",
       "ekRe82QeifjMpkrA7Ud7RyrJgjFhlLl+AJA2KJQf1RAX3jbPjwBxlIjq8kVlhJa4XKZt/Mg9kt/5\n",
       "0UetIlMpY6aUdZgm4PYcxDBotFi1VPcp44U3tegz9A+ZOHAA0LCituwVyFEdQ8+u2SOlks8PW32/\n",
       "zHR8bhxZXM5IPw9xiu21fxuckq9Ap7DWCs7i26+M3/uFYHXupDjZa0AxvZa5+2VKlgrCsshQM2iN\n",
       "+YkSH5fXss1Ubac6AVcC0oV4aCKZnJRomYDQxkvZWhEEcyLE+dnScpM5S2YL4oZkkzTiOjFqY/gt\n",
       "7TMsi4YFHeEZ8yStAfFq7l5Akht7vDIgnb7SXJvpBZS3U6EvFtj8i9UuKVuwl8J38MN6/3Ooggqm\n",
       "O1kRsswljQyEyJo/A/gE/h7i1TUz9sCJaNENNv3vchtDQYBJDqZpWdOfJAmooEvM5d+fO8CgyPdu\n",
       "yo75iVnejXjbg89UOhib/yWCsXlD1Y70yG9XB8nFo4CZZHU+u6T65q2UcZx6ZAXHIFRhn1Y+ZRGf\n",
       "cTU+E0ippjAndShCcH8lJuADDlN3VGSq8KaIAhwH+qYlIqBZdu+t8DZA+ubFz8qlEYooe1TSkyoe\n",
       "3tKKCvVQnsNR+6+ECnHWYf1D5xXdrggZ9V9iVfHXIz/m7G3PkbYE+FXSP7zb2zy3Z5oh+VXwc9fA\n",
       "4b3Sm08c/IIukTc/pG11VdSWzu5u7wDHrN7C7c6DsWq/vgugDMbRbefo9NymbWnGSNCwNMJ8Ijz7\n",
       "HDsJgQ2rA5dP6SbmEvDzb6XuTRYFN8T6iRhXo49Iwz0KvRCPQvUvFnz4Ug5U5/loIm2TDDClwH9R\n",
       "djtQVwxJJ14WtWkmBovAmHpCtzeK6HesWNOYT4p5gjU52bxwNFvXW0KhOnLxjI+pGcz3adkttdNo\n",
       "FQ2IbYWlUvY/PpDrNIz/mLaEgFMj3kBgEKVp8+L3QDrXIjbfSDTVG9k801hJzHA/Yq7rkP1eUhmw\n",
       "jD25iMPOL01q2MMLAQQTw0zfxF5PF6aWDvm9z2NgE3agW6+s4Y6canrz9FJ+l/KZLK3BtAB2yOrS\n",
       "pghGZTDnp2uIF5VjpK6AZ9FUkkDrIGIHp3bjRlxgBmYLi7BpVzvWFAsQhsOJveNvPrKzuiSBv/i8\n",
       "YDXP/W2jtd6p/3x0WYRlykbbuXj57mNwa/un/O9Zjq2fGzPEyO/MdtFnMfYn5rTmJsNtpBugHjyL\n",
       "c/RF7yR/X5sqSmt99c21ZfEnrcoFzUCT+HfcvcmWvn0h5KEOcl5SemygbDerBz6qoOPzHRk2sNFa\n",
       "hK1WpFUzxz+wLlnIXutDa+9kYkD13G140uz5Tc10gRrjyePWS3XYYxNitISO71QO/7XsUeQLWzt0\n",
       "kCPxlLnZN+cTvsv/oNd2uZmu0tXrpJQ1I32g754C3ZBdHtmmRx3dXpTDgjoiVSLz8hCmatcGda03\n",
       "xzbkB9vkpFX2YadoobXbiVARablL4zJwIB+i3K6fAFfGTvzg8tIpw7wcLX6nqXjnASSJx2O+aCPc\n",
       "Dw3XII8DxXENdwe98/ElbPlqWz1bn0lmLMnXg3GsnOEbgxBrm/i6wZTVQDs62o9LZzTpahSyyjLu\n",
       "GE4Uyg5kgpJt/dZUTYxWBIOdmK8gjD6QNB1f1ZXkKOTvpUi5uY863btIB/EPQOyzhXfE7F6Ly7TW\n",
       "F8cTj2VR0RIXIEvVSUn6ckKyIQFiSETOtQUAxzXPqzZXQK2uMJunulLRGKTP6bEjTbDOfx8gT7zl\n",
       "wx+mkENzCsS+VgtZOOwV8OB1B7FgueQtKE8OMqO11pXsXOWVVXwaZnxMgdf53BKFnu6NnhKcYHMA\n",
       "uKEz4ajq5xTys6/9Nv53OKXYTYYsIYb3ZdZAifiL1hD/7H8EtI68FZOdwixPNNxaVaf2fyvn75/W\n",
       "RCbwToj3vkoNkxcXyY3NnEPJfco6WxG0vsIrBzQKFr5+g+1/LAs62o3bdOxsoxZnJbw8oci1vKh+\n",
       "USQlJXP+KcnaPpqHEBfTI2ePKDK8a0S1LejyoKVTEX9BdQACQ1HLYLhMmN8rHyEudtLNomnqOH26\n",
       "rXUBZkoX+WNFNQKGYecFwsIxkBJn9UStSmlqD8B2yj9NWJi+EK/9N1+fIvQz0FcN8ZXNN1hFXrHg\n",
       "s1QZd+zCYVnFg0VqmFfQtITTkNVf1nPGMtHKy1IaCltYmCrTpj2u3vGeYWDAptFoUS7tev8AZxLe\n",
       "Nfwh/WIsXoUXRPv99X+oFlF4riBiProZGlFwb4XH/P4gijTfcPSIxU+tXG3ai9/vOYKBy3oKv94h\n",
       "EMDNtrnuiBnd4bRcbxfcwUbzEjNSxPX4XkQLieF5pQUSRWEXjTu8T+Z41vLxtnyBMo0d5UaMcuvu\n",
       "dgjukk7QEPDU0hiQZq9r9zNetkMk5MyalVy/6Iu8FCooiOGvWY9MNBPyl7u/JGHdsTaFsouXe6So\n",
       "c4rKZwuwFT0Kzs9VOPhMlTiQX9oOrcyA0DGepsT8nrUUD+RKPU/oLm40kxbnjd+eNJDP2gFBltAK\n",
       "ipIk0caKnrMwnVVaqgi0IYC5zHUC0hGHmKnj2w3+/y+nbCgKERcSr78eeOtetOSHOagO2FqwFSO9\n",
       "wq+ytmclGGI1qEiHTDpJGL3nid4JcF6dMmG/33L4KpVlFO2FHld/ECXXbghdE+EG7CXgfRDIBNJl\n",
       "6kbGTlqsrY18WBhAOyj/ruTRsVclwlOKJorTeV1iksXAHIaKu80ngpcqD3FXodLH5OwtosfIrbTO\n",
       "Bhb9r2urS2Loy3midrbXciI4Ktv9xNWwOESmdHRccoF2xIYaRbtD/kzffAm2h9tS9TiQAIL0tYca\n",
       "YUqUU8ypnMocgBrEG0CB4VN6npssZ/eVctp5uKvv8XcH0XkQl8+UepQQqCwLLJlKtdNj0X+ZvbzH\n",
       "hVdG9Gk9CacUkzYv+gZl9tL65DmmlxOOHznfqV3SqVRob4MQjxFUsBxrhwCSCeUt6QpHTdDWXOOX\n",
       "5qTgPogQdwP5LV6xVbe8+Of7OhaEDbMPPSvj1ccwSbEcU5IW3zVhzU4UYfeOu8BqI1qwhu8zXoAt\n",
       "xPUNFq+GCeP1daCeUNLgh7wogDe1gYxhvCBmDtKKRvk0ZoaHo4FXWdxt46RFCSTHnxZdyuqk2ekF\n",
       "FVxxZ0vPwpO0m5gc8ldWmrDZyH6VmFyesFFd6sJ7tb1D1T7uEqBXMsR0vlio92cs+oqxo3cAep1S\n",
       "oaJ5x4ZF4gUJrAWMSGyS3DRjKSf7SkLBFwrZNASn+EAmVnuf/90z91n5WP2I7yo4dCfpqB12QICy\n",
       "7V9WIHycgRYN3PvrSl34swJRedjG1fDEAzGyZedm4znmcz0bPJcGRbc5vgg0JyPWB8Y/mxxDAeWa\n",
       "lwqPpelwxp0SiGdSOMNIrnWSYsRS8OvykwkHk/OlAmgu6CLdFmDvWZegnjmyK75FqfCmFF+q6UjH\n",
       "pibO3tdHdDpj+02z5kn+fl0zoReVvSg6FN42QAOkZtmJYZm+lMDKvxXxeWGHnWUUuVddmuLqeQUv\n",
       "8D8aCF5jCV6D4DpJWDwiua6aRVXQeXmASKB/TMfWt9e7tLfBF0h1Wa+qPUyRuHKa/m20yqXbuaUE\n",
       "VgkGIpNClushskspH5jA/vxSfeu1UzJ9nc8TdygWQ0RpHpLaOnZ3j3LRiUmP8Xcy9RxXd6+NsgUV\n",
       "F2JeTQwli8lVI7uEUiNZ/XaNRkz+iWmopIMfzMu6nLCJHO+InJ1UAcYX9cxx+jaV0jPgBvbLqyQo\n",
       "obc4AnE9xsqZ+f8mBaRfkEZEgiyOFNIYpLKZS9vBDrM7Gq1Y2VdMg+hmnRL5ToQtQF7UGdMl/0MP\n",
       "1qel9Rxr4vYHQgy1fVTY0ShYSaBcEjg6PQu4HHtL0t4vCzAimOIKwkpDchv9drEW8C5aV0M3qmP+\n",
       "tFXXzECpzgcn8h/up8EV+T6WIHiVcHpkL10144tHMrN/eBnq+mAAAFnYFs/ZUWDoEfbr5NsdhPKx\n",
       "ThhJc032HFs24G3fhaV0cmA7nJtSPE54oc7f4buQDaO9f1WMr3v6KpABfrInjdho/eSAyULVyFFm\n",
       "SSAPnDec0sirNUScWCihavOBZCdMgLzr+FTDGf2yvPmz/pfNYt1j7yGXKwKmni/hEWz38m8SiUOz\n",
       "TJUPWfZMKl89KQ+lkeF8/oU10zaej28bZiL+yhKk4F/MZNT/AXwpedTAOJu9vvfP6bWBu+La4gEC\n",
       "VdMfwnSj0WEhL5nCEcAQ3voeC3RCkB95bqA90ubDKdV4NyDdGu+VedCqyuNbbCSzgdqJbK+9A5hx\n",
       "t7rPuz1x8/TKsEDHEU3F6V0BJxgwmJl/1h8k9U68u7Wu/YSlDpQR76WJp9rz/MQESAxAB6XJ59Sr\n",
       "Fmvh0K7Gazp6KHGNt6FyTZPLteirCvDhsj8xAaZaqP7ei+D7/65v0Bf/uvxYyCm9RELP0dJ5bHJ4\n",
       "fWOG5oguF5dI3nP+5+zhi1/z3QDrXMH9nLhLnqsMDB2YNTVRSgN+/dN8Mlpt72fR+pLUufwehdcl\n",
       "V4b0duB5L7zM/wH5vweDKFVgJeAsApHJQhowDZ9iz+zRNAADbeAAAGKMmUB1NjuuoH8G4v87qlqj\n",
       "8cMWPK7nbQse+C8vuZFTBro5/qzzyCi4efJpNVab0p6DWIVHtNxuu8oJs4pcx5ZJ1TobaKaQRQB2\n",
       "+qisLlBBl4U6Z3drUf//7wDfCuXD5AJNLxLYy21GM5gkib+uG36N9LQ66aUkGsFP0M7zhUPjMJbT\n",
       "5EYYLX7e31H4ZLxSjInUyQNPE08dhctZQV5XvZ2dx4ErlLM5/PGDWkExeO0plf0L++AeQ65c+Wuh\n",
       "HwbruHrgdu1CstZ0yI49vq3jSSDPwuQHyB4Ilcgyfc2lmHFOew55YC+dGy3mdbTMmzpVIoHlk2IT\n",
       "GlrHp7fzdVCe8/9ooMEF8xhvxdOrHjmlYkJaAO2R3OsMPmhwKcJvxInrx7o3+llUzYSQUAX8bn/J\n",
       "uAzBIomePHvslbzacdKCd9HEileXLbX8sOqIQGU8LsUfYkYuqbJVtELEJLUbn/8729yp/EzQNpkW\n",
       "8Htar0x+jcwqqCJY8ZW6W2UZ+oy/kdoYkudHibd3tZ+WTVMajfbY3kJMk2aKE8fuFDV97rDeaFs6\n",
       "ud8yT/rl/m8HuuMQ/pDGsE8KVlVe1vohusorwbRO5cXsZNRp40cAs8Ww526cBbh3I73AnYzPlvKz\n",
       "MQOEbsZP6CECEIaOqXlAnrCildFrxnqbgFSxcIyxay+27e4LP0fb/K+RQVfpM8zKtxo0OeVdTUMB\n",
       "SJDh08A20gfGdKhexYP+ExOyM4RmtImYpCfx/WL6RJdz9Oed9jl4Nl7S3U42+ByiDfV0K5Qki+3E\n",
       "dHdYNL7MWi0Q5wsif/r/Xt1hnUmRuERPXf2vGUyoVjt62T2g/4EzNMN1KDXKX5fQt677rI7TXsc1\n",
       "yt/iQymE3XR2vs8D5/4W3Bxe/6Tu83sN8aNhjn5fcTgTvNAgdS67Aff1si23FS6k95eiefbXfpPx\n",
       "KLNC45nXLim/uIejqixVONF8mZ+6i5p3QsvxUnV9CCiTfOr6VL9WRT2AFUqp6eC6T7XIb13v0p3E\n",
       "xLa7Ebz1ZC4jn5I3iOGTuEvTVKKlIQbL3S7wIstwCOuURYt2HDmLxu87vIXi5L8wJ4GternSCHLr\n",
       "YHJSyf8yWb4g36xKAYvTAl/r4AzLsjf/BELtifFBdy0XyhcMEzn5nnnRgJJ15rnoGp28Yo2kVwqu\n",
       "QkGohOchGlAHEVSIkkHtfuDvW5n/huhZOWlUDVN/KAUBiAncOzBRFUc0ckTyVUbtufKnwZt1E01x\n",
       "GNq1Vgb2NyflSfoOFcpUKZ9fiU+lwqfqvg90vrYaUSdJlj0rM0VBaUcBtXrP/iDJ1zD6pxxD5ACP\n",
       "WaWlH+nDaZO8TTGh/uLFeIzPUM/3f9vKH5Jkf+AnGsOeHr3aU5lWLzHbyjN138AFZ3OWLqMz+nDh\n",
       "IsG3WXD0Uy60224ooJfeUK8mV8UAqulFj9za7vhk3L5jpKnKvaOCdx994hrf5iWhDYxtVvEI9A6Q\n",
       "44JVpq5G6J6Hf+ZjILmxWTUUS5+TBq7qIzFlOi2wmH1oMCUdEeJaZexvv0ALNb/ryCkCXipeeOxV\n",
       "fUWcobsfgiB9qT8MPIyDOg/aM/FS8OsWmOoHp3m4Pft+9nfRskEdMhDJsakWE9TpRqjWCtK1MPFM\n",
       "ovl60ArUCU0XZ2U1/v+pt4B1JOfz+QX4wVGZ/1QCl2AC3HTVSVj8/b+94FwT0b7VOjreWixr61SW\n",
       "cr2WH+HRiIQm63CK/ICRskZllje5V138WuLAN8qsN8WQQSOyltUDpNaGkb+j33XjhUZKZ1vnpYGQ\n",
       "i27hTm3plzGcegvZbd6mrV8GkO5C7gLwBdRtRMa4wvQ580c1YVVSN/hgJDSBzH4CRbU0wHTycLAK\n",
       "9JshGJjDsee3RVYKH25098XECsjGpNBJdgYdxq4tlAvikmTROKdnWQ3GGof1zmqTxBV4qWlvZ5DM\n",
       "CO+3BwBlOfBOsVEoG2cKJzXKXmfZXTKpmRSZH4eKpfTDsRq6TfqS2DGyDNKe+KnFJWR3CaXZ6blZ\n",
       "YrXF0/HxHgHCmZmgltHaK9Wx2HeVAig5PbuliRrP774Vxr9R1J190Jpx5t6oSL8H/+JMrKk37MKb\n",
       "X0PPdYe/XWyxUXoK/HSYJ7eFlnuUVvxhajAJaIRU+hqFZHh4W+tqHpurWS4GrKICKy8LWjqxSYtx\n",
       "pm8RMfp5IHlnVEsL94x6xIjhhVZrbEWOtVBALmtYkMjP7rva8XiCnD8Rbllz0fQpiHBn8CXFgRzP\n",
       "X0UVwbGFAgRTIa2rZYX98VHkOffdxAgdgErkU2JBE466nzlyEE0Oe5V7BkDSZEjktD6+hefUPwWY\n",
       "k1KdQeCCfEzkkbeUnpPvTzj38Ki9IhUF5dg1lf+eoJNPfWgXQfHcwdWijHS3snarLnKwBuevNtY8\n",
       "i5n2tH2yViOPybYQY5fiRwAv0nzhtpa2FYdb28v05mJEsAAAAwAA74EAAAZfQZoibEE//rUqgAA7\n",
       "rnFQATU47E5elCvBj2pkRL29KAcWHVQP80qP8kNEjx00bopHMvWOs+YeuffLwEHUyQJCxkpoh8dP\n",
       "P4TOs4IbkWsljt9GquYjgH+OdzwkD5WvMxHKV6y9eImEE+bclw14PDlvifuSUog02FyyS1P0GNg3\n",
       "uLSDGbKiDPauLqnFCg3jXdZVB2qPSHKfzFD1/fLxN02PZpS7Ozl8Q5x/oN+mRPBdgyfybf4T5WRE\n",
       "hDEZpaaIwP1pJ7Bgsv25/prAwiRIps6BegTIx7H80kyTKfK/Cs7ozFKP0XBg3K9QvGw64Ze3wOtb\n",
       "mHqBxOxMeK4gi8fFaso45nAfQE3zTkCO8Ffuu/e86xzXpfCzC5p2gho5eX5MHcfYqSfbhF0bedsb\n",
       "Ltx7tgdiSYorr2io8vMQsELC2Ngvo3cZWOCnVQQ62rEAZJYhPcEhszb+k0/X62qKkNkenI1rAkCS\n",
       "XbcqYSpa9rkBkjvn8/md7q9sFmrhNQlYIwf76qlY/LO/ihrO9/+Qg2sI7ROuanWVkZqnnLFWcbtv\n",
       "he0/uVEN87Lbck7X4FyJmdI31FJd7GEqYG7e7vPTcm8OglW4dtvO4FpcUwTsynjfLw/lAI5MhyYz\n",
       "cTp7mDmV/neuAHhakXBBDD+rlxvkHDAtqV9TNf2HMNGrFPeovoVOlNBpehbmA34Qc0B+1WcewL0D\n",
       "6bkhzvCufIFHpu7bydGknYW13r1mOaD2veLXev0tb3D3Tpix1lcwDUvUjOzNozIueDkSFDMSV4xa\n",
       "Dc/CBpncdtAORw1kCxsoR/BJy8jp+uOisK2nn97te/pAXSftS0l5GNT1XtR0qUrZ12TGF49kYhJX\n",
       "QUoEcPZpmaYkq7WxSpi/1llNQ382V5JChopzO0nREcPx5ZUtCuXooXiEFQs+B1Mo8mQyOvPWTPrc\n",
       "UmzYwbrDjMAfbhy7WIrTYZBiJOrus/QteYLYIIiXdr7bswrUNE+PtoALYu93S7fzcsDZQAe3K8Py\n",
       "Et87CDtHLMnxBi8VwZBq583F4pAgJE1AJfexrATj2A/MKiM9viBLrQpeOmNUV2i8lXz6vwjoeLtW\n",
       "JeeznFZkLFsvPrsMHgODm1r1RUjKUvTNVofOId0g3o6UeBLXbkNh5qRNMNk/3xNCNgUnj3B/iJfP\n",
       "mynj/GVNgwYFnOVo+0fJVKJrYaKC//JNiwjrS8oXNbYrRBCJ3FWmgdghzpk3vs+1CrHLAObflRxy\n",
       "+uMtJFnL7UNgoPjcOTezkpk+dFh+TmNevEwnRU5HzZYvDW4WowdLBmwPWbs8pggKwLUJrFu0MTi6\n",
       "KFIA7KkQFl+EMmSy2Xen/xjN/VZc8KU/NkTsN1CdSe8Nda1DLdrn1TWetUJXRibuRBmgs++AQfxK\n",
       "msdukS7J15r7Nn73NAYu+4YUvmQZQHeMR6VsbT+O96uq8vJpKmuVzOKEfcuc049OIh8jZA2CJhsw\n",
       "073CTVzXaRz9X66BVFRupApI0sGvtrdUMtHkkEgzlag98Dh8AaTik/1TwkH9Db0PqLQXyjQMUs6J\n",
       "k3g75+bqGk3BoQzIgiyxk7lIF6mIoWnwhedqhVjAfDoShDkv7VaM4NDEhTXnYQbVxmjczRK1rW1a\n",
       "zALkRb9AybGkJQHCDKJaxtaD+RKPIL9qp2cxcal3pVP6jH8BQ4THacyKUa3GSge6RdWD5ZnAYwN6\n",
       "lgJINmFUl1zM47wd6ceCXNkU6F5givl2HCnxBadH1AVD7QZFFgO7VBX4w1+/wisT0DKDfiXmeVz9\n",
       "sgCdHz4nZr+A5X6BIYfSWN+hSFCklU2gdqu9oGoiY8Ex7Fcy9FrYxJi8YdfuAMPzsG2yYKysABIS\n",
       "bWilH9eSVljdeUToPT+xkFbDTDdzxijEbj7EZlZD1yXwhMtRNyAdzdHixGX3FhqXV99/timIqvq3\n",
       "eAh1ZsIUSowhZhOWlgsWKt/MdZrrbKBGRbH3hTut+N+EwLn9ULgA/r6c6a4gJQCm9CCy1yA0Tb5J\n",
       "sbJC9rxy7yhQjTAn3oBDA3QslnUjOBwqOJAboKFv00edm+gh/5gkYvkaecoyI4+sjJNcxr9MdcrY\n",
       "8IgsdnfSfehNeTcSwvQXcWiEDhsqmzULZAOc9MSk+zRsnvipc0PGQtNsrAEEQ0K6i59zDvjiiVS8\n",
       "b7GgZtunuoS3xG9y6p/ZPwi9ONB4z4AAAAFAAZ5BeQ//AACoE71YENRh0raoALYQatD1GaZt3G7D\n",
       "db4DD5m/11UjgGVQnrMyXTz64CqoBffE4MP6X451gI1zGco4ZmyeO0GlAhHV/i5egYBGHAPdgi+u\n",
       "vqoMXRs3dz63GqJls00dfUFt3MfK43xVLuAVB9NtkwphwmwWCg0L63Fl6xikMRDO758ocqg8Jwvz\n",
       "2lZLcvtz4o1UobvImFYhObCQx54DdfvGBDPZQ5MmXPnhVJu95B7ZlICq+mrhcVAEoLncqkJufsn2\n",
       "YnOp3wOrbTti1RQO9e2Lw6cZ9q2jDyUIPJ8jrDIoXT3Gx6fNGZ5mxsb6EUg/LBzYLKAKaUf0TJED\n",
       "S9xc23ngEnpWOjtoqdqhMnAg/re1C6BfPlq/rZBpaWdzjgYB5vguVslXSmRi4zWSXsw169pNNEBj\n",
       "0ATUGk8AAASBQZpEPCGTKYQT//61KoAAAAMBbislR+87E2h/if6V1JELBb+S4J//pqBncOyS/F6j\n",
       "f/+EQM4n60WfiZ1XkEegBaVX/LqHmbk9V9cmtHPQluXODsgx5ncw25D2pvSH5QGy1ejLQXiLY+O3\n",
       "1b04EKO6JMMfuibgI+MubAj8WZcyBUPYYEF9+TjlzxQPcSNR61N+A2voDjdRe/OfvVNEjqw0Wsb5\n",
       "2CYxT4KvKgHEPdrXRmKkynMzqP1hy5FJNgcLzo9gvxamrGBTHTxjpFH5fIoGP3WlafKWrx0IE84l\n",
       "Hn9hj7JP81pc52Rs6OLs75Hywq0ZjpHsFvs/9QS2CJLbh1cTIYr1JQeaVMW63E5oSRxos/4RB28W\n",
       "8IKAp9Yoe+qjuI+31uXMzclgk6kza376TfI5THn5a4fZR11Ce1O/HbmWFIML7jaHJuaho0wRgli7\n",
       "Oe0QD2Qn/ITc5V9emapKkoPS0qoYjPHMXMG2mgdNb832gDpkRPEH7GVe8wrOB3+vT6Wx64QGduMd\n",
       "nNQ6iawY2ZlPW4U8OV3OdwoYA9OMm8GC3bY+/5vXfF8iFYRyUeaosCWWVRmRyyGnsPiXH4bpgft6\n",
       "TSQkr7HWd+SGhwW4EBHEv38IPAoq9zWbgQHeLwHksPf0fJWpwtPXk+jQZHMhR7LdzSQbb4Zzxhtc\n",
       "AwFo9jSjwNVI9iNEvscE/QT4Y2nSeVJhofcNbiYZ7k0SnU0LAJVp6a7e7Bisbt+vMhTEItMGJiig\n",
       "9+KJB4vPdjYWau1ojBiQzCey4AyIphNjTEb8rCpZH7KOwZ3Jrt+1p6gsVEuN4Mfdi+EEeCnrmkUR\n",
       "ilV/HoLnCuTqtYLni4f9jJds5mxdCa6Ja2StRFGekVRi+yPp14Ns+sz9CI9Ew8UTTp2wrygheBlv\n",
       "62CSlbtijHmaZh/6BU5HhVeiIYQ6ZGcw3iQ04NV9lE0LjcP6Uoem+hrNOyVJlwFDIDfuisCHRlOj\n",
       "Ep02dBiFzakXjLVW79NTPrFDQGPcBhZ30DMmLlk46xs9jIxO+dO/DvxadkGc0/omVcv/RJGG7Hkw\n",
       "QbXvjpF6cPUR46ECNZcQ9qxIJ53QEy1Qqnt6CURX+F0Hnxt5NKMQ/ACo/hLKh8zUv+xgGe/7LZx0\n",
       "nd5oM3JPMyZ+tTq1f3B1W2Yng45HxCuzHy/s6RBUB2lrRQU2xmMl0b8ru1TnCVlrtEsT3e8jfEMr\n",
       "RbUba5+5vCsmh3TNlu3CF1s7JiwQIKrR5YAgRchMacqCb/zjJDjg+Ky3MxIUvf6g+bUGPgqIS7ig\n",
       "jbZXIMyVH/fpJqYNDlmB7suoJkJZtjAqdfdYN5UOQ7YBQo8WA1s0TBc62JUPexDmULo1rYjeij7G\n",
       "4mwky2U50qYiO5yvivZSiEwBDMTbf+jtZj1g6VqEYcQiQeyaMb+AIjX6X7hJ9jBmiM9NEVxbDTZQ\n",
       "+tpbspdxBZ3IpUllAb81x855/OUugR/2YPjNA6MBPS9yh+QabWYyb4bsn5eQcn2OG81BfuP6IJbz\n",
       "nBRF8GrHDzbYxdyBZTwujSFe627ngAAAALoBnmNqQ/8AAAMAA+HYyLJzPBqu3pRITl5vXrbYATLR\n",
       "KF69f4v8w1o0u1Sf3fthwRgpQzXQw+ftCfTRCO2MQZt3o8zYFhk6yr1SdzGx5bjoQSRcP6AL7EHK\n",
       "VKPeHwVMRf+cKI1R1fa7X5lKP+UGoCFUmnO14Wd8mxTMpCnfwlILli4/Vemsn0beo740F6NJgXWs\n",
       "vZMf31IsDGot4XCXTOCLzvsUJnGpqu5hlHQVO/9CTDbiChLnKBQAFXEAAATKQZpmSeEPJlMFPBP/\n",
       "/rUqgAAAAwFuJivpkaAI4I82shxUTHhbSKp97jFOjePzhLP4XcIUurt2Q8pUVVJVmCV1kr/YIv8c\n",
       "Rum4FxTIKa0lbCi/YgDF7Rr02Ra3PR9GteSxRzixva0ujJri1y0P+SurOBtXW5xnWOodXGvaoF+9\n",
       "f+X8bLF74uWobkbjBwpt0/f/EJ5c/AOvMqnKJ7MCwJi8vXNAjHar+OJj7TgKFLhtm8OuDwGJtUnG\n",
       "+0Me/DLgll/+7ZvyvMZnphy2buXEl83Q242PleyYRSVBosEBnUmlw8MjY1R21Gpt6zF46TOzCNq4\n",
       "e4H+HaUvUa+eNliL45n6XhCDOsDrWnxPMpd7cLoWIRZVkiHV0E1NQ+UoEqwcvT8SJ8SNMWBOb4/E\n",
       "fQK9cju7JDw+Ijf/xoiT3BJf8w6B7F8zBfSd3bwjt+YpwKjTej9r95crwlTLA0UcLtMDMVcJu6aT\n",
       "5YAKFNSvp9r1R295LtFfC6Hd900g44MR2cWnCZkpQGyNh6AkCjUhb9nveenx2IcQZ8fi4Oq0Smwu\n",
       "8b+TxK1yAH7ndQwgq+tKDnBe/mdcGalK+82yzX2g78aE/sEaSXbQCVODtNYKq2/a8GcjYWUFBQqE\n",
       "pmPfSEtSUYgz0woFtJNPOnWIqlNvmWu/71GbgYcz6h7VglAjqzwMPtTUj5gdmN1osy05at9UzORU\n",
       "Im/IigMOz7MDuR+I1Zcpm/+fQL3HSVl5mxK/l1aCmIRuCwOy2DF50nbq9e0vd39yOdbAC9ZiISed\n",
       "9OF5Sd9mkmiWZ7ryaiy2Zy5VM/g7saC3gyaRvseFTNeAsXWd4gMIq6VZomnLrrdpxMMZlqO7O9K9\n",
       "cyBs4REF7UWT88KAoD3MRk+Yp1ayLeTRVlynxqLKJOmO41b7g9ZDJmoRzLhPSxjIW1OU+gjdBe44\n",
       "5l/f5k/VSWQIiyhW/ONvP54kCo+e8qDdHhI3YV07I9kW2+AwtDD4ooin1DAI5bvzTgviXg5trSpN\n",
       "i4cK4gDuK9TgIo/d7+7kOK8ivtvzGKoMlwF/e1i7cH5w21RaDcIDKOULAWDrHgmpsID0rmDQQLGG\n",
       "NpDayT4bZEkTSnTcY7aPt3wixwH2duvTP3WXPrZXawcqh98UOyUR2GgHGhhg2o4FaCd2s5dVD4p+\n",
       "l2M/WOd0qMuegB2xlt9/w/WfAXdAqE70bQpLFQJhiUoxfpN9Rm9INARM1j/EDhVw83pHazDTSQ4I\n",
       "aOkm2QplL+ZuFT6KFy28CNB6kt8g2k9E1oF57zje/z7BHdFUVn3DF2ZGy/0RuhzjlP9/tUDwYg8w\n",
       "1s2MBl1OczBEjnkupxrqvTSpsSyPWoL8bc6O6begLiww6JpyuO6ksWvvaebsrpS+YNz7chsxAb3L\n",
       "siok3kTvhKfXnaQNE0QtvmYMaWg0d0iy6VC438334xkxWrrUYsHBcb6RQK3BVxC/sAH9ZXfLXDV+\n",
       "h3wdZT0mQs7Seezc+TQvuu8fZjLtpcePNuySk9YgKYHHbgaLwJV9XNsR/EAlO09CsiJhwqJ9Tspr\n",
       "yOy0sWxEE6eYaUaLkwEYc4aXXer5BsAfm7AMxfFpBMhU6eBLmsUlR1pts6TTOnwz8auE7qc/XOFU\n",
       "tpBfH7ccZSASJjQZQYPndy8AAAC3AZ6FakP/AAADAAPhHyEM7FpBva5RcqBM1wO3AQo5vzMdGnRX\n",
       "qdjPGAEd4uDe0owl2Er7PY8ug1RCMWf8SXgfx759xTZ1579twJfo5DCMVKVhlYr/HdoNiLwmhbEx\n",
       "S8HdUDm48v415xSo90GMpoHfO3SEJuQzRD5cogF1GJdjLKA1wTqYNz6zt7LnVquCYRuLEonTjTnO\n",
       "HwO8hG/D+18rJjCMowkIbJUB/nxt6V/AMAnZN0qPDUh5AAAEFEGaiEnhDyZTBTwU//7WjLAAAAMA\n",
       "Xi08DBjgkQALe32gnAx7OMZ8GqApcrYBkGeJENBam4ahsjifaYa/hMXbfM75dmQEEnDwo7SzVlcn\n",
       "cKE2VUqOZD10KVTswGfVoyJ9uSscuSXxSdyz8629m/4XMX8GMp44g83S3XSQcd+BfjpGhvNcvIsH\n",
       "2Gui62Bwgdo5/K47+4NZM0kjkjtCWBmWk017BGPx5ONLcBuiuS09l01ChK2H9cgBTFzBkmg1Z914\n",
       "tZN7pTBnPgHNfN8IA2vzJ3okG9iAde3DPcaB31mk/zWn8nxtMJTsYUZRvQEuMu08gbb7pD2xIKLU\n",
       "zrRj/QUDcNe+4xfIwV73y47IOjMp1F/jlpZ7yjlF+OxQ8CqcQW1OaM0DsPGA1L4XgKpH4546Mtqi\n",
       "BhQyAixhL+E6RSs2G8xFnf6MDDxzPw+8nujeJgGCgCTfDs6Q5XjLpiuZ2HV30BBd/yvk8xuK2a8r\n",
       "IcWHtUawIqI3sBPu2Scg0heXqM/D4Y7MO7YkyN1HdjrRv2jumTkx9Iqk7BKeapgMj9P06LZINWgT\n",
       "j4s8ySBI6sFJIqfsx4wzDp0YSWNXJzCPN7GRSf6ccGzq4A7BnED43z/wquuDfFiJtXxV/Knp0Z/P\n",
       "7yoz384Kn43bUydRQQFvJibcZcaHDSjBEWoM/V1JdqxD9RXdBNlREtLA+NR7sMjpw9SqKetX77sM\n",
       "HAgy0ogiIJjBq/auEIxJGZz6ZNAruLZLnFMj85MbaK4HYthRUOyk+EZkp0ih58BS0LU0roiW6e/0\n",
       "xPuyd6kqenG6SQ1d0ucSh3NzUIm2HuRIcno29b1OqGlkkWP+16vsd/fT64MVvlr6yC+M//pCAW/a\n",
       "14C/6iUSmG4Wt7jKRxTIDJyo4bjqBr7mvmiqqRRxupaX74PA807KnzFfVwrdD2M7DueaGTvefISF\n",
       "CbknGuVBvJWMOjnFjXt+agGD+zbEWNGg0Gn7xcjYsVZyHZSjvJaehuYjCOCreltoJ5WWfc1dmAVT\n",
       "oWlMkgqQZe3+nrgS1jPGW2Lwwd+s6GWvk5mzmX05Hhg6/N0IybQQvhXzL5dJj4CP9kDuLggGE1Rr\n",
       "MT9YS3mxrCUimMi3oipcL72kz7GjbPGJif7bxWsFVnPtjs/iB7cWm3jAdg+DSgZBvI5E3vP+GR/i\n",
       "APX6cLiGrWLtL1bOh04Tfbq8zBlZb49UaIUWpP7hR8RsIX/UKWRrRt6bJWgyNvoW7583AzjjKeYe\n",
       "qHW/5V9KbVGyj8VIzaxY8z8ymQC5ftIRo0bw1AABId41OXglNY1/hUQ6e4AU+pjRl9AP2T1Q8B44\n",
       "fb6Mo3jcegE3HIIPnJcHGv3lJGGGHES678JPFJZBnyJ4RIILcqFBkXBDMIB/l7qSDZkkIrBJwQAA\n",
       "AIoBnqdqQ/8AAAMAA+EfEKADp7ligQwcNNO80AH6quSla3CHR38LioujIQAVu7sux9gxmf8vjqz2\n",
       "ABaLcKyVuLaZ1bGYfrNUA5o1z6pbl4MCewVVxEIib0A+98SEB0uVQCB2FZGzm/ZJywlCKrF48PI0\n",
       "S3ix2YquDosZEJ3d8dV6+epL/MBSfdqABvQAAAXAQZqsSeEPJlMCCn/+1oywAAADAQHJy/IuACkt\n",
       "Ppqje4Qzc5W4FX47ggVkFbLguInUDdIj+hmSwSZLQdDxeAK8CLLqdZ+cz+80Kr8WpZyHEykp7Fj3\n",
       "LX6RcOGQWbZ63o3DpfmqfREpsSHdk0erTuTbx1uH3SiZEEHz44yFSu5BFoL74Jru1mZuSEiJusYK\n",
       "pAU0Uu70M7n8GIUPINf+SDZN+Gk4FJAp5D7uAcfJYh6hkssGGtufejX2IgQr6dCUVMPctDjQgRco\n",
       "F+F3+VBPwY6RCYHALjouDdIZaffPomY5oEXRBIwR8ck5rMjY0Jhll5FCm2QDbdNNHFdp8hQb9EGy\n",
       "Xtt6ydt5wOsuyioywjLYqMTee0uKvBKvZx+oURxRv4u5DtzpuB1SaBaD3mAHdTeASgvh/nFSk0cX\n",
       "C0PCTNx9lSa24WsMhdSzQqIH0kZYNbAEWPBpsa7WU9uRr1Sci5K2nj3G7ocTg915GmhZQnMTCfEK\n",
       "JAlNbzDRTM7kh920D59Lu6xLt/wC7bmkrBDuyVMle+3jCt8VHpEw3T2gBIUwcM5urEltHn4Td400\n",
       "h3dD8ox81CJ7Ly2/8rm/ss0XOp/zOi6PUab++C9At2A3iHVR2lu5sTcMyZWWrZonI4xXj1ihLUqS\n",
       "zjfHDmXT3XAg+HUw6ukCD1lyYVxsYUJHEwhV+eKw05tYBvyWvA+ezhct2KAijc1+EebTDuxj5qRH\n",
       "pKvybg61BSAs07Z+vD4k2q4Y0OAu2FsW6vM9R31cJrcRcQlTQ6JbqYzDReZPWqGDR2RgSQRguAcw\n",
       "V/3StewPtRQewUT0dX5X9grzgZDnyHGfa+W8njewu3uYxlcfObeUCfg4BvKsw4rnAPnGXwwsWnk2\n",
       "SwWutWZSiHIOcRv+BnlkTRJcRzho1LBs0pqVLhWZ6JvvBxJDVlfKoIUFqX88iplq7nWkTHIEJVIU\n",
       "BTsTrZ/+Ju7KslEMGtwilSPDmYDGdDI819IQjDPj68jsk+S/9IZvDDPZyZ8FXhijvR3G4Rd1e8/Q\n",
       "gHyxw61vlFBuKr+m1DE1jzIA+SxrhScytafmoBGf+TRB/kcXO0igoQiPdjgbIYNCVCiOpESWkB+/\n",
       "6ohKLrxjVNV/8gX3afpOQykAV9Fk5ac2nnJcSvbsZRDM+2CvZhTST89JR9H1B7D87UV9y6R0SdMI\n",
       "SLqOoIHIX3Hts3JwoDoD4EsBak7FfNqwBN3BT8cZO0nkgXMk8sAH2wGmX8+T7+T80QbJdrHp/bJ0\n",
       "zEvNlBIvG13DwGaG8+edhxGdWI1bgp7cCVzvTMbnhXiAV4FWZWyl58j8f4UVgxyYyPmnZ3kU+0HL\n",
       "JSl8gnBsnsaRYoq3CbYBhFV9d7uoy8weLRyarOZdcCFm/ryPjBfatE26YU0fejk85gF6RSJ5RLAU\n",
       "KXWNCIm/3MdfvG7eygVZtz9w5rNOzj1TjvDPiGcqw+0n6xwUjjK4i96/O6T+JfZCsz9PaXZyC1FO\n",
       "MaVYnT5NhYpEEQFkGU5tj5L9ftw1qLjUyFoOw7c3plmDsGAVI0avJ+mBgz03Wmk5v7pbXwdimRoU\n",
       "IPvWciFcaU/UfSr3xPdDvvfW4+tLX8LnjNuNCVNiaod1dbf1wES+VLKYp5E6/XyrwoUhtZw8v9Cg\n",
       "mEIaeerydIm2/N6QdmeJS3Hz8G7rK8cpzXvX7CbdEkrysn4f3RQLJ5Q/lthSnu8TpmNWL/wkJXsJ\n",
       "bA9Y3rYGpcTqmTvRr0rxrKT/Z8qaIKWwTXez1ef7GfNBEIuhc7dF56RoTZ1tB7bdRddwsxzEEEY/\n",
       "f8OiWVKRX9yrg+4Z/Ogdi+RbezH9lhgBA+BqIUMi6inZQJk5WbVBreMHBSc+UZY86tOTY7qxaAfj\n",
       "W1rcoSGsyy0+zgLVQehUXOyI8qipJ4qafzjI6Jc9BXncmh30ZQXzLXchjmonfBiAbCWhGrIv2vxE\n",
       "VVejJqn/Iwou0joPBJvIxYv3xnwAAADsQZ7KRRE8EP8AAAMABPhg+NHzjEOaLm7VcHpZCRBNS2LK\n",
       "fwlPd2NrSgYuluj15eH4e0+QpFDmJMdQAv9jv2uoM44301OtRsTopfIWZVTBbM2Sk7sceB7AKMrh\n",
       "Gip9HXgdd9AY5+m/hTF+4mgHyBgLe8Usq6yytUWH3Nbef8pPugDYcew9mEM+obAnqARWrlGow6Qx\n",
       "6lpe+h9/LQtX+TBgigdIp3CVLh7vBB4MxpVUz1I88tJ7jH9N9uJF28F2HfOV5j/yAj014S9sMYcl\n",
       "UA+vI92JtgwaHDKxMRMSJnPGSBIMxagWl2RMY+QAz4EAAACIAZ7pdEP/AAADAAsSlZWTnsYWGncJ\n",
       "yKaRQBhlNAB7cvkKKveCk1SjsTj/86jwTf2UhK50i3Fo7KkoENvyKpe8IcRpUaSy2mz0h/YkPnWs\n",
       "IqZknbw1Snm4DmoJVsX9wBfjpons4FwQPIscQKvPki/r0o11x9noJgw3cUbnLJw+wEk0C7YfxAAc\n",
       "cAAAAHwBnutqQ/8AAAMACxJ5XkO21SDMTBU4rZ23HjPGiUz7UgACce9nr6Hrm4vV0ysFL7PC9NU6\n",
       "q8KpXhgTDYAduw+cdtVElk7hTueKGXCij8M5r4h27gXXm4+6aRNoTBNcyIIWcbOwyDV2cjha6IrJ\n",
       "u0ech4BftWMyHDsBACHgAAAE2kGa8EmoQWiZTAgp//7WjLAAAAMBAHrFg7AE2UyEpSiC15Nr4iPw\n",
       "cCzn+uZB2vNfIq5LP+kjiU/02r6XHng7dpgqIJQL1I/bnjP34mkubdYmvHmM7P9KPfSrgaibil+i\n",
       "1M+nZ8ckieH2oPc6gXGQk08Dah6tzKX0fmreUz7StMuxI+ikkJFIE7dhd5zxt1XMraRohVvj97Xz\n",
       "O16T57Fq07oauWbHcbbT0hiOAA739yTbXGBajPHruzhjBABHz0PyroDo5HluZ81R7W2Rx8e8fJjy\n",
       "+ysxKTrsFDlyIWg1z8sqTL4cIkEbbmArthQr2ERkYdhAB+AfKkxNXjHGf/9ftAPR8CSKpSmheGUD\n",
       "/oQhSzfvfsq1ZLzAAnMHysuwerzIouBqIopm3KEigzJqfg2xSIz/k8QbwR0QV4a5x31pXdatIJ0n\n",
       "hn2U2Pgo7BNmcGYuc1lKfOwI04NyaOqDZQFtdZyllZk42I4rcsXZkSUhhkuWpNAQkzOoruw0e+Az\n",
       "GqaQHlMhdvpApMLUC8+dgkhS6OmSwkJCHBAXut3xK3HwTwMUjfMCPsLOEQydEu48SIGicdEmsgus\n",
       "0wAsZBhPxQuaQZMpbX3fhkeyB+QsYtbgsU2euTyZnyM3bxoA6Ef1bkhw/2QYIJotZxB9yEvfFKqy\n",
       "wed8nKoCxupWDJWtlhUoOw6V1BCc2QPP3AZIBX37F26y91Ud1kKfalC1wvze4up9I+khlZKvUyIs\n",
       "KNcfvmE4wJjjD0LpEo8e7bggMi9NJi1839/i/uO6Cjuy4Bmk6FkOGp0VelbrTlr0shjwGhwvp4jZ\n",
       "HALydA2eSTA07toYt8sR60ZQHqAak2dXtVrhXzvtBEALNuTcxJFQ2QPGYxapD8xLAo7AhusrEMEq\n",
       "I/ABhV960CmIo+9OVfxqa3CXtVnotGX55HmwSpruSHP7+lExyGPbeuFzC4nWoByP+ZVbkTufUyVv\n",
       "IS3MaWtCRDCUZM2i8Z2FUGx0zAg/jtxTb060ANlhLRJk8nQ9sxV/M6sDCCaGSerLuPmkluZpyKIC\n",
       "Yl3otXkmHD8xtzkLqTgbstnYwQVF7MQg/YUCQ8i2CgG04eqlOcnpA4nHuQvataLkJ1U9hGwxqYgp\n",
       "caWiirQK0P1luDyaIGSKFahZdXZcdjXGi3sZP/qlJ/bkvZ4tue9z3Ukcg/N4dFCqJ1Y7I+JuySNo\n",
       "0u6Jw3Q8ApysQVohd6Ggw1tIwKfdgz9EiN8ZUPhpjP5czpYYbUo7Ck3hwKgtmYJTg9OO0efJZyJ/\n",
       "iTcHZfTAFBRJ2rTiwZJofhGOSYwvoSxjjmsf7HEoGzHCWi/KyyJ5sbHODgUPdo2l+bKdlcKTQIDk\n",
       "Uu9RAVTfuainWpiZIw1TkhaV8kE5IAGYZmBDsIfpBWKBr/Zk53XGFwTMjmXJHd1/XFnMphXN7SgI\n",
       "ctY2x1BrqOlEqw9J29E3De2BE+23AyEtPev6Kwm5/4U5C01EM/ms8EMtQNuV4EFYRCrRiUzJ48Ew\n",
       "OobprtZFg/et4SVFYBPV26sE5RYbzbDPaS4PayzTdrhBgswaEm0OuYf1dTwY0bS37AjovS6132vz\n",
       "Iz0uK9KlCSXE/UwQdqxi42JX/PcTwSs84qMzi5kenfYyrPrqpr98r2JmrJ/0X18cfIw0xKBkZdh6\n",
       "KLxWV4q6kQAAAIJBnw5FESwQ/wAAAwAE9Q2SM5ACMPaiSiCWBS3ulJcMb5Jb+V5cOy0Jjj5wHrin\n",
       "ZRQ68d8CbUOyaIkSBdqdukUBDxD3ts7OAb4onX91eGzO8bJF8SSNKAm36gUfdoAbK9XCiBWLP9Dy\n",
       "x2EJm4Yt9eIURWuaDLFgdOlbni4j01PsAHdBAAAAUgGfLXRD/wAAAwALEP0euTWjdXdCbhiNLhhX\n",
       "r0CAAJ3RccoLSUZY/WzXeYMXzqmIonNQZa8WubMiZpfCcKoIdT73UAg54ejRgqSujiR+aaAAOOEA\n",
       "AAA5AZ8vakP/AAADAAsNhYvKdD290Utf6X/bscSLRJFeArQQruFdmjutIb1YwEZUnYiotsJN4b11\n",
       "AAgYAAAEvEGbNEmoQWyZTAgp//7WjLAAAAMBAEnbfEzAhYAccWlVTH2PWhqxnBnpztSZr2NzrkU7\n",
       "Jy3g10WwdZhpYeQ+1s+uIyajECP2/T2vOEzUpHEJY6Y8FqcI6079lb+mk6v35azZadiPooH4GsEb\n",
       "tYYlVt8GA8YUhlUNOtcyHCm+dajlxJeFBAoIlBjZVZTPdWh2OO+WiUVq/5iewvdHggWlGtqdXrEk\n",
       "pFYEqLXxKEJyCs0DxYLydOQ6oM/ICixoSNQZ4TYYcObrABTFl2tcuokyBFlK7BbFLfwMnDSWbTjO\n",
       "LXu5PhScaTMAWhTLCMx5dhKb+yLKpyAXO1GlJ8Q9ij0/lW+DDj94XaQXDIVVo1owykzIhg3S3vJs\n",
       "dCt6gi03HOnIwITFVSWgR129Ncr/aKjskLKUH65cSmEt52iAoOIBN0tjopmDnUgQoC4zT5wilqtn\n",
       "p/w5RGbUBVIeExXPkJT+QB1JGMA3qDbBXpQVXvQQACUhOw/oAYTi0q8NCW3+KYZS5AbDtyd8eJ3k\n",
       "ByfMJfk6b9Sgfpj9YGUO4u5GyrujuvUYo9rfDzqf5fGGry0iU3Q91wCkP/AfVADmIj7aIylfcODn\n",
       "x0Nt15nNfntBQskrKKHD7/n5yb7hCV3IwqDaoLhsg36MjshuI3OEL6QqPjD65OAPa2N//ZwIfGN/\n",
       "gXhWVXf7I0jlYJkIlRbN3Tpi871vKMWiBpeP6KkYWGP7+tyRR+T4qWZOEIIxNFEA2HkgYAtjFs15\n",
       "s6nIq91oCQnsjn5uB9sk2EH1cVZRzdbU/2RDjAvG03kl7yh6kdhi4XNy1lZr8MES5sxN79j7/XvA\n",
       "EqXZ694NminBkLLs/n3CBjC1Q2KrFbrx58UCaauktPh68BUwzcpgS2LATDozK0YR2uluqS9SMsCl\n",
       "5AowFX5Zi/ZMUQQAxX9Qay+OpsDBX9kXkq5p80PowpbcU6NjcceIusL39aOtUo6JcO+gc5S1+uMC\n",
       "gGf4HJyOpe9jXlmmD9gPswZEKRZbYF00vLFc7d7I1vD0uo6gjlDbtV1It4Nm/DWuPBkjo6A9i9Jl\n",
       "xxlKtXOzxx9agaO+kAE4j2ks8nJqrXHZlcKaM8rKA+190elGr7KgdCBl0oi/SAyC6FLaAF4b+s3u\n",
       "TboYwyHnd8N4UpNSeIrUdoqqEAOZQC7ITfvzUOFsRjE4pTBhng5fWu16/K5ISc8JEMcbX8hpyt7G\n",
       "CFdAlT/0X3V4eGV4ISCTUQVDYNTbgr29834Kmo2JFyK2Oncoo5v1kkQoL/PJr/3yQZl7O1MDzSZt\n",
       "opTdAM8daZWdDB8t6E2zptqKhMnQXL8CjKXHymBqB24uCgD+66Ts610xFoOwS1JwUKQpC2EU9OP6\n",
       "atAK+Fkme5vM4Jf43zMnTQHGg4zv/0TXhwn/AHxMOcqG08p18u4ptcVvCwa3Ey7OAatfi/ba/3Zx\n",
       "ZhLSfOUmvoq1fRM/Rc4bfx0iUG5K7U8zCMH6kTsOFZjSQaOqLfMe6TJFqf6n9tdb8r4b6iUhqroP\n",
       "ErBkOfuutVn6VtY5Bt+qxWC8ftEXXIMwzAreGwnQ1vNaXrNktGv/9jJdAXnSsa6yOmUhe/3ujh5h\n",
       "g+8vskfjLn0KUQp2NjcwzC/9RhDjgAAAAKdBn1JFFSwQ/wAAAwAE92kNz9GYC/EwA19C4ZbLedLa\n",
       "wGTsc9oOK2uNQUcRIC07ekQG2hERlVw0YckXTLxrTk6ACd+jbIY98n2VBMXrzofIIDM8P8IhAC9s\n",
       "e+aUvo5lFSLI89rU77NkqJD9udihhXbgd6Pc9ojhd/cOr9kka+7ug1mgtPxCyAlSRRCOkWVG98cO\n",
       "/ORDKi/JX0nhgOkl/ppa2Xg82gACpwAAAFYBn3F0Q/8AAAMACxL2cHIDAXkUAH6YT6JDuDB1OfNF\n",
       "WUWU6hoj72/2WInn8lpxYYkdM26Kc438p6eZWTvmE8pDWPNbQG0lvt83/nMTlfjjRMYGaABBwAAA\n",
       "AFsBn3NqQ/8AAAMACxAKkJRPNdUrZeLqAS+jVzCVqFKCIF6vXiajcNw4CGIP6rxCH489zMmjowjF\n",
       "D/RDpagzGOVf2wdiI+bjLq28DKpWxsPDaDXZAjOiiLEHhBswAAAEkkGbeEmoQWyZTAgp//7WjLAA\n",
       "AAMC3G0JJcAH0pXgFCxUoOAG9ToYJgXyEcli03cugaFlJwMZcQwTVsO27ZD80puE4dkpl0M7ojXt\n",
       "yHXsb8CVmdffT6v6zilsWYL8PSdl7fDFbid2md05qrbvBqUs+01wx8HuXW7Zy74z+6jnnIVXpn9Q\n",
       "PikdRiOp4bU2N4TScQwr8niozwXMHC3gZyeI9O2v6ZKJO4uOiLOEOqdGcahOvMexKsmBUilRblMQ\n",
       "c0grRawP9MNJKVqCQQ0i4kvMGlx2IHymq7HNi1YMsBL7yJ9ijiOaqlhoyaY9n7uthCu2tXs07IW+\n",
       "4fEX0dh0PC4vpxsymYhdZJfWaivbJwvgZ2OaSqDWVCtm2LlvSJIFQcy58z0sKQN/t0iXkVr5Jkv0\n",
       "DjzsjFA0WPhG1rLNjo9S25nNx2bL54rOPEQfvbIOZrNlOIJuY6j9iISZiSb3KEfvzkkWhNFEACiK\n",
       "wPO3R+Pxa1Y7N/8XpEWGCE7/tzedCwNXDQDVkxRIwU5a/Mz38bjmRB15TYbYKpm9500KNZJ19PIL\n",
       "MsUXCK/1icFeZo8dRBhy1wNzJaAISw/qkA2hTC6qgIFT6iM+EzlsyRPzK2//+TNozSYx6FQFi2Ej\n",
       "hrrnPzmzW8kEJU76hVubC0b1LCO9ERDLlBBWPokKYV87G5zwOzA583DqLLa9tEJl/7S9NPCreVi7\n",
       "ITC+5UCW+uCgFbPmI4RdyudtV6sjU3LmHtl476mytaCk6dViZEQhlqKeAmmaZbe54aTJMzUBLKwE\n",
       "Gj+Gx8n3RM6Rf7Gg5Ojx+Uy2XO49RzZ0do40SqXCn4iSYRc1wqLexEoTi7G7u9woWLLOjsf/C/EH\n",
       "/XIcA7X6AQemYNo8enU5G6wJ5rrTFWxCZKCNdyp86GFjMJisTMDFJIJ/e3OxXP5mF8RzMTopYy2z\n",
       "aIczEWwoubUrq0i7j/4jD2WoctgYKG3czybTWZ+xgWa2Qrpdg/UqJaawYRj5XfdCUw2a5IRL7QFu\n",
       "OFYLgYxM58GGhhRLblW34ihmduEPIpM+hLNYI1+rngDQl/wzzrzBTzMcgh6bwijKeksibA5N/wxP\n",
       "cRHzP0oAUb0pySv4uLJnOMs04pCQQW1Y7OtGBKFWXkvIh2AZJ3QSXhrKlOWAbULlW/wc5odCgBW4\n",
       "iUI6VZGv80/40rwASWjsSQhGJRcF8Ug3Mm12xSW3a+n5ZVsU3IW8JJoa5yoSYKt/qX5r4JwrqBPD\n",
       "hKLR3qh7MDmozyQDU+BucP3v+YvcOVRBgoDxS6mp1NfLhM2CLWM89biDKUVQ9dIGwulMrtu3J/fD\n",
       "JXMpqirIR+EAHqvFu280ve/9ZQ0gZOhV1FPPJXaf1aZxEP+plp/x99Sbw0wJyFL/rvbI/T56/2ov\n",
       "5j4Eg9jIQMagpOKj16nz53LzCtLTT7Q8+FDiJ+/yKIMlvy4XHhqyVh+kFDLg0tXh3YrG3Io4ds7B\n",
       "Xx/zmsPy3Y/I+/IVAWPr7uIxcP0O/rirJEIyzlMsUosZtCQxsCWMgwbjJjXlo0BHDcuic1Kw6rtv\n",
       "BnlsBVMqPVSkQxFDawAAAHtBn5ZFFSwQ/wAAAwANzjdK9A2O1dyyAAFXj5Ly2aVDbH3xtLlszQpI\n",
       "mdRheFwpecdfz1cmtlYsvkWqt4aLkJiiJkUG9pZckk0dp87WnzPk5CuH1dBz30UQdsY5UruMv9Hd\n",
       "0SjUyWLciny73TvuTFJclS6btMZZl1S+BJwAAABUAZ+1dEP/AAADAB5bucKYBc2AORzFxcTJzvb7\n",
       "ohswYN4neMuhga0qCh4J1Uu4qVInh2o/3jsNi3pgxKJh28WTnFLr4a0PXElzRvBheAUdtaAagBaR\n",
       "AAAARAGft2pD/wAAAwAeX1F14f3cpev9GUJibLT3ktiAvftNIsi+NmScx8SSh4/0V08YC7gKeTrg\n",
       "ZgvPgx8AJqBkfXtMKAIXAAAEz0GbvEmoQWyZTAgp//7WjLAAAAMC34N+jcADY/9Th4w9KuW1ZSKF\n",
       "x/gz/L2GOvSY9Bf4p7PRHGjqlDen+3TtHuXFvYvtVyTTmaxK6080nzgseycuU2U3fPWYnsikKUpn\n",
       "NcBpgm03eY+JH0FCN7mWIqg3SRvJqtQb4uVHZM/SXKmwuBMJv4/0ZGgmhASGPrLbodSr6eTpgekR\n",
       "6mZWDhBZ1Yboc5kwBR3zc9x1Z3QwvnGszGH9SWGHOoAZQiIa+e/m21UJXQeQh6FAPTnFUKRkdVHd\n",
       "ruaWv1hB1Gw8a/ZSW4yWK7/tZLwh7oZ/Pv5nIX0J7VJFkg7wlKonvgJyjRucbTy++mL807zJAFQe\n",
       "KEzJwi6NFgbW85IgjCLq0hgG3ZlIshgqJPFRwQe5iATGtyo5ctwv3O2Ilaukw3aURBFb42JiNnI4\n",
       "+abghtzg2UVUhXGCYE9o1i+3Xfwt8+0B/VTy6oL1cwgOaBBSUEDNFajWBkQ9Fz/M4YrJm6cFfJ90\n",
       "MSWJkyY2qPF/n+3wzlBVe5vdvkqvS4Jg/mFLiE8Pw+STB39cnC6N5xkCiehFVHGxHEQss0RqzC3a\n",
       "E2gCMCK0N2rmAfAOEaANdRBVh1bXQc//8CVZlVFV6/h2mMPp/HdrvQfKelWhkXQ9DMtdttqRLjc6\n",
       "Kz738bp5H21/Rf7/4VmaQ4HVqnnln4Einjft0M5JTbvTsW/lf42WfkZ/vGuu4epxGdQysqeehRb7\n",
       "Kul2ezZquVy0uHtxRaLAv6Hp5FcqPEos003H02QyQMiEZWBiLFfHdxHgKL662Xyko8obIP3TPtxD\n",
       "Bk0wHj8INObNaooeciwBA5bR7fW1FpRKsMcKnT+BHInC5ACR7sGT0ny/3Pl8TR/eKc3Pl4txh+bZ\n",
       "BIx9O5Pzlw5Hllpqfb8rCWVFzcX2vrXsKATr48AG2vqM+ORkrmKgShmDmMjufKLWmA7RBk02eSEq\n",
       "JOxm7l7++gUgLD1Nc8oVNqT6sc738pAfArrfp/XzyY+2/Yo8msKrk0IMf8coDwjKVaJ/n9CduZUV\n",
       "4T28OAhIkmmlCR3lE+AsOjI67YQetofCyxutpBTzf+6uoXia6JnlN4pJsQ6b/KqNMstB5igjQxIr\n",
       "S6nV2Ex2DyRkyrt1fVb0A0gMGIS93PpT0Fn9mYH0fgE5cTElMGEOx3TJZaKiPlQA40eLYk514kLo\n",
       "kIDAWvuaJKfJ6aTqENnLfFGVXyD7kJmDKgUyowGgqybQDWx6Cw986wHTQbNB4BRAkyHsH1ge0oqN\n",
       "oCIxFeP309OGqus4ni6nN4OZm2mlQZK302PXlSx8lmneQ3kR5ddPN7DEJn5IbkkZyZWvfv2yYIIc\n",
       "37n/OoUSEsF6MFuDMd2RL/wnUlM+CpbvCG6Uap1Vy2zqiV690QLUDDDymyCyQJ/vl2sDlMfSs5Zw\n",
       "sy5jv86dCw4KJFoGbLq3CGDicmlJ+PPybKqLVfS5ykbsOQwGLJPUHNKkh5Z7FfOZYFy3mR8eDlU7\n",
       "LC4h8O9/nixZ778obdPhVz1EXpmLc2FNEDhSkyU5pyMuzh//OxPVTQkExpF7B2W4/fkrfzc7dkWp\n",
       "F0ak3o0113MHmzietDHVw2S/bGU52EV7pp5ZleM9LIGQtpCiZ/rB8G6CAPWrxA5fFlgLCZwAAAB3\n",
       "QZ/aRRUsEP8AAAMADc2G3HbH3suvFwhlPkZIfuMKPrKr39zDrrYq0CgAGxkQ9uHn5V8IXcDQXYDN\n",
       "vozf//z4Hy8XBO3qWLL0KXZTsNuTv+TIj1l2Cl0CbfBbrC0wxsepTh0OpGRnaoW/N5o/MDVeILA6\n",
       "IABABtUAAABTAZ/5dEP/AAADAB5g76vN/oALDAWGrzRGr4pDspnSVFwozSquAmWB+d6PFXIu7R75\n",
       "7VJIBXbiep98OtN7kRD/Jp1Yp8nq1qY2QaN6fpISP7sAG9AAAABUAZ/7akP/AAADAB5dsxzqTpL6\n",
       "nVjOkOfAAEpUdYX4rsAFT98JeDwT0XFwHmincWt++CaFhw+P4euc09LYB+Kzm5CH4M0WVaNKVOla\n",
       "EpqqB/a7AAF3AAADvEGb4EmoQWyZTAgp//7WjLAAAAMC34z2HFrYAOMMqB9CSoRlz71VDr6huOmY\n",
       "ChQYXg598M9Rm6YfUplHa7NGUxn6TMqhjDVGS6AVR/NdAWQytdl5rxN5N+G0i//Vcc/0jUX1EsLK\n",
       "3vl7mm4mrWSEIxO4If9zJnQKgk/YHyp+RMUZbCx1DCwTAu51zmd/v5O7wpBxytBoHLH31TMaedT2\n",
       "O1rOfjbkQDRPVhd8kS8X0wwGIDU7N/bQTwWSqb1jvLpZhvoCWxa8RIPfpIg33ZRpn/THIM8N2Hkx\n",
       "CLtG/dGA0RSY1PUS5iZWFFFfn7y/usBmVvmoSTbTCqVYk6PaWA53309OzwDw8zl/i2V33R66GCXh\n",
       "2oETAslHpC74Ss/G5qPK56Oh5LEon1DMM2+LHTLRlUS88EMclBT/aG2KJI8cQ3roM8Z8kfpop/zO\n",
       "l/+ibFdStrVs+KAAm509NFq3pJU53MvZ4GXwr9DRVPp+trr23CMSYD7/egvdFC5Hzx9gwFJ8gYP7\n",
       "0pYaqQ6eMrYTFuJB5sXI5bvMyaXmMeUF5LRJG8Jj9AYWDc2XOfAmunpexu8CuQszQLzrRf1jsNTf\n",
       "hdq4FHeqzzknpLZU0jrrAUJ360be9cz4wOVdRhUzhrA1wrfUk4Ny3wRobLOyrCMRn+N9tCCIOSl5\n",
       "TllE6x29cXnLSTWZun46sWb72vXnccaq1KypZoS23aw9fKCbJzfzzw86lB+EMzXmUC9a/UhMjf72\n",
       "hiO9AhN8PRy0Xh/hKH27lOZfZB8KJ6+b6H9/ktqY4DE+j8ACmvz9W4AE5nv/N4NVH/dH4uewUF/f\n",
       "ppnIDr6GeQ0t3HNkgESrQc652UZty3RmM+HgDGyJrrKi84Rcattx+H37gQ1ptoxK3D4zDZ+uLcRS\n",
       "VQDrKBptsfOSNQPCtV2Egt3SMQDIFVTUJ3SC7S3L506tcVWONmLSBxBBoOXqqr/ovp2nYx24Qpi9\n",
       "K0j0+/LYFvBar3wsmCfCPQ0b04bEjnA6nN+OOyD/l7pIHapDRo09OVJdh+HthCCFwJL2kPg0Lwrw\n",
       "1y6ny9z7QgMksEVZcawbcfKFr+41Hc6hLfFobW6+Ny4yPD+qdFqAy6PhxbmAQQEZ6JutMczUqmqC\n",
       "9ixbX/o7LjWxR/65y427RS/+DD72v6vEiEjSnNBD92QZqwxap1D+FfER7KvXg3Wo3+PiJ8BjcMzP\n",
       "h9o6hAb0zNH2SnSKmq1wM61DQ3xzUnPKOAzPNnBv5lDoXYptOcF8j7ShlNiznaiKKha5L35wqN6L\n",
       "AAAAckGeHkUVLBD/AAADAA3NhtwqOleieaUZzMwADb65ecl2QFhNWGVQo9YUZyoN5S10lKjPRrp6\n",
       "Yu85Oe6gQ72FTRzljAAr3aDkbEE60b8gwwn3nPQUrtwXKIqDSG4HH3tC9s9RNek/ukG6QeBHK9+R\n",
       "j8AGpAAAAEABnj10Q/8AAAMAHlu/kHS5yO6RM5TNbaiY/5Na8GoK9fcBmhzWXD4vY4Yx+6ipw7AY\n",
       "WDfc9bMHcOB1Ju2hoApIAAAASgGeP2pD/wAAAwAeXcPOo0ctrLrcLXc9U71RAj17uJfL1iNgtW25\n",
       "oDnmXRXIqwWS+6UaAbro36mt6nu82GHuq5IYsYKcOFylIAQdAAAEJEGaJEmoQWyZTAgp//7WjLAA\n",
       "AAMC3kqjtWAF6OMdak1CJGSxskz95+DYADEJ6NcMIEkF+VpHu536ZVIQ9l1vrhXnquFdHqJdCZLW\n",
       "BcZzQcoQJQDElogxMQH+PA5+xlw4K/c8R66adQnSJwo9qvZqxRoXEEDibBgiAYacq6ScmQYN4yEd\n",
       "EFAwXJ1v7IoNo0ToG7FN2XtwkYhPuncjz46g2LibwBB4dXEgz2z10Yf6x6K3hVPLx+/gklLcsH7i\n",
       "8MRjXNNyJpj0oacgEei5mCs54lHbQTq6HtpyyTby3MC0rcF/gJapGxJe5UglpS+XkRXfl32ISShc\n",
       "AvZ4rTq7zCDswGUaVUzbC/+FE3EElYBaHmlfVadE3/w5dYbTG23W/QNu3YNenDs0tJL9IAUp1Mue\n",
       "Hy/caksTyvVCKgsDGZ70kmOU1mmyPKtQOc8i0PMIVT8Cv5Y4Xc9VT/zzg/sDArSms/3sFBi3zjCp\n",
       "oeEZJ4EKe9J+kLa0gOeUvOVIL2WOXNpS+Xk34DoAT8AcFUDo6U8dTaff4RSvnMulBdTfZVWan48f\n",
       "LsPZ7GTTKjnJdpdDskdb4y05rBEsf7xVLIeZS2nQuvmnJK4Ykdxyj5G3mkI2aiKRJ8YuovRQ0QQ9\n",
       "5FAjkRj6FGrXgN5qxooeamVejTK0Us9lxdgkVSz3LUK5vno5wYE4FEiFVnLT0lRH4vr/jPdig1hE\n",
       "lhLR7EHpXZ/2uJsjd6dGH9t5gr++Y/QMaFUT29QTtVhl+VqgZ/SNLFQonhFxWT8g53THfYxYEqu5\n",
       "D5gKyNT0fI95qm3HNszuzZWYfH0jzm74Vvw/w8AgiME1luE2Br8w1MyZ9FSmgBbSnDOX+D7uAsf/\n",
       "0mHWZVzjxtUKfguEOisKT5nywcCUY2wXxoKyqWI21/+00qcxTsnVVTSdDQgf8UX2wierksLEOFvY\n",
       "3Wn7J4ubV/3k5XrSSqzVaO234bN/VSgnXHQ5vl4h/H4g/mUepdxzEzuWJ6Eh+ptBngOZizeXqRcE\n",
       "KMAU+L4iBGDXGLJQhctI6jNSnjBsPgPqnrnmV9GiengSKKDRq+TiXqYwph49BIxkKnsFGAMaRFlx\n",
       "4h+hAf4AJ+1mVHiSnyzVTXzBtY2XU8qTRr9JqoxaXtE/u8baFEcHrZvd0TqYZ8272Mejco2FDOV9\n",
       "owsLDIIU1ehvdloGP2b6U/G9aRqNB/j/tppGfTuuvCBYNAaZPhQqBA7YNqPYlh/HOguZdBhExgku\n",
       "5SDmBvwWpk6ztycJsVp1eP0NbwPVssYN9BTHmRxpCyQn3KFq81sr/hw74tIMKkDvQ2gbwESJV5Uu\n",
       "Z8ctRoopc/waGfYBsJc098O8M8dxIZi1X9zJZGzsNTEbNpB7+NfAV7UWBC/McHoMJ6rISo87bJyj\n",
       "Srb1rkHH1lXl/y+5vAHU0ZAAAAB7QZ5CRRUsEP8AAAMADcwKhn4plHWezgARYn80G2u76OyruXRG\n",
       "xt2Zfd5hgXkp0SIcn5U5vW4comkD5Z/92pQG6d+IUjNXf/enmhZEoGI9eCNV+prrpV7W0WxlYsN8\n",
       "aG3zKe0tHPXXCEpcGbQ287RtdPN5XkkVE6hwEAEnAAAASgGeYXRD/wAAAwAeW8fgkVEwhJpPKe2C\n",
       "dJKWYwhZmVs3cQVe70dbSuh9VB4cmYyd9Lkx0BEqNMfTxEXqf5KIjZHxEmolqsIhgArYAAAAOAGe\n",
       "Y2pD/wAAAwAdqP6wqI+atyH/LT7lSIM0W5GL/GX3tnPSmoOjeihrLWQvkBSGWcWeQ3/GAGzBAAAD\n",
       "3UGaaEmoQWyZTAgp//7WjLAAAAfOOccjWLrADTzum0v8e+v+Wj0twmkKBGoOTgbHNPKlwpPWP7Ju\n",
       "vZ4OQFwV18tzNExPqgIRRJT3fwblMagiTjk0OwjKMpSdhLkKgcAmZCAE4+CrDnmYBZ1P8tSQDmKm\n",
       "tZfS2sD2/1ilfcmQXlO1ujhpcTjirvTZFZ1iowEg2JRD4hHa+uYjgzdtPef2ijjfve5bumptv8c2\n",
       "UZG6EN75KJ64ZNDVKPvQUyb3K+y28gYu5dATWEmuzY7dyJxi5zQIYc2IwKKRLZ1KXy4eoISnAOCY\n",
       "RRlwnkzmK3Pj4FDwknWK5CeZv+e29cVbuywleF29v44WRk7rUhD4mHMPNeinBgOeCAGyH1EDooIg\n",
       "OrYCBMyYlRXIi3cDRoWQfCP5E3PGEXc2wDCA3/kq4CBWzn1W8wjTE8r0nDh4T0S1Vhp0fmoMCDzV\n",
       "ZOyfDkYJQ2PnChpVWqjJQ12YHn35GkLpv7TWLniq4RRrqy1pm3eMZcp20fA5S2a6RYwwHixn/Bl/\n",
       "57u6YhJ4p5kAkVJety3txXF9ej8C12P18EMIk7H6Zu4XfET7h83Tr/GEsiurL/C5doqwvAoWxhLW\n",
       "+51Z96IBLadI+CYRfre1Y6rcC+ewvincFQJxHD4BKZQhA1x28yelmbTuNUg5KiPQJJrem0tNtbQ8\n",
       "aBjm5mXjDr5QtKYeh1waG1/0xRdQmRVvqI7y1BwwsTf/TmVUfC3IJmiAuuk+KZFqnSuxfQ2Zk/fn\n",
       "jxozaHx4/baiG5kfxx0eGMw+CxzONHQwJ6m72GL0cDbmdCghv4QeRYC+RZkkmyfxxvdOXr8FWjtv\n",
       "veS0ZMpO+NiXrMvYBb2iAJ/UzVo78iBE3ulS0YcrQps0bR3Bdhykq8btes3kLuJvw/P13Izcd4ZS\n",
       "JzTTsgl+4lrWxIhlvBAO4ox0hgPsgKtjfPMeAnUACrbi36mzgGySuQEGxvxiWckCL/d5uw+qoDIX\n",
       "7dVEUlUiUFaTumYoH5ssDd9WruWxMjgS6ctSkQR/EdMg9UgUuIF6z5OQAAh7MZtRBE9SLSNdHb6A\n",
       "A0bUteUuoAciWKGVPBGdRYGVKyjDnvCgQLwP1RpmR0g0pT1/HhiIr/R7KBcRdHwKOsnz7ic/YY/A\n",
       "cXCg/1j7mHSq0QUNMno9bbmzkGREbYRmmSqYr8yFpq8dlgQEXAduXz6MFTKWtCwiaK1t9PUArVnS\n",
       "XCzzFeGd//pncdv3MpH/ruBEqHsSd8DktcqLqhx/jwwto7lKucJkGKnPc/xwD1D/lFTLje9mjHhW\n",
       "o+jEQYdlI0UfgJsk63b46eOjlb1xAAAAYUGehkUVLBD/AAADACap+7L1/fcBihXj+qCteyXawSiq\n",
       "ZzxH9tOaapjz1YLL1PMk2w5XgOLwD1HMCebGVNjYfK72nDJ1dA2ICo9v4p0Ndl/KpL0f6nPX6ytD\n",
       "1TyjBWDwpIEAAAA8AZ6ldEP/AAADAFZUqhJSOOQrUqR9BadOnfa358MTHgeJyMGTtWElgPR3H8cK\n",
       "bVmI+gAxzPIhNXMgAJOBAAAAUgGep2pD/wAAAwBWU93my05sARC9TNG/jxmWIIky8qdSfxnXRDOO\n",
       "ocbG8gHyy8payF/0ZilIzFnor/8vj9O2Vb5VW6qybhbyLp/9T4d/yuKWBywAAAPGQZqsSahBbJlM\n",
       "CCn//taMsAAAB845WY4APkPr4hCqhFjsfFkxGBGzKgmYadxxbqyztUT/0i1UxnRn1oG+EDmLOf9P\n",
       "MlmdqdflQ81QcT1DRw0CpuRj3XCXgUGDwd4MigPvLgwJCZ/DxWN82LnkQOZ8Cyg39vdZXaAocMWT\n",
       "kGp0++RF77YYZlA+5Z4381GrqmrUh88+BPAm68/UuhkJG0AT66uK4zbbRg2naFZxvl6RdVfwXQyf\n",
       "qJJUEeeu6RwpxCEt7dEoLcWp4xYVKZuq9uMQvnxn3Ig7a6GY471MvWiIYP/guo+N5wXX+jehtder\n",
       "3ydD5zjVUcf7+fkD6CyQdL8WVqh+tHVlknamo1cY+uD2jD+8h/hHDHWb04GkFKX7YaSG1T2FwPKm\n",
       "/Si7U2OPHEIUPEWPZPZZcDhyjv20+qWOZj6llCyN6KotCR7z2iG5c86cj+wy8PQfdTzKOUVezJzR\n",
       "hWwwSCqGlvsUMTfgt/cgP2BMwdW8OV7FI2x14APV/+sBYoxxhkVn0kx4qcBwaIuUgrBENzwlTjxf\n",
       "xPnW6GlNOKr2O1oT/0dtHdzyE2kMQu2T6IfFF2Amy/P3hfD6LvYt2kbAeoQIUt/Mtt7+ux8af094\n",
       "X/PKuGReiJDHJ6Ui81FdDTcSKtjO/EEgyAoUhf1J64Uo5h4fyX8H8rMZ91QaP6YLL/c8k/I2/MGX\n",
       "9g3dYyXIq8b8+nVKgfkwnuOCfYP8AAeOIoAWYNlD3b+zCQj3TmYDleayTf5AhFiobYvGEdXsEAD0\n",
       "eslxNFvPQ4TB/Vvn2eAtkZIM8I+SDo4ov1AMQ8hQb0AxpKYIecKvVmhlXMV5G+KJ3AcPeNY5FH5B\n",
       "0+/GTfSDFQlVjYgP43tJIcbIwpAXtlgOXjyq5E0L/ofK8CEetfoqOB79aF90uI9+NnpiZn5ocxpY\n",
       "r+Rh9Y1WNNRoDQm8FIFzwhqVhWlPTV3KZQ5s3lS7JlumkKNkmK5bWUUiDJKzp4+HSJO98X6oT8R+\n",
       "LydgtmizXS06sv0rDfDaqpmFO5HBjvKAflllJAsG6LFaWGgZ7boNoU2h5GEslqbLiiwSHs08K3Pk\n",
       "NA2G2qaHrnvOoswfc6MbIbuBy8rbwTQOcoy7cJk/VUoHumSf9WoIrbLbcbz1vCqL5c5Er3zRjcvm\n",
       "cb8zfm2M2majTZDowINh6n0f8sZG7EWAF0SCi6xH9FytJEladI4J86FNUWJ4hdxaIVeOtPihg8yh\n",
       "mNXpMF/tegmsGTJs1wX5vOcHBpJhI7TJIrfiA6zB9sPH0oMe/JxkFWYCYcIEAAAAg0GeykUVLBD/\n",
       "AAADACaqDrs1wJcJVSlqtkt94G9urnS+QYxRrxaM+5/bCtmLb2mtG//kMzDW3OR9u6oQADd4AklO\n",
       "KPoel5RepYxf1qYDUQOsSAnQtIrZAbEL4yqozTWSlG2wzihLG3iINL6cg9192SODEGX9NmP5IjR+\n",
       "jmJ0n7pXgASNAAAAaAGe6XRD/wAAAwBWToYcn3dQDV416xyRBAA6INBxgAJqKAjyT7YK7EQld8tf\n",
       "U9TJLmcQnP1RhU1hWqtduRnEhIwplAIEK70z8UG/5s3h5vDYI3mT0tOQn4uga0PEwCxAy8rUxLWt\n",
       "IAJuAAAALAGe62pD/wAAAwAKym+UvuQey1Dmx9HHuIeO73Irq+kChM1JVM+u9y3dvMFlAAAEUUGa\n",
       "8EmoQWyZTAgp//7WjLAAAAfOOt6oADY9hvoQM9h8NonNqvU7K+jTuRbVNR8T4zjm0fHKO7YarkkZ\n",
       "2dnYUymuFcdGuHpotBv3EsZvvEBtXWERs34qBIpdQe76mL1s0X1eClATIutSy7QZ9/AWtkSYxsRp\n",
       "Q8weuMLG1/W+94pIkitJmkJEUikcTBN7mGUu97KMdXlGRSrqxaE1AxjSG+YodECkJUgxvCjHnrP2\n",
       "2LtshXjkY3/JvLLbHiHGP8Q/KRGVypytMmKexOZbbgaKg4q2I3phzA3Y4KCFXtsDKUVzeEGESZdr\n",
       "wrgwkRZxaOrEUlV8I4z+kz5osUEtKaPq/49nh8pnUWTTD+xHwzvA3l5pvR4N/XkokBQTfGWGoPXi\n",
       "MOYh3faae96BayoloWVqKSYF2wJrnS7lGTtV3h1CwaKtjfP8J527c6gR7IKeaMuWdGg4dk6EqQae\n",
       "X2ja7YxERwol1Zo2cI/K49hPEwdRyVA/DGqqOwqL1167jM/7fPt7YZC8BoYx4zT5IML8E4Ik1OqG\n",
       "MlAzlYRWeTFBVPt+DUkqdEpSGw30LoTXKpv2yoYZ7U2QSRYWOndVjFgM141/mAH6RWW6AEXoYwS+\n",
       "vTwSnQFa6nGoVSp8NgS1NT++yHFX1WggX1w5u99kh7cJEZoc7E9F+ZlCjtiv/gny0VtIKwzykDFA\n",
       "NKD3Bs1uRNH94k8m3Q/kGjI17FPqX3qMkE/tEDukVCyfOIjUPXM4mXZQ/e3OJfYioAVSPCRAIxcf\n",
       "q1Ffp7mx6dRwgZMTzzrl9FwiqKdyo6vFHR6xVJEs3X8BTCG0G+5W5f9PdGUoKab87NbAF0fexJ98\n",
       "hDYSnGo8Kf2G9R3maAmFHIKxP5EJvTjfvj0V3mSNSGQUz2xAYDT/n8wJ+k+BzWIpPvFBeAsqGN8S\n",
       "TQOqZmNXdX+RMFgBXNOhkYveBcukY5oa7yX1M5OS6SfxyCZKuYg6QLL5yU3iFxX4STQ2dPj1/XTN\n",
       "ZTgHTyeIBXaRQpvUHPGUeo+XVwCXMbPeozCCy7GUkOcylOsrV58xVOJxPNHedEaBBHxDX8KOgYRk\n",
       "aT+rGoh8vAx/sqvLfrT7e6PxyQwHVvLlj8/UDUky2fEFvfa+Z9FUx/tendVKSDXuAGyKZgh/t86v\n",
       "no2iUUhBfchbkvEjdXhlB/nzFGbdta+FlYTXYVHOybR//d4Pikd7x42J9xZQfrTRsVRyuKphCEN+\n",
       "apWSE4iBFp9s3KmRq15ekWKcxYuhh36xcTRhMZDrB2z+YELPhTg5NB13hII4iKx0IPV6z8czrXdM\n",
       "VjFog3xtfu3OOxSiixInHnoYeqam6V5xAQZyDRLvOCQ/x30QPml5khaeh560cK9foZ9ctYJm7kMS\n",
       "RJdc+b1y18lLodHzsuF423TVt9h2M36eRbVYummwB2nKiUm6cc8GalN1gm2FaUl0iLtyP1my1+57\n",
       "Ja+DdvTMo+NNwdkMVtCD2kcUBukAAABoQZ8ORRUsEP8AAAMAJqoIGHS21U6B+7MSW/3YNF9PpXXY\n",
       "avBTH2B5Nc85pEFqI+X+IHLN8S7a3CU8Wa4PxgSuU19lHT56qu7AYHMnxHrqAmRd+mWEIxnQIRVB\n",
       "RWldQelNSexmp/sARsEAAABEAZ8tdEP/AAADAFQXxHjUqEQ5jVvExox3LJDLTg+AtRBkFZlzRMf0\n",
       "3wAlKNs8vDknp+5OBhMd8KzH8UgtNqk2ZFEAEDEAAAA5AZ8vakP/AAADAFPsL8BtN64k7pZWDb57\n",
       "EwJ58GJDmQ8hP0zLBjXUZPpxyiWZnfI0nixRe0DWAGpAAAAD0UGbNEmoQWyZTAgp//7WjLAAAAfW\n",
       "1NDs4HQwaAEect2oK+j3hiZseyzVj4AH7DRNLLUCz4Dn7E+AekjJsdiKzbTnvRZ4Fq2XONR+gejP\n",
       "3NkciI4qbK/EvolcFX6IcM0ygNgDenbHLojHmwUww6dxjz8CqB+PRX1uiHeA60a+Hgv/XoevDa6f\n",
       "Wugqts8bj6T1/syYGGxENSyK7TR5Rd3HWcz7tM833P3UV0qas7/cLhg5Ag6oEjxMyFSGPrOB8/LA\n",
       "y5d9/OFJJz1TGRIv9BnGo71afplo/FvRHA15f1+/yJgfTLPpDmNLi53hQDvuuCIpLB284qEn8jHq\n",
       "E1R2NaKGtPYqWEZpvM77L9quiZmEmunpwIemPW6tV6KMJfjleXchaXMBLiWBztuwZZ6UEKWB0/eM\n",
       "ojAwe84rgrVP7jRZgM2b9iLWFonkX1CjEn/ckySFL2GZc0OJ8R4vA4EMFvmhY5z0ePZLH6gJSIF+\n",
       "MqBcEhMwN/EWuq2f04Sk2zj5NZXcYmk9xqhdE8KjUCgxVeTO2gTKwkWwnIBQA4o84fyeZimF1YUR\n",
       "YqTqSRycfmuG1CfqcZXEyeZYs+NksD962idI3CpwW3ULmcoxaA/0txy8oh5kA2VfriEAE0r41vKG\n",
       "cbRRdYHvJiX1dUDrmDlcOOXtDhcwxQvG+jvSkLEUKnXOtlqnRkchAyIS+xo0MaQn0pb4xGQ6h7xV\n",
       "hQJfdt86Y5xaxHetK+zqdWpNenwkOg428PJ/00teZpfdkAPhtfhw7na6kLRw9fFW6NHOmjx6+ifB\n",
       "XyMTq5Fh9cgXyEIOddFVRMF35tENo7B4CH1zpKWor8+hbsg6926M/o7HFaZovG4L4CCYBgw/R2e0\n",
       "1Xp6xNsM3DaDW5HKwfVJ3YZkBsDAwYN6R58PEcpSRGgsh7RBAX/c2W5x6LFZate2t14XMV91HLfe\n",
       "7rRej+XXbPOkTdnTbevAXuoiGP34QX9Gj/54lG9tDz+dGqMBF8732PG/YjWfQzB0MMBxdE7To4f8\n",
       "8kBwr1/ij4O6qgxKtugxJ25ok/YzlTjUkrK+GA1LmLNlTCDRQJ70pN1Ebo/TN4xasG9Oh/7bDQdG\n",
       "6P7Ea+B/TbynqMoWW3rEfJvIU/XolOZNkp41AwvqsGgPZigA1mUzJM1iJgmQ8FISB5JhjFzptQC+\n",
       "bIWCqLQGuh9WXk6NsjtUDGnlBCe7RthPQjWUODqYuZod6YHqaoLbvo+RLZUGAPfOeyauzSp2A04w\n",
       "lTniivQcee34NRF+FT4TshNxrgSiaerGYcxs30WzxO5AHS8gS1nW8kAi856AAAAAaEGfUkUVLBD/\n",
       "AAADACaqDrf2B17xduFy3SHQ8fAfnE4AYFaCEknmDR8qhCrUrhXCf1sAIuNtvGHZS9s3GWeh6tu0\n",
       "S3DXkIu01Q+UlK41Et7iIn8UiYjn1zoM0Q49Un3PbdusWvPC4A7zAAAATAGfcXRD/wAAAwBWSBE2\n",
       "81W7pLe3/50LlamDGawhuUG6M1YyyWKJGgm31zCCYLJnBwA75N8CLFJFh/cycnhhvnodJ4WYURQP\n",
       "fTYAOmAAAAA7AZ9zakP/AAADAB2tw+zKgemfp4tcJPqoa/FwPCWSg7DTnE9ACURs3f9zNc9UVI0W\n",
       "se+Snj4ZPdoAKmAAAAOCQZt4SahBbJlMCCn//taMsAAAB9bX8l3gc96EAAVTP2be+2BZdftv6ZbE\n",
       "M3awanDGJTPBuNQuYqxs2VPtOPTvNL5SAkj7jWYmX1Em3DkhnrCKj+9ER8hWpzPKJ/NwXT0URNeb\n",
       "LpYzInITOiOQZCKd6TW4O2BF8WdU4Y/SZWr6CZzOx5jGFy+iqHumyCgPETjno0cQsxyv68XlX7cG\n",
       "vo+YiI46+ibIPkReF1LNktBGqUFpmH3JQ82gWOTXp1oudxRZR7ODxLU0PK1/ZQrPhNjG2ep6PMiC\n",
       "9HBl+Q73vTZ1hBXCuXMobrIYqGiviXg6AzfsbVX/fUZT772O7FCyTUtMWChKGSoH3dqPVVHohIsm\n",
       "bDvONCPC3wvwsEctamtknxDSzEpNQG/aJdcAVsANzBPS5LmW+Rb3LmXz/5reW7KXYlRqhV2mk8S3\n",
       "2CMcvKvKt1zNEH8Rc6eBxphRrlLMW7q+zpfOo2W//uDtUasHU0e4ZxCnPXaeoZ/SkUb12+ghmMRX\n",
       "BEYRV2x9BAcer3lNsQe/ya3+M8iJBXJT1FjLNPRPdJIviwgXgc+nUgsrOq8F/9PYNw3dmF4SbciE\n",
       "twFbK/PNPd0yJFrLiVontdGsPHc9haEYK8G6vDdS097onTQf4TGlDZb/lCKl4eb8yNXuh70vpHyp\n",
       "E0x1MT//yn04b4V+kWHsvArKyNPzoYK4rUk0o+LCKgX5mb42EbLr+QzE9rnVYNm0RHelfHZ36Jb0\n",
       "jWVsTpk//3okFCyhpoAJniFxitZRmYac2ovPKamLY4VNP0i60li6HJNCEhHXjKpwaYGt4LGHqBJE\n",
       "/zs8zlpyzR7TDsvpLL286JpC3W6oNewrsjkXWxH8NkYzhvnRlfYT5jB3Pj/LVcqBZDWnKnuwpCs1\n",
       "HOCQ6TgFHj1Fyt8ohOcZ121Ybfd7S5hmH0Bo8ZynAZQzgN2CIeZmAXClD1mIS/2onwHj4E5leref\n",
       "sUSDOOI/N69GdGF+ebeTLaq6mR1SeSQ+QlAyQOKayvyFwro2jk+oTT2/IpbIPZG5GPUE3z4slgtY\n",
       "T8t0jpC03MnlhzbHAVmmpNNMX9+1ZTegiRyeWEicNQbwPsHQdXBEEX8EFqTzJ6/0n96kYFwvkPhj\n",
       "iGlDAbP2acJLj0iasWJzYP8FgKXa3tTE9IdgfW1sqwv/3cv/PIx6RDtLxuC7bCvOO2fXxqn4oN9t\n",
       "yQAAAFJBn5ZFFSwQ/wAAAwAlqg7Hc713+x9tQZxjflmLKaRa85/PKUdD+8xAXrD69Rhjyj1HTgAt\n",
       "GvmgVSYr6G7xzSU6JDtt1Y2Y11CcMm8AG8gAAGLAAAAANwGftXRD/wAAAwBT9xbCGOmvJNqlMWcE\n",
       "PfxkpcA9cEMvartLsM6G2xTLH0XUhPHVJ+8LerUAD/EAAAAzAZ+3akP/AAADAB2kutE82Reb8Lhi\n",
       "Y8bFiyx9ydRgOf7OizG8x2S3HNijdOUdZ/hYAB8xAAADtUGbvEmoQWyZTAgp//7WjLAAAAfW148r\n",
       "vESPd+ACk2YOPDZSjDCqgUarJ3J2zblJPTUHu5UIlPTxMaJ4ZML1e+O+tQoSVRel0rZeL+Vg/FK0\n",
       "pHlfTqnKwQoNVVqU5kPCqP0cHaRFOZnAZFSkgJxTsedBypJA367gLqZxXjwzF2KNEZyJihdy82kD\n",
       "a0R09x5UtX6ta1AZtPxiADh4VvIA/k/jCBE+K1XfL1fwKCjz1zzxPuczZSABj0xvmNNGMtGoNUUU\n",
       "MZ7xp0BkpTtkdGBgN9oOn88SNsCWkYbk47JqvVeD4Ji6h2xmqFKUMuoW437SFOtFSV3o+mlT3hYt\n",
       "DtF1uTZNgGe3ypn97kfP6Mvk287XwdsvfHhmEN8HFJBOXHLOon5b0BWKfQEXfILcu2EBopedDzuD\n",
       "0EZjEQGm+dKyRyZITABcn/hEFknQPZHP1nou2LZ9ad328HfWjFuk/LukdwbUB+ADT/IuyweD43K9\n",
       "IkIa51vmzgizZTG7lHL74s3NBEzeuoGqtG2j8Q9EuKEDVnBcmTuKkTVlGUzTE12vy8QRFtFsBCnk\n",
       "u0dxybwQOP3b1SsVgbuyG9P1H6YsSzgr9E/qvTzbK6nTGlOjpg24R403HYduYYJDVC7xYeMMpFGY\n",
       "2JTUgXB9nECzjOnbP4pgqbCC43TwVflhtkKqm6+BRisa0SgcxDilg5mVEeVz0KuEhKVyaJGtg6vB\n",
       "UQ5giv3YdqYF6kgPiaMMWFtCuJH/3vG5Yrc84jOD+Z0q3rJk07kr5d33zUzpfFtK3UBuarCqbP/2\n",
       "agYE2gG1ql1S5PX7bM8YfxtWqmfl5O0zXBzJ5NdRYl/IgPsWq1LRDOaZVmx6IxjTQiRxj7+Gu45F\n",
       "W++k2EPvKtcpesTz0b46BcA0JL/m94wuZ3UKWNJp1diI/Gy73M9wGOU0Y0y6HX9cHyHzTZwykomg\n",
       "yZFDw3iPO1mkBL6TwMYE87LMr0rVSa+gzO9YxXYkka6kpr42+9O1sD8gcNmErsjujTVqvcLlKFLo\n",
       "TwYBk2u4/XRm72gmt1b1s6hzeIq+0O8RgcYLgifb1/SjZGM7xv22slRb5eF6OSlcjOagD+mK+AVl\n",
       "ZdjKVqwMy4k5bs7ctPwgI27SAlmrZMCjK1rhLRIu56qjXDFX4hPFn842lC9OvanjIyOFcgSWvDBD\n",
       "YxncTNQplV6BpQtlxVUmQu4bnG415hieWqqHQGp/IY2Z2rXnU6XN2OKZ4FHyvckB++6jZKYOGAVG\n",
       "HAjR4e+uAJCYqG87VaQAAABTQZ/aRRUsEP8AAAMAJqoIFjIzw5BsN9KK0EAQkLKdrBO8X+GQJkwk\n",
       "llCRvGqYTtKc00uGu0gBLK4lMq33u2pbowyIrb5Z+nC1ZUZSW2u5E/QAbMEAAAAvAZ/5dEP/AAAD\n",
       "ADI8YkBo1Ts8qVYQmKfmWgcsfowUebyGtgBAB97Z1YEoT5YAH+AAAAAoAZ/7akP/AAADAAqCPy19\n",
       "XgFq3pAaws4JmeWKvQGY4MWHGVyc8AACdwAAA9RBm+BJqEFsmUwIKf/+1oywAAAVw2uHRaQKPyUK\n",
       "d/xIs74s7/kfQ12cNuwvhLUqKfHIzLb+n0KKV+9EBh6X9LRAbSz/nan7sDSb1t8YNdRO3dODqBNX\n",
       "CAYLmHQkTtiLNcz+EE4TKMVvlaS4HbMuWhmG+xFqcMt8g5KMPV9XLsl5wF0UPRUG4/LTXJI90gWS\n",
       "i4Ib2u8KiGRi59x204Wp7md117x4CdNJSKpx404SjVibHq9lg1rbgafbdGnBMBgCdqLOFBVlshmN\n",
       "/32mmGLPi2zdhJh/hf7rkxThZGqpXtfLYhEU2WYBUFBsbZOWcMzIuQetsrStAxy1o1AXX7BL7nxZ\n",
       "/XZRvBwG76kEUPs2iDdjY7UbHli2rMOtRWYtOsQWFK6s7HjEUYNqwAs+s0uXp+XoX9m/7P5RBbVB\n",
       "4w008LurC3GoABtmkp87ealSjSIxJ77EPfHT5cQhoa6tJ1sRyfVEH87gG0OMylQkb2TQQCFeWIlL\n",
       "At0FSKQNv4bO4Ho7hxDLf16piYgQ2UMPtkAga+WGxpsMe0U12NSphWPZ8UiL4V72KY9SceZwAaFi\n",
       "daCqEXR2KGridRrvb7cL9dgafv1eDdQtrfsmzrGwwLpbpwazVdiwTKd5up2tFzc02Hro4oVoJawy\n",
       "zJaAmptkot9oDykuBQY9x9nuuTCOjGva58J894buTAXe0bc26VV6uDw8kKbGgL6Nt2d97B8h8YbT\n",
       "01iYvbIQHiF8/MJmUalIIT63qCqu2T5Xct9PmXSzddSiup1bNVA9Ummg7NNsrIK18cZOvW2vpjqX\n",
       "TXRJZVIjsktd+ysjzj7IaWa7aiYPVquWAVcTQH1I8rd2jf+5HfvciIODgU6u2YRBn6wN0ZeVEsPj\n",
       "TX/Z2GXqkHqZmMMmTMQd90Bn67V9GHK97D+khgUZGeMl0C06kPAYQ5yo8t29xAxbDe9UkTaC/GoW\n",
       "CGzS9ZoStpXa6D5IZb8dJnDFKFfWZdN77Qp9JE/KD46O/wGPsqQPjjU0nGucKk0dIYB5EstRMDuv\n",
       "w8pGaykigCcRIcRWoQTydVJwBrRRG0AEO1As6yj90FO3yQh5k+5t/RzapFRIx5kWRHwfqR1qZC0S\n",
       "pqW2WGd3nrjYS7O6gXCnWZja6SmyBriiv2mVomwXZAmbvqnVjYvN3zaMF9lj6qb9WsMVo5gmWw2h\n",
       "zqPH95YiHZ/VMbuii05Z2iwmv7yTgG11sqZ5LZOR8yRkijIyuLUMu71S0DX/BeQxMRiD6BwuOvhv\n",
       "AnNFKDRiuhtlWvJFTBcbcbmu0bRg7UQZssRMkKnb6p9nvINUAXpBQQAAAF1Bnh5FFSwQ/wAAAwBp\n",
       "b+77aphb2dAAJh2sHIupDm/A8rVW67CQqLCaMMZxqPa/1j1NcqW0jb39CC6SlITJAhBl2fgHjKIs\n",
       "QkiiB7MMb2EBlbv+QufY442nGyxAEXAAAAA4AZ49dEP/AAADAOf+e/LVfHWabBWnp+OPT/qgjkrk\n",
       "4gBKK0GJApWUECJNq2T9QDgfOW8tYqHAC8gAAAAvAZ4/akP/AAADAOgF99BehKauFormjD/oNeum\n",
       "kErdW6LNF88duSw2u4TH+q9IBD0AAAM1QZokSahBbJlMCCn//taMsAAAFlNk97gJfWR2n350nkwd\n",
       "Re5J/d2ae3hcAdSMd79j3L4Lq7qPKo+UMz6H/ZSBSREYffWIuW8XCCOvPlo3TfFxx5cmryayden9\n",
       "zwFnPqLGWIuQk4Q85elNcSLTFfBKSeIFbO7NdARQSyiYRpaA90rfqdqCVviV+ZfFQZhzKoQ6zv10\n",
       "o0TpJdXlbSBV5dndDqg6TAx5rMLjYXmfGOoKFkTmbGTzpro3dH7lxb3ZezXhr9b+UBVkEBNFxR/I\n",
       "TKX6QnOa/uEIJgeO4Oq9CsW2BzCnChWUEaUVnYsLqpPikc2YbIlZefe2B6ILZfHKVYKqsTZvWGdP\n",
       "eyLjYK0O9E5hR6WimuaWhSoFjjR62U+7OxGNHsy3q4L30FeDIpOGNsvnFo2Wa9qtBj/j8QlxjxSJ\n",
       "KMMG8tVMEkk4mWRYAJYQ0sqI9OGS5U8SKWi5HKZ9S7gYugmKCKcR61oJpGnvfm1WHBOHSPDwH1fR\n",
       "dgQbhc9JRrR5CD2dyAcWEpHzKDf82yoAyAF95nMnW5+l0aQEtO3HnuvvtjKbNVRWGuEXKgubB3Ee\n",
       "oUiWNDUVGoRhLP+C7H8qijwkR8Zzts3/tMuMmkw5yVSq9FheyWvt5qhelrKAyg5vjX51hHcT7vwd\n",
       "0H6uiYa6Jx7khA0X5CH+HJJ8Kqi5JI2EIsDXNG5gH/X78pwzwN6xbhNhAZ58Aimz54Lne7VSAFWE\n",
       "rQ8rRek4GIIMu178E42z5LSg4yjT4wSlJihSH1aePJfSsNrjGegjTxJOKAH0Rc1Qnx0Rtx+1Scj4\n",
       "JOGN4HEMeg/M6TJJ45hZstBJgpYh0Wma2v+DJbJ0BJa6CCH+z0SPNOtJntzjJIF11nX8QhP7/ywZ\n",
       "MzGHL5EU80o0FqQS098L8KEDXyhnoI6YQ1seQlBYvhXgg7ZpyTJ+C7KfKeqB5pN6oaKQt1dLJZlB\n",
       "s8zb89Ml3cYKmWwyebdLFXi21rEfkokfAwODa6kaG7aJNgTGlLSXONCJusalH14kbwCoguqRuD7g\n",
       "TYKTpUUOEkB0gXSAUTOMrulTJlG2aaXfLnyd4K0Omd3W4kjmNqNZ2drxAFU7ZFMAAABdQZ5CRRUs\n",
       "EP8AAAMAa+8BBX2RRGIrG9x1AB60VEsD9W1Azdzhwxq5ez9Vh5jXnagBhWxd5P6Au6sTYN8oKLIj\n",
       "uF/5z5+FLBO+zyDevXW4Apql6HPqpxzeAMgAAN6BAAAAVAGeYXRD/wAAAwDthAu8gCJu7mOXXbxK\n",
       "leFwdESeHGWz1EnVdo8GPBLqNfWM6jWo8N8rjs/jAh0j+YDCi0JTSNydEG+Av5CMquoaUJTZKxuw\n",
       "fYALaAAAAGEBnmNqQ/8AAAMA7Xq+jnJKC8GwcuAqh2NIV/cTivE1BhJKYdjVRzzG6PJfk4Qpj/yh\n",
       "xJ0YiYs8VE+rsz3RYsfIueqvZhXgADcAJlE59YlvquXNoGvB6/PrIeB3v1cAALKBAAADJ0GaaEmo\n",
       "QWyZTAgp//7WjLAAABZTa3OVvasAJRjrrePsbaaCVuxAHgSYFhcCatyYFCpcfs35oU6hkxLJpWMt\n",
       "Ax5vadc+06lRwoQLl/I3KHWgo63c4e6HeAjAJ8TIb7YuZWd0kxO+67pNqkydqFFs58CNjXWZfaqq\n",
       "A83mXhT+lJyYMtmK+dAa8M2ZuwJXszlMn8RdJ8ArLl7/ooljowqQW6a0NUVMO8o46thqraveHhYF\n",
       "MbGJwVhKemow7voTrjwiMkfy6WDsHxF8DfZChALvB5FLbDiDdvfmCXLynZAHgsWCE4a1b/zE/P1d\n",
       "VMui8w+jOb8W2/dXzjNcQMNxr33xapVFgjfUmL0hMGYnyJUiGxnauWKa4dxe/c7oZQjIBbnGuyTA\n",
       "lefaGCX7Z8GsTdoNeFgQBm+E2D+bsd+4bXmTTKhhuBJAC8gr+3NxihxTZg3ERrgg1gpI1+G3INk9\n",
       "uOlAk2C3pFp78GbA1Aqm32sao2Se639mW0v4gP2c22xTx58Kz1kivFyyooiy0k7nflG5stYz3OKm\n",
       "basF7dvNS74OMWBK20UyoSF6xgPPX8qvRxCOl5oLK/oxfb+qxLB43dbmw8cYkqmD8ojfr6Roj5CY\n",
       "TDgeTsGneCd/l+nBTAPucYwE1JRxZRjBvIedFmF5ulPum/wdsg9CDmegsl5tXCyCFvaJzcDVYyYJ\n",
       "bB9o6ZUNiThT2v2iCYnHcE6JmuQPVQLXNQh7++bXbK/srXUTQc45v1MoBowt54nXTdvpYPO2iohc\n",
       "fcT+ETYcn2gCJzzjQA+nnz9o6Ee+LaiwvyiJUkVzqBcS89EfdSKfxYK9y/eeMkyMgUx0x059Ynii\n",
       "NjVakjQ33Q6DyspX/JG6N1D3dQQBKfw9qITRdkOxjVVZBXgeshw+bNszBJHowglW5pdz3omiUVsF\n",
       "iVc++Dc7XIpZH3mVJFB3nX8TRCFocI2EhdahkxDElGzdeO7ABGHhSW80UhQw8DU76vN0anYICKMp\n",
       "Q1Hu1gW1scExuRrHCByFmqt4RaR/Le1zHx95Vf8M5ZbG9ytPR0vdt0x/M+wXHosMUSVR41rA8Sy4\n",
       "55ZNuwAAAGhBnoZFFSwQ/wAAAwBr7FNKS+Y4v5rAGgyNWiigyqjWCDWTW+a0eiR1V0y1fLlgtIWj\n",
       "DWi7gT0+LhOLf7YpgoNk0mls5dMTjfXCPX1yagGHoAWOsyPHa5M8OXpMDWc9rlS1raplOABSQQAA\n",
       "ADUBnqV0Q/8AAAMA6Hl6AEXF5uLWS3UilYsAXwznAw0gM5F/qVXccAc0mpOe+tkkY9Pf5ADKgQAA\n",
       "ADIBnqdqQ/8AAAMAVBPd9p0DTPjrCEkpfaRpV59N+dQPJQDtjvwBhzUnNam/JgBiwtAWUAAAA3VB\n",
       "mqxJqEFsmUwIKf/+1oywAAAWbBthSe43fLoAVzybg4CSn2KCgOH84d9ZhYkGqrIUU5dD1iNWoyxD\n",
       "hFXZUm6Elp43CgRaytpkrmThhu35y4p/DnZp2Zwm27UgcSuJ4/7DXRUf9blRqs55hJjT+L0P6qCe\n",
       "zbVZpH/hnTreTOCq/+aL+vz/RR4YzzKHrftoPoNgbLjtqSRr4DtVLzvPLIsAUmzR/y38TGvs3XJ6\n",
       "2UhV82d8cAPNOJ4MgPAwOLzHumx8SIbkUs3lIZc4g86eoO9ydeTLdr6wwrK/37avypdM0fGanHsp\n",
       "aAng8UuSY150tC5vDFWpDj2MuvdUChFKR0/x0CRJrLbARPdhPzzEHkrv+vmUhWO1XvSmwYQs9wN4\n",
       "MSwHoSNnarHLFXz3yksZNPo7f9grj4ByYgJOoah7Fdh/6eqNwPt1UbE7Y9IZZ2A7t9BaxwHV3fRG\n",
       "lBbFfnZLPzkMkMXQc092nJ7TgkAKnLAiV5npQqi1cKVLO0LSa1+75zb6pw5/cfv0bkP7RH05fe1k\n",
       "1rK7POC8cCmTTho+PoGh2AbipUKAWj98ovb2Dd488ZNeZKz/WAKNGCdbiOYAQgC6lMCVltxh0IC4\n",
       "V8wMfujnDc5KfK+lcHf8HJxH/Dxlt0QZFARNYSQPsjIaVZ81twykrnJaNO2IhkI2wD/CHVzsITUz\n",
       "rLyxNn5AAdRfI28pRlIIa48QP/p2cT/7vBIBqf1SP/U3rGBoWOsVC/8dXuH34OPx8XCaFey/MwNS\n",
       "D5UBzTH5SOnXCpxendeKAKLxVx3u5CiVjhpuZEDBpnANImw9dhnLMRLze/zN1gt+pnvz4g4cJ4Vl\n",
       "qocZTOjCKOqdKqUenLdK7zB3tq7PHvZbZNtbb5bjVQGz87lAGSitjwN98K+w9jXNkU+aQ5ijTQv3\n",
       "lisyK/mzK3fr/y8aVkXH3vDpurYRGx/u2eIAt7qebzs6llo5VuOIIAccpbfH/dg9MWA5apyAUz5i\n",
       "jIEd3q0fK/4OQvMZ0TPZYG+bjrGeXoSN1xHepiGGZMLnDubhZxBxsHNzuEEaCliUVGDN68qrxYJS\n",
       "eK22Xe+UDCWVT8DnM9Bnk8hfteTl32wI0gxCZh+kQBGNoYS0Ti9BZOVEtVT9kRbA0CBlcNPuGLPc\n",
       "x16RjtlfiHmSt7H/VTgEsnZnv3/F0bkdiNzYGeAAAABZQZ7KRRUsEP8AAAMAa+xTM+UQ7zsg/NVI\n",
       "4qV0rgE7UrtAT7Eq8DRwe90AowCRHY561YTNMAEmHZR/9xVy2wtEWhFsjMuAIhc2oshOFP4qAUv2\n",
       "gui7ePYAKSEAAABHAZ7pdEP/AAADAO2HF1d1AonM/LukDztf+0Ci4z87hRbvvACmYm9+h88LL31W\n",
       "y18zYZiqhL/uFqAS7EBx7Kf3hHPQFR6gCNgAAAAsAZ7rakP/AAADAFQOgySJ2D/CfJVBpmuVPmuR\n",
       "a4jL71lRWmcon+fYX4MACLgAAALgQZrwSahBbJlMCCn//taMsAAAFlNreqAA3DIfEd7ckq2XMPCY\n",
       "hm0L3RdgzQIKfx9ugeFsAHPlmgZxofb8ekncwowrrpcoSBURM+uy3o8U7Pqr3KShJ+2fmKRGUMNk\n",
       "9lf5MGTcCm2+e3Xa3vdYzX/eqisEolsb/tBzlLKFTDsYJer0J8/wJv7rI7ZHepG/dmjkFRfW10SM\n",
       "4Dt3mQ7RyJAwN8z68QUXH6f6IEFhgnjmgmSO+aPKzVhITP+KKkat1o2RAlU7JRkGg42f2Um6ypd/\n",
       "vZGoO8sVoK4SxlksdvTpc0w4MvdHTqldcgMuH2z5LjkNpnSErxdj0dkN7MhglQyYAaTybpD6J6bq\n",
       "2K1MHkwLGDEjKpoyCm0QDXkLScrSSTrT+BttNf9394EVf/I6fnYJa9Lx1ikyuPGZT0DCJDRUei5H\n",
       "A6Lp0nP9L3TOdDzaQsJ86C9xxzwVHwjS4Hf8budRHGia00LcejIbkKC7y8xx+PYjlC6tlEAITwVE\n",
       "HUe1oDvwGyywwsnd9lrfEASeRn+L6uddhHI4hzSbkoexYSpe1ZB5CcIEcscU5eEeCcWE/eSdfy8p\n",
       "yrmOKyw1LpHH9b7GS32uREI97+HXTRE6l8YGX2Z6571BhTCYnEQn3vgbq0tLOFC2flyOTg09X0Dt\n",
       "n2P/TcLbPupHG7aFOlrj2Yyp/4G8SURlHiHpUGCCrslWO/CC4eShv+I+0GLlpFzRlbvuYLb5FIng\n",
       "b/6NTc0IvwJ9Wfy1tbQJg58KVelgjEoTGCbhOOYSngtkwb/+qhjwLyUbAROjIt9lwNyfBqTfSCZW\n",
       "6QuETesDZj9yfxGvxsL7UCNiGAKpigkN9FQT2s37hzkl2H1pH4ZRp29M12ps3dbQDVAYANkOFTx9\n",
       "qngVZqInszXwOYc8/TD1/oL7bM1jxol7XlBJz0WZYKla2huocXXCmdkSAlhlO/fl8X3ms2jHqiCS\n",
       "fykfbf8ZBAZ5Oj90EQvoQQAAAEVBnw5FFSwQ/wAAAwBrzP+x6niUfe2qJ1khrktm4GOgfr/l4G1l\n",
       "E6xKpjojIpF6Ubkin0eMz7Gt6Y5UrWiJljaOznsAG/EAAAAxAZ8tdEP/AAADAOfH5hyYXKsq7hPj\n",
       "m5O6tfDAJWxtB8CAniyRUlLJeI3AnuAngAAqYQAAADYBny9qQ/8AAAMA5+rzll/jruZsafvy8dPc\n",
       "TdBKDR2rEyT/UD79vW/0Gw407tXdrFdZx6SAFTAAAAJrQZs0SahBbJlMCCf//rUqgAAAVw2nyZ/G\n",
       "VYAjz9U0sNL+FglrCID15Tw+ZCE6EkFLSCd1BniOFI1cdH7TSyQABE4UXJiLGqRn4j8ycqq8ITMU\n",
       "FBNzgkXPqnazyzoG08hBWoiNOXJK3Qawfmona3SkM359zMVwUVM21cOuEkEjZKHPGM4+pTtAbehh\n",
       "KkZbVweEIDB5XDkgWrqXiuQ9Aqp1hbvXr1zJabrvMozrZPyE1e2lAJHSWvJ3EMRAFQGQr0oVETwA\n",
       "juK3zfGhFIgTK8e1D2VC/1iZlyOSrSZlnObKaJ6JgS1xceRtI7MyflrPxBASCBIyCrO6yawaDlux\n",
       "wC4FHkdYJ7XwNktbavRrbZTH5Fyra6TmODmvmpZgNv/azL69IU3kT6NHIGv1+Yy2Nj2GxL5M0l10\n",
       "gAVqSELaSIXH42WbACM/OpBnXYFoS3KMjTQKUnLxpgvyBGQBUYKgvYw1648ENgCIjWmpGW/tFhvY\n",
       "AxtdJDB4Z1US/zzP70xnPlaGeh29QyDgvtSocgr4VPzVlzrLTtu93PWvuqkF2AYQwgPYESZxiNiO\n",
       "WVQ/Odg5drbHOx6DRT51ILiUtjVkGm/MI2vfWWc1Kr6iDdDbtUBC6YY8xn7CzFo9yt4aMPQchKAI\n",
       "f12QfncdBUpxQr403c5olYyZ/1xMBSFqCipR+j/a575t8j14KgeiENHBgTHD5TXgfv+UFUHFcxJL\n",
       "rxGpYf+G6Pp/uggdC04SC3WAoNjkx2zt6B3KW3aFVo7HfZlN9jOnXbP3Q7HnRzJhrmmVkDt3gxmi\n",
       "psLrAlf4p3VzEd2/2j9v3Kq5fFwqv8TiMwAAAGRBn1JFFSwQ/wAAAwBq2RDMWD27rlfJEmMYZML+\n",
       "D/dxt2zCYXsLOaivSemSJk+HQeQy3ua1mazzbckOjNrcIFDkpZfummS5dpfuwS6WdGB71fY5EhRz\n",
       "IvCetpIFwZImT2izIgFlAAAATQGfcXRD/wAAAwDthAyLoImd72WgPHKLDVNcqcuTBroxVU7CwOnN\n",
       "oOIg1YA0lx0jM2V/qAxFVVpR+jFoiU1BsrpyDMCloHMVvY/m0AQ8AAAAMwGfc2pD/wAAAwCKwbOX\n",
       "UanU5ni+yWehv+2FA7VaG22XbKMd8wyGHphlrzCDQilIiAAqYAAAAnBBm3hJqEFsmUwIJ//+tSqA\n",
       "AABXDahZPEAUYCXpISYqyZhgdsipJcz4kUD6b24UD74mU6vn+h6ZMU7iCnVk6JIT9v1NE4CEEBVM\n",
       "cPxF1O0tWNimixMnSBPwByZQfCPQOkgHfWJ/+JTnwlJuCEnhPhcEk+38+ODb58/N7ES7j2ZnNYGU\n",
       "8JUxJvOB8fWJKipra4rtT3O3/1b6SXlkcRrtTqAlvHlq85Qr7UXGPg1JNKqbxfI1iFeD/pVvJc+z\n",
       "rjYAO1d8DKhsdXGfiEpIzUbB9d1eHC+JifoJ4W8k2Brfun/9b4svr75fJImkz7L/tMxOipWqMYYB\n",
       "pghVvmKUrqYbWpg+tlBohpDYXdpxo+LqTfCeZ68SK9fGulaibwtFZu1KKCe2V6s8fsSlL4H4rIaZ\n",
       "Y/qURuMYVPRi63AhGk5EHQxwfhkfQBbpaSFrfukxaXSxM/KvvApKBEd7yTS/Us+P02pC5WM1vT+5\n",
       "fYV1e6JUr6T0ALL3NxNuJgHsy9U0Wm8q2Y489ucdCWqq32CkN5iQP/kI+RwLlYkFwrAphVdgySDQ\n",
       "n9Bx74p9QgH6D1C+jUZ/24xcRN3zwsKItvKk6tx7xGeBJ4fZm2odaA+VR3tAtozsJIQNlBHsvRgp\n",
       "bWom6hf44iDsgZlITvVQ3b7VDyv6gjriP7yHpBLYclV+U553d6i+qRC7IdKSZ/yyPXdcswMaC6lo\n",
       "OcVj+B3g2LoO7MUoh+kqtAyDYZByTZQwZQLi//9hTE4qkAu0h6r30hKC33IFhDa2L4KUqpVYIlh7\n",
       "BRARXOc0Cfnuw1G+J3W8yE+l/NSn/Trt7vg3jTy4BVvKeMdGvJEAAABbQZ+WRRUsEP8AAAMAa+xJ\n",
       "2zbw/ie6nxP4iGf0maw4vUKWFB+rmAZQyCmLQEGD9EE28SeexwEZ+zezuyCm2cAcQJpKM3kRpaLP\n",
       "92AcbmTBwBZfkUaMGbuqpRgDfgAAAEkBn7V0Q/8AAAMA6AQRGvB7v4r9XRLS76fsRINkrXe6Y9ka\n",
       "WCZP4YN5CZJsSFsDRAnSCO15SZ6x24yp6ohY599C8BDVBE7fAGLBAAAAOAGft2pD/wAAAwDnlwH0\n",
       "1kFIpxqZa5kWrX7Sy+8anoiDDoLcSODBq+Qkr8umkpyGxX4izCRf4A1JAAAB9UGbvEmoQWyZTAgn\n",
       "//61KoAAAOp/SA9NZLwkgA5NIGnURY46hY5kxARQKvzkvm97tIaY6/XHy//MPrHv+kWKvFtOkHT1\n",
       "1rBq5/iZIPgwPOcTozTsyxijSKAOtDOYdKntaHLcn6AsU49FI0+2qMoj3PK+OUCUwodS35EXjjE1\n",
       "smUcRUiKuRjDQwjwco/eKJfGve/DSPZYwLYKohZf/YN0SZ/Nk4nBwdTyOiuduy/WhthbnWiblxYb\n",
       "qzb3IvtjqYAtuh/T/28yGTKoBScAT4IS1TKKO6tzjMsz1MylkbfAHlIVeSBfC4xc66hHJxJ1OTgc\n",
       "qp1iVFbO5JLXOqfSEJdtGj+RbbK0+UEKSYrQtd4g+r00A6bRT9PwxXzAttWDYdjwGlHLHuvpHF4R\n",
       "4OgcfF7ellu0Xg7P7ZE810W/apIkWYFrbp4zB0INh3lsCaP+ZPlk5FcLWGgqFrwFIgR1PJz16a0U\n",
       "BvhhAPXIuicVICtvxYDnUdtGgqZeBRkeIQ6JDVzRJIlyEdPB3H92XUmU4NAtaPqIVqtzQb5R3ITh\n",
       "Zm8fXccGmr3Ays7BaU2/wPNIv0M3Guzb3Q5e2xyby45zg8yyNKiIlSjIZ16zvmnZoUO+4hp96gCa\n",
       "FqaV2MqUR0t0QOFCJjTxtQHJowfTtE1hNf9lhoMW/q/R/gAAAEdBn9pFFSwQ/wAAAwBr7GMaHycf\n",
       "YN4g47R2F78FFpfqyTR1Ci3ZgFw70veFBd6eQMWLv+DDQ5P/RUUagMYiWwvv5gu5lAADKwAAADoB\n",
       "n/l0Q/8AAAMAiq5THFyQQG9rNZbMLBYkSsSPrTBmVZk5okyVRGK2Hkphh2YfAyMgTvZjJ+nkAHpA\n",
       "AAAANAGf+2pD/wAAAwDn+QiN6yyfpNPlyXHixmTMDnhIDfNsVs+zoKzZwGD5rCoPPl7kexzoAUEA\n",
       "AAFeQZvgSahBbJlMCCX//rUqgAAA6Uc3EsA3BPFtuSFqQMMYrH3KD7YL4ucBsSAC08OWql7TcKcl\n",
       "FVFb5e8l6au6zJuO++YvEytl0ZujPoOaw1jKvH/nFIBHQ12h0Z5Wab8yiDfJFbJuYbu1XjIEJ+ph\n",
       "C8lqbs++bdezWhuCLk6Qq2aYsqXSHi8NjAxe7FfL+Yejre+fV9SxNraMrw4mE3VsTDbfRZBXlAcd\n",
       "1e4rEF/a+c88XPTkIAwYnsJhB5qoom5aJ7Be2i0wbudycA2itvF5gWxZpxaf1KOV5Hbaqz0a6/dm\n",
       "B1qBICihI9zZ0ityKInozViRvfdSQnyPc4QBfauZZ9Ob2QHyd1nnKjxrhU7VdKLG3LBXTZWaGbkN\n",
       "ZkoCslNVfCbdbzUAAIpRUJ3ZQfpCnNa1zQq58FUo+NNgg3brFMKYymVJrovKkNk0V9ImL4Zf8Cx9\n",
       "/qUvBFDpJ0Fq5nsAAABdQZ4eRRUsEP8AAAMBJVqwQ2qjSMj+8Y2gY+caHIhnz9/EBQcHdKeNoIc/\n",
       "uXCbRPYqVDzGSM1EN5aXIukwyn1swKgBDbuAwGGjZBoYS1b2LKFc3Gv93/uKZnFlngGBAAAARgGe\n",
       "PXRD/wAAAwDoB35IyPE/UuagSc+moepYbohuQP7jmFqluXSC/T/Wr+kFk9YHKxMrTQ8LItiGXrpq\n",
       "dsEeZOdZ5G8wB0wAAABEAZ4/akP/AAADAOfq9UfqHSs8fqlgbZL0OiWiFPU/lP5sgYki/nrcn0Z+\n",
       "HA9g/8WcABvzktxnlU5UTUL+uFvSI1WAAu8AAACYQZojSahBbJlMCH///qmWAAAHSTZx535WHcP9\n",
       "o1A4ip98o/rhW+53F1vgzWnhWfAB/RJPrSVlldXu5dwf2yhSWtIfU6dHcODMEc16Lz8HTisM1yKA\n",
       "v38EZLOFsZloMJqPmNR2AtQjDId9oh0agVAgCe6eN5IPGS03Lnh8BqlQpo98JrXekyuANnrWDTUZ\n",
       "bI27Q+9l3//O84AAAABeQZ5BRRUsEP8AAAMBLV6kHDXVP9AGe5/wYcD3nVn3sokaSEYB08eMzt0e\n",
       "VgFOPj6nBVZ3tbRszmaMU8Iegk/Mk+Zn35mZiiMFgdB/jcapUjfVq/VAAXRDJvLOAzUyGQAAAEIB\n",
       "nmJqQ/8AAAMCoJmJi9ACOMLLHvxYh7u507IiBPUjsCrMeGEdVEx2gU4S8tgS71IYqNECzoN3wYFW\n",
       "5HPmC+IgBSQAAAfabW9vdgAAAGxtdmhkAAAAAAAAAAAAAAAAAAAD6AAATiAAAQAAAQAAAAAAAAAA\n",
       "AAAAAAEAAAAAAAAAAAAAAAAAAAABAAAAAAAAAAAAAAAAAABAAAAAAAAAAAAAAAAAAAAAAAAAAAAA\n",
       "AAAAAAAAAAAAAgAABwR0cmFrAAAAXHRraGQAAAADAAAAAAAAAAAAAAABAAAAAAAATiAAAAAAAAAA\n",
       "AAAAAAAAAAAAAAEAAAAAAAAAAAAAAAAAAAABAAAAAAAAAAAAAAAAAABAAAAAAoAAAAHgAAAAAAAk\n",
       "ZWR0cwAAABxlbHN0AAAAAAAAAAEAAE4gAAAQAAABAAAAAAZ8bWRpYQAAACBtZGhkAAAAAAAAAAAA\n",
       "AAAAAAAoAAADIABVxAAAAAAALWhkbHIAAAAAAAAAAHZpZGUAAAAAAAAAAAAAAABWaWRlb0hhbmRs\n",
       "ZXIAAAAGJ21pbmYAAAAUdm1oZAAAAAEAAAAAAAAAAAAAACRkaW5mAAAAHGRyZWYAAAAAAAAAAQAA\n",
       "AAx1cmwgAAAAAQAABedzdGJsAAAAt3N0c2QAAAAAAAAAAQAAAKdhdmMxAAAAAAAAAAEAAAAAAAAA\n",
       "AAAAAAAAAAAAAoAB4ABIAAAASAAAAAAAAAABAAAAAAAAAAAAAAAAAAAAAAAAAAAAAAAAAAAAAAAA\n",
       "AAAAGP//AAAANWF2Y0MBZAAW/+EAGGdkABas2UCgPaEAAAMAAQAAAwAKDxYtlgEABmjr48siwP34\n",
       "+AAAAAAcdXVpZGtoQPJfJE/FujmlG88DI/MAAAAAAAAAGHN0dHMAAAAAAAAAAQAAAGQAAAgAAAAA\n",
       "FHN0c3MAAAAAAAAAAQAAAAEAAAMoY3R0cwAAAAAAAABjAAAAAQAAEAAAAAABAAAYAAAAAAEAAAgA\n",
       "AAAAAQAAGAAAAAABAAAIAAAAAAEAABgAAAAAAQAACAAAAAABAAAYAAAAAAEAAAgAAAAAAQAAKAAA\n",
       "AAABAAAQAAAAAAEAAAAAAAAAAQAACAAAAAABAAAoAAAAAAEAABAAAAAAAQAAAAAAAAABAAAIAAAA\n",
       "AAEAACgAAAAAAQAAEAAAAAABAAAAAAAAAAEAAAgAAAAAAQAAKAAAAAABAAAQAAAAAAEAAAAAAAAA\n",
       "AQAACAAAAAABAAAoAAAAAAEAABAAAAAAAQAAAAAAAAABAAAIAAAAAAEAACgAAAAAAQAAEAAAAAAB\n",
       "AAAAAAAAAAEAAAgAAAAAAQAAKAAAAAABAAAQAAAAAAEAAAAAAAAAAQAACAAAAAABAAAoAAAAAAEA\n",
       "ABAAAAAAAQAAAAAAAAABAAAIAAAAAAEAACgAAAAAAQAAEAAAAAABAAAAAAAAAAEAAAgAAAAAAQAA\n",
       "KAAAAAABAAAQAAAAAAEAAAAAAAAAAQAACAAAAAABAAAoAAAAAAEAABAAAAAAAQAAAAAAAAABAAAI\n",
       "AAAAAAEAACgAAAAAAQAAEAAAAAABAAAAAAAAAAEAAAgAAAAAAQAAKAAAAAABAAAQAAAAAAEAAAAA\n",
       "AAAAAQAACAAAAAABAAAoAAAAAAEAABAAAAAAAQAAAAAAAAABAAAIAAAAAAEAACgAAAAAAQAAEAAA\n",
       "AAABAAAAAAAAAAEAAAgAAAAAAQAAKAAAAAABAAAQAAAAAAEAAAAAAAAAAQAACAAAAAABAAAoAAAA\n",
       "AAEAABAAAAAAAQAAAAAAAAABAAAIAAAAAAEAACgAAAAAAQAAEAAAAAABAAAAAAAAAAEAAAgAAAAA\n",
       "AQAAKAAAAAABAAAQAAAAAAEAAAAAAAAAAQAACAAAAAABAAAoAAAAAAEAABAAAAAAAQAAAAAAAAAB\n",
       "AAAIAAAAAAEAACgAAAAAAQAAEAAAAAABAAAAAAAAAAEAAAgAAAAAAQAAKAAAAAABAAAQAAAAAAEA\n",
       "AAAAAAAAAQAACAAAAAABAAAgAAAAAAIAAAgAAAAAHHN0c2MAAAAAAAAAAQAAAAEAAABkAAAAAQAA\n",
       "AaRzdHN6AAAAAAAAAAAAAABkAAAc6wAABmMAAAFEAAAEhQAAAL4AAATOAAAAuwAABBgAAACOAAAF\n",
       "xAAAAPAAAACMAAAAgAAABN4AAACGAAAAVgAAAD0AAATAAAAAqwAAAFoAAABfAAAElgAAAH8AAABY\n",
       "AAAASAAABNMAAAB7AAAAVwAAAFgAAAPAAAAAdgAAAEQAAABOAAAEKAAAAH8AAABOAAAAPAAAA+EA\n",
       "AABlAAAAQAAAAFYAAAPKAAAAhwAAAGwAAAAwAAAEVQAAAGwAAABIAAAAPQAAA9UAAABsAAAAUAAA\n",
       "AD8AAAOGAAAAVgAAADsAAAA3AAADuQAAAFcAAAAzAAAALAAAA9gAAABhAAAAPAAAADMAAAM5AAAA\n",
       "YQAAAFgAAABlAAADKwAAAGwAAAA5AAAANgAAA3kAAABdAAAASwAAADAAAALkAAAASQAAADUAAAA6\n",
       "AAACbwAAAGgAAABRAAAANwAAAnQAAABfAAAATQAAADwAAAH5AAAASwAAAD4AAAA4AAABYgAAAGEA\n",
       "AABKAAAASAAAAJwAAABiAAAARgAAABRzdGNvAAAAAAAAAAEAAAAwAAAAYnVkdGEAAABabWV0YQAA\n",
       "AAAAAAAhaGRscgAAAAAAAAAAbWRpcmFwcGwAAAAAAAAAAAAAAAAtaWxzdAAAACWpdG9vAAAAHWRh\n",
       "dGEAAAABAAAAAExhdmY1OC43Ni4xMDA=\n",
       "\">\n",
       "  Your browser does not support the video tag.\n",
       "</video>"
      ],
      "text/plain": [
       "<IPython.core.display.HTML object>"
      ]
     },
     "execution_count": 55,
     "metadata": {},
     "output_type": "execute_result"
    }
   ],
   "source": [
    "HTML(anim.to_html5_video())"
   ]
  },
  {
   "cell_type": "code",
   "execution_count": null,
   "metadata": {},
   "outputs": [],
   "source": [
    "`1`"
   ]
  }
 ],
 "metadata": {
  "colab": {
   "collapsed_sections": [
    "fT9sC0UKb12E",
    "HsV1gX3Ge-WC",
    "nNPjMZiwvwp6"
   ],
   "name": "0214_MPNeuronAndPerceptron.ipynb",
   "provenance": [],
   "version": "0.3.2"
  },
  "kernelspec": {
   "display_name": "Python 3 (ipykernel)",
   "language": "python",
   "name": "python3"
  },
  "language_info": {
   "codemirror_mode": {
    "name": "ipython",
    "version": 3
   },
   "file_extension": ".py",
   "mimetype": "text/x-python",
   "name": "python",
   "nbconvert_exporter": "python",
   "pygments_lexer": "ipython3",
   "version": "3.12.3"
  }
 },
 "nbformat": 4,
 "nbformat_minor": 4
}
